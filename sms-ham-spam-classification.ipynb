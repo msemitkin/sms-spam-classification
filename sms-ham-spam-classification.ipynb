{
 "cells": [
  {
   "metadata": {},
   "cell_type": "markdown",
   "source": "# sms ham & spam classification",
   "id": "537b68edac8971e2"
  },
  {
   "metadata": {},
   "cell_type": "markdown",
   "source": "## 1st we know how countvectorizer work\n",
   "id": "cc91ade8d927bdad"
  },
  {
   "metadata": {
    "ExecuteTime": {
     "end_time": "2024-06-12T17:00:16.715149Z",
     "start_time": "2024-06-12T17:00:11.137577Z"
    }
   },
   "cell_type": "code",
   "source": [
    "!pip install scikit-learn\n",
    "!pip install pandas\n",
    "!pip install seaborn\n",
    "!pip install matplotlib"
   ],
   "id": "7d86cc237cdf6f95",
   "outputs": [
    {
     "name": "stdout",
     "output_type": "stream",
     "text": [
      "Requirement already satisfied: scikit-learn in ./.venv/lib/python3.9/site-packages (1.5.0)\r\n",
      "Requirement already satisfied: numpy>=1.19.5 in ./.venv/lib/python3.9/site-packages (from scikit-learn) (1.26.4)\r\n",
      "Requirement already satisfied: scipy>=1.6.0 in ./.venv/lib/python3.9/site-packages (from scikit-learn) (1.13.1)\r\n",
      "Requirement already satisfied: joblib>=1.2.0 in ./.venv/lib/python3.9/site-packages (from scikit-learn) (1.4.2)\r\n",
      "Requirement already satisfied: threadpoolctl>=3.1.0 in ./.venv/lib/python3.9/site-packages (from scikit-learn) (3.5.0)\r\n",
      "Requirement already satisfied: pandas in ./.venv/lib/python3.9/site-packages (2.2.2)\r\n",
      "Requirement already satisfied: numpy>=1.22.4 in ./.venv/lib/python3.9/site-packages (from pandas) (1.26.4)\r\n",
      "Requirement already satisfied: python-dateutil>=2.8.2 in ./.venv/lib/python3.9/site-packages (from pandas) (2.9.0.post0)\r\n",
      "Requirement already satisfied: pytz>=2020.1 in ./.venv/lib/python3.9/site-packages (from pandas) (2024.1)\r\n",
      "Requirement already satisfied: tzdata>=2022.7 in ./.venv/lib/python3.9/site-packages (from pandas) (2024.1)\r\n",
      "Requirement already satisfied: six>=1.5 in ./.venv/lib/python3.9/site-packages (from python-dateutil>=2.8.2->pandas) (1.16.0)\r\n",
      "Requirement already satisfied: seaborn in ./.venv/lib/python3.9/site-packages (0.13.2)\r\n",
      "Requirement already satisfied: numpy!=1.24.0,>=1.20 in ./.venv/lib/python3.9/site-packages (from seaborn) (1.26.4)\r\n",
      "Requirement already satisfied: pandas>=1.2 in ./.venv/lib/python3.9/site-packages (from seaborn) (2.2.2)\r\n",
      "Requirement already satisfied: matplotlib!=3.6.1,>=3.4 in ./.venv/lib/python3.9/site-packages (from seaborn) (3.9.0)\r\n",
      "Requirement already satisfied: contourpy>=1.0.1 in ./.venv/lib/python3.9/site-packages (from matplotlib!=3.6.1,>=3.4->seaborn) (1.2.1)\r\n",
      "Requirement already satisfied: cycler>=0.10 in ./.venv/lib/python3.9/site-packages (from matplotlib!=3.6.1,>=3.4->seaborn) (0.12.1)\r\n",
      "Requirement already satisfied: fonttools>=4.22.0 in ./.venv/lib/python3.9/site-packages (from matplotlib!=3.6.1,>=3.4->seaborn) (4.53.0)\r\n",
      "Requirement already satisfied: kiwisolver>=1.3.1 in ./.venv/lib/python3.9/site-packages (from matplotlib!=3.6.1,>=3.4->seaborn) (1.4.5)\r\n",
      "Requirement already satisfied: packaging>=20.0 in ./.venv/lib/python3.9/site-packages (from matplotlib!=3.6.1,>=3.4->seaborn) (24.1)\r\n",
      "Requirement already satisfied: pillow>=8 in ./.venv/lib/python3.9/site-packages (from matplotlib!=3.6.1,>=3.4->seaborn) (10.3.0)\r\n",
      "Requirement already satisfied: pyparsing>=2.3.1 in ./.venv/lib/python3.9/site-packages (from matplotlib!=3.6.1,>=3.4->seaborn) (3.1.2)\r\n",
      "Requirement already satisfied: python-dateutil>=2.7 in ./.venv/lib/python3.9/site-packages (from matplotlib!=3.6.1,>=3.4->seaborn) (2.9.0.post0)\r\n",
      "Requirement already satisfied: importlib-resources>=3.2.0 in ./.venv/lib/python3.9/site-packages (from matplotlib!=3.6.1,>=3.4->seaborn) (6.4.0)\r\n",
      "Requirement already satisfied: pytz>=2020.1 in ./.venv/lib/python3.9/site-packages (from pandas>=1.2->seaborn) (2024.1)\r\n",
      "Requirement already satisfied: tzdata>=2022.7 in ./.venv/lib/python3.9/site-packages (from pandas>=1.2->seaborn) (2024.1)\r\n",
      "Requirement already satisfied: zipp>=3.1.0 in ./.venv/lib/python3.9/site-packages (from importlib-resources>=3.2.0->matplotlib!=3.6.1,>=3.4->seaborn) (3.19.2)\r\n",
      "Requirement already satisfied: six>=1.5 in ./.venv/lib/python3.9/site-packages (from python-dateutil>=2.7->matplotlib!=3.6.1,>=3.4->seaborn) (1.16.0)\r\n",
      "Requirement already satisfied: matplotlib in ./.venv/lib/python3.9/site-packages (3.9.0)\r\n",
      "Requirement already satisfied: contourpy>=1.0.1 in ./.venv/lib/python3.9/site-packages (from matplotlib) (1.2.1)\r\n",
      "Requirement already satisfied: cycler>=0.10 in ./.venv/lib/python3.9/site-packages (from matplotlib) (0.12.1)\r\n",
      "Requirement already satisfied: fonttools>=4.22.0 in ./.venv/lib/python3.9/site-packages (from matplotlib) (4.53.0)\r\n",
      "Requirement already satisfied: kiwisolver>=1.3.1 in ./.venv/lib/python3.9/site-packages (from matplotlib) (1.4.5)\r\n",
      "Requirement already satisfied: numpy>=1.23 in ./.venv/lib/python3.9/site-packages (from matplotlib) (1.26.4)\r\n",
      "Requirement already satisfied: packaging>=20.0 in ./.venv/lib/python3.9/site-packages (from matplotlib) (24.1)\r\n",
      "Requirement already satisfied: pillow>=8 in ./.venv/lib/python3.9/site-packages (from matplotlib) (10.3.0)\r\n",
      "Requirement already satisfied: pyparsing>=2.3.1 in ./.venv/lib/python3.9/site-packages (from matplotlib) (3.1.2)\r\n",
      "Requirement already satisfied: python-dateutil>=2.7 in ./.venv/lib/python3.9/site-packages (from matplotlib) (2.9.0.post0)\r\n",
      "Requirement already satisfied: importlib-resources>=3.2.0 in ./.venv/lib/python3.9/site-packages (from matplotlib) (6.4.0)\r\n",
      "Requirement already satisfied: zipp>=3.1.0 in ./.venv/lib/python3.9/site-packages (from importlib-resources>=3.2.0->matplotlib) (3.19.2)\r\n",
      "Requirement already satisfied: six>=1.5 in ./.venv/lib/python3.9/site-packages (from python-dateutil>=2.7->matplotlib) (1.16.0)\r\n"
     ]
    }
   ],
   "execution_count": 411
  },
  {
   "cell_type": "markdown",
   "id": "intelligent-belgium",
   "metadata": {
    "papermill": {
     "duration": 0.037209,
     "end_time": "2022-05-29T09:02:43.981118",
     "exception": false,
     "start_time": "2022-05-29T09:02:43.943909",
     "status": "completed"
    },
    "tags": []
   },
   "source": []
  },
  {
   "cell_type": "markdown",
   "id": "answering-blackberry",
   "metadata": {
    "papermill": {
     "duration": 0.04927,
     "end_time": "2022-05-29T09:02:44.157947",
     "exception": false,
     "start_time": "2022-05-29T09:02:44.108677",
     "status": "completed"
    },
    "tags": []
   },
   "source": [
    "**now we are going to use transform function after fitiong the data**\n",
    "\n",
    "**It will convert vocabulary to number(sparse matrix)**"
   ]
  },
  {
   "cell_type": "markdown",
   "id": "respiratory-tolerance",
   "metadata": {
    "papermill": {
     "duration": 0.037792,
     "end_time": "2022-05-29T09:02:44.323558",
     "exception": false,
     "start_time": "2022-05-29T09:02:44.285766",
     "status": "completed"
    },
    "tags": []
   },
   "source": "**Now we are going to convert sparse matrix to a dense matrix**"
  },
  {
   "cell_type": "markdown",
   "id": "worst-presentation",
   "metadata": {
    "papermill": {
     "duration": 0.038223,
     "end_time": "2022-05-29T09:02:44.826864",
     "exception": false,
     "start_time": "2022-05-29T09:02:44.788641",
     "status": "completed"
    },
    "tags": []
   },
   "source": [
    "# Now be going to work on original data "
   ]
  },
  {
   "metadata": {},
   "cell_type": "markdown",
   "source": "",
   "id": "c62534777356c2eb"
  },
  {
   "cell_type": "code",
   "id": "ecological-relation",
   "metadata": {
    "execution": {
     "iopub.execute_input": "2022-05-29T09:02:44.909351Z",
     "iopub.status.busy": "2022-05-29T09:02:44.908506Z",
     "iopub.status.idle": "2022-05-29T09:02:45.036001Z",
     "shell.execute_reply": "2022-05-29T09:02:45.036502Z",
     "shell.execute_reply.started": "2021-06-05T17:34:38.563341Z"
    },
    "papermill": {
     "duration": 0.170856,
     "end_time": "2022-05-29T09:02:45.036673",
     "exception": false,
     "start_time": "2022-05-29T09:02:44.865817",
     "status": "completed"
    },
    "tags": [],
    "ExecuteTime": {
     "end_time": "2024-06-12T17:00:16.741917Z",
     "start_time": "2024-06-12T17:00:16.718074Z"
    }
   },
   "source": [
    "#reading data\n",
    "import warnings as wr\n",
    "import pandas as pd\n",
    "wr.filterwarnings(\"ignore\")\n",
    "import matplotlib.pyplot as plt\n",
    "import seaborn as sns\n",
    "\n",
    "sms=pd.read_csv(\"./spam.csv\", encoding='latin-1')\n",
    "sms.head()"
   ],
   "outputs": [
    {
     "data": {
      "text/plain": [
       "     v1  \\\n",
       "0   ham   \n",
       "1   ham   \n",
       "2  spam   \n",
       "3   ham   \n",
       "4   ham   \n",
       "\n",
       "                                                                                                                                                            v2  \\\n",
       "0                                              Go until jurong point, crazy.. Available only in bugis n great world la e buffet... Cine there got amore wat...   \n",
       "1                                                                                                                                Ok lar... Joking wif u oni...   \n",
       "2  Free entry in 2 a wkly comp to win FA Cup final tkts 21st May 2005. Text FA to 87121 to receive entry question(std txt rate)T&C's apply 08452810075over18's   \n",
       "3                                                                                                            U dun say so early hor... U c already then say...   \n",
       "4                                                                                                Nah I don't think he goes to usf, he lives around here though   \n",
       "\n",
       "  Unnamed: 2 Unnamed: 3 Unnamed: 4  \n",
       "0        NaN        NaN        NaN  \n",
       "1        NaN        NaN        NaN  \n",
       "2        NaN        NaN        NaN  \n",
       "3        NaN        NaN        NaN  \n",
       "4        NaN        NaN        NaN  "
      ],
      "text/html": [
       "<div>\n",
       "<style scoped>\n",
       "    .dataframe tbody tr th:only-of-type {\n",
       "        vertical-align: middle;\n",
       "    }\n",
       "\n",
       "    .dataframe tbody tr th {\n",
       "        vertical-align: top;\n",
       "    }\n",
       "\n",
       "    .dataframe thead th {\n",
       "        text-align: right;\n",
       "    }\n",
       "</style>\n",
       "<table border=\"1\" class=\"dataframe\">\n",
       "  <thead>\n",
       "    <tr style=\"text-align: right;\">\n",
       "      <th></th>\n",
       "      <th>v1</th>\n",
       "      <th>v2</th>\n",
       "      <th>Unnamed: 2</th>\n",
       "      <th>Unnamed: 3</th>\n",
       "      <th>Unnamed: 4</th>\n",
       "    </tr>\n",
       "  </thead>\n",
       "  <tbody>\n",
       "    <tr>\n",
       "      <th>0</th>\n",
       "      <td>ham</td>\n",
       "      <td>Go until jurong point, crazy.. Available only in bugis n great world la e buffet... Cine there got amore wat...</td>\n",
       "      <td>NaN</td>\n",
       "      <td>NaN</td>\n",
       "      <td>NaN</td>\n",
       "    </tr>\n",
       "    <tr>\n",
       "      <th>1</th>\n",
       "      <td>ham</td>\n",
       "      <td>Ok lar... Joking wif u oni...</td>\n",
       "      <td>NaN</td>\n",
       "      <td>NaN</td>\n",
       "      <td>NaN</td>\n",
       "    </tr>\n",
       "    <tr>\n",
       "      <th>2</th>\n",
       "      <td>spam</td>\n",
       "      <td>Free entry in 2 a wkly comp to win FA Cup final tkts 21st May 2005. Text FA to 87121 to receive entry question(std txt rate)T&amp;C's apply 08452810075over18's</td>\n",
       "      <td>NaN</td>\n",
       "      <td>NaN</td>\n",
       "      <td>NaN</td>\n",
       "    </tr>\n",
       "    <tr>\n",
       "      <th>3</th>\n",
       "      <td>ham</td>\n",
       "      <td>U dun say so early hor... U c already then say...</td>\n",
       "      <td>NaN</td>\n",
       "      <td>NaN</td>\n",
       "      <td>NaN</td>\n",
       "    </tr>\n",
       "    <tr>\n",
       "      <th>4</th>\n",
       "      <td>ham</td>\n",
       "      <td>Nah I don't think he goes to usf, he lives around here though</td>\n",
       "      <td>NaN</td>\n",
       "      <td>NaN</td>\n",
       "      <td>NaN</td>\n",
       "    </tr>\n",
       "  </tbody>\n",
       "</table>\n",
       "</div>"
      ]
     },
     "execution_count": 412,
     "metadata": {},
     "output_type": "execute_result"
    }
   ],
   "execution_count": 412
  },
  {
   "cell_type": "code",
   "id": "bizarre-elder",
   "metadata": {
    "execution": {
     "iopub.execute_input": "2022-05-29T09:02:45.119705Z",
     "iopub.status.busy": "2022-05-29T09:02:45.118821Z",
     "iopub.status.idle": "2022-05-29T09:02:45.123657Z",
     "shell.execute_reply": "2022-05-29T09:02:45.124083Z",
     "shell.execute_reply.started": "2021-06-05T17:34:38.600205Z"
    },
    "papermill": {
     "duration": 0.047146,
     "end_time": "2022-05-29T09:02:45.124234",
     "exception": false,
     "start_time": "2022-05-29T09:02:45.077088",
     "status": "completed"
    },
    "tags": [],
    "ExecuteTime": {
     "end_time": "2024-06-12T17:00:16.745902Z",
     "start_time": "2024-06-12T17:00:16.742851Z"
    }
   },
   "source": [
    "sms.shape"
   ],
   "outputs": [
    {
     "data": {
      "text/plain": [
       "(5572, 5)"
      ]
     },
     "execution_count": 413,
     "metadata": {},
     "output_type": "execute_result"
    }
   ],
   "execution_count": 413
  },
  {
   "cell_type": "code",
   "id": "waiting-exposure",
   "metadata": {
    "execution": {
     "iopub.execute_input": "2022-05-29T09:02:45.206144Z",
     "iopub.status.busy": "2022-05-29T09:02:45.205268Z",
     "iopub.status.idle": "2022-05-29T09:02:45.453844Z",
     "shell.execute_reply": "2022-05-29T09:02:45.454475Z",
     "shell.execute_reply.started": "2021-06-05T17:34:38.610991Z"
    },
    "papermill": {
     "duration": 0.291129,
     "end_time": "2022-05-29T09:02:45.454717",
     "exception": false,
     "start_time": "2022-05-29T09:02:45.163588",
     "status": "completed"
    },
    "tags": [],
    "ExecuteTime": {
     "end_time": "2024-06-12T17:00:16.969692Z",
     "start_time": "2024-06-12T17:00:16.747421Z"
    }
   },
   "source": [
    "plt.figure(figsize=(10,6))\n",
    "sns.heatmap(sms.isnull(),yticklabels=False,cbar=True,cmap='mako')"
   ],
   "outputs": [
    {
     "data": {
      "text/plain": [
       "<Axes: >"
      ]
     },
     "execution_count": 414,
     "metadata": {},
     "output_type": "execute_result"
    },
    {
     "data": {
      "text/plain": [
       "<Figure size 1000x600 with 2 Axes>"
      ],
      "image/png": "[encoded data removed]"
     },
     "metadata": {},
     "output_type": "display_data"
    }
   ],
   "execution_count": 414
  },
  {
   "cell_type": "code",
   "id": "improved-harbor",
   "metadata": {
    "execution": {
     "iopub.execute_input": "2022-05-29T09:02:45.562240Z",
     "iopub.status.busy": "2022-05-29T09:02:45.557266Z",
     "iopub.status.idle": "2022-05-29T09:02:45.565935Z",
     "shell.execute_reply": "2022-05-29T09:02:45.565472Z",
     "shell.execute_reply.started": "2021-06-05T17:34:38.860168Z"
    },
    "papermill": {
     "duration": 0.052796,
     "end_time": "2022-05-29T09:02:45.566064",
     "exception": false,
     "start_time": "2022-05-29T09:02:45.513268",
     "status": "completed"
    },
    "tags": [],
    "ExecuteTime": {
     "end_time": "2024-06-12T17:00:16.979686Z",
     "start_time": "2024-06-12T17:00:16.973017Z"
    }
   },
   "source": [
    "sms.isnull().sum()"
   ],
   "outputs": [
    {
     "data": {
      "text/plain": [
       "v1               0\n",
       "v2               0\n",
       "Unnamed: 2    5522\n",
       "Unnamed: 3    5560\n",
       "Unnamed: 4    5566\n",
       "dtype: int64"
      ]
     },
     "execution_count": 415,
     "metadata": {},
     "output_type": "execute_result"
    }
   ],
   "execution_count": 415
  },
  {
   "cell_type": "markdown",
   "id": "seeing-sector",
   "metadata": {
    "papermill": {
     "duration": 0.03967,
     "end_time": "2022-05-29T09:02:45.645806",
     "exception": false,
     "start_time": "2022-05-29T09:02:45.606136",
     "status": "completed"
    },
    "tags": []
   },
   "source": "Here we can say there are many NaN value in unnamed columns, so we are going to drop those frature"
  },
  {
   "cell_type": "code",
   "id": "raising-forty",
   "metadata": {
    "execution": {
     "iopub.execute_input": "2022-05-29T09:02:45.737026Z",
     "iopub.status.busy": "2022-05-29T09:02:45.736188Z",
     "iopub.status.idle": "2022-05-29T09:02:45.739518Z",
     "shell.execute_reply": "2022-05-29T09:02:45.739949Z",
     "shell.execute_reply.started": "2021-06-05T17:34:38.871318Z"
    },
    "papermill": {
     "duration": 0.054269,
     "end_time": "2022-05-29T09:02:45.740102",
     "exception": false,
     "start_time": "2022-05-29T09:02:45.685833",
     "status": "completed"
    },
    "tags": [],
    "ExecuteTime": {
     "end_time": "2024-06-12T17:00:16.991485Z",
     "start_time": "2024-06-12T17:00:16.981976Z"
    }
   },
   "source": [
    "sms=sms.drop([\"Unnamed: 2\",\"Unnamed: 3\",\"Unnamed: 4\"],axis=1)\n",
    "sms.head()"
   ],
   "outputs": [
    {
     "data": {
      "text/plain": [
       "     v1  \\\n",
       "0   ham   \n",
       "1   ham   \n",
       "2  spam   \n",
       "3   ham   \n",
       "4   ham   \n",
       "\n",
       "                                                                                                                                                            v2  \n",
       "0                                              Go until jurong point, crazy.. Available only in bugis n great world la e buffet... Cine there got amore wat...  \n",
       "1                                                                                                                                Ok lar... Joking wif u oni...  \n",
       "2  Free entry in 2 a wkly comp to win FA Cup final tkts 21st May 2005. Text FA to 87121 to receive entry question(std txt rate)T&C's apply 08452810075over18's  \n",
       "3                                                                                                            U dun say so early hor... U c already then say...  \n",
       "4                                                                                                Nah I don't think he goes to usf, he lives around here though  "
      ],
      "text/html": [
       "<div>\n",
       "<style scoped>\n",
       "    .dataframe tbody tr th:only-of-type {\n",
       "        vertical-align: middle;\n",
       "    }\n",
       "\n",
       "    .dataframe tbody tr th {\n",
       "        vertical-align: top;\n",
       "    }\n",
       "\n",
       "    .dataframe thead th {\n",
       "        text-align: right;\n",
       "    }\n",
       "</style>\n",
       "<table border=\"1\" class=\"dataframe\">\n",
       "  <thead>\n",
       "    <tr style=\"text-align: right;\">\n",
       "      <th></th>\n",
       "      <th>v1</th>\n",
       "      <th>v2</th>\n",
       "    </tr>\n",
       "  </thead>\n",
       "  <tbody>\n",
       "    <tr>\n",
       "      <th>0</th>\n",
       "      <td>ham</td>\n",
       "      <td>Go until jurong point, crazy.. Available only in bugis n great world la e buffet... Cine there got amore wat...</td>\n",
       "    </tr>\n",
       "    <tr>\n",
       "      <th>1</th>\n",
       "      <td>ham</td>\n",
       "      <td>Ok lar... Joking wif u oni...</td>\n",
       "    </tr>\n",
       "    <tr>\n",
       "      <th>2</th>\n",
       "      <td>spam</td>\n",
       "      <td>Free entry in 2 a wkly comp to win FA Cup final tkts 21st May 2005. Text FA to 87121 to receive entry question(std txt rate)T&amp;C's apply 08452810075over18's</td>\n",
       "    </tr>\n",
       "    <tr>\n",
       "      <th>3</th>\n",
       "      <td>ham</td>\n",
       "      <td>U dun say so early hor... U c already then say...</td>\n",
       "    </tr>\n",
       "    <tr>\n",
       "      <th>4</th>\n",
       "      <td>ham</td>\n",
       "      <td>Nah I don't think he goes to usf, he lives around here though</td>\n",
       "    </tr>\n",
       "  </tbody>\n",
       "</table>\n",
       "</div>"
      ]
     },
     "execution_count": 416,
     "metadata": {},
     "output_type": "execute_result"
    }
   ],
   "execution_count": 416
  },
  {
   "cell_type": "markdown",
   "id": "human-madrid",
   "metadata": {
    "papermill": {
     "duration": 0.040376,
     "end_time": "2022-05-29T09:02:45.822040",
     "exception": false,
     "start_time": "2022-05-29T09:02:45.781664",
     "status": "completed"
    },
    "tags": []
   },
   "source": [
    "Feature description\n",
    "* v1=label(ham/spam) outcome to predict\n",
    "* v2=sms"
   ]
  },
  {
   "cell_type": "code",
   "id": "returning-terrain",
   "metadata": {
    "execution": {
     "iopub.execute_input": "2022-05-29T09:02:45.906095Z",
     "iopub.status.busy": "2022-05-29T09:02:45.905141Z",
     "iopub.status.idle": "2022-05-29T09:02:45.913660Z",
     "shell.execute_reply": "2022-05-29T09:02:45.914092Z",
     "shell.execute_reply.started": "2021-06-05T17:34:38.886894Z"
    },
    "papermill": {
     "duration": 0.051901,
     "end_time": "2022-05-29T09:02:45.914258",
     "exception": false,
     "start_time": "2022-05-29T09:02:45.862357",
     "status": "completed"
    },
    "tags": [],
    "ExecuteTime": {
     "end_time": "2024-06-12T17:00:17.001231Z",
     "start_time": "2024-06-12T17:00:16.994695Z"
    }
   },
   "source": "sms.v1.value_counts()",
   "outputs": [
    {
     "data": {
      "text/plain": [
       "v1\n",
       "ham     4825\n",
       "spam     747\n",
       "Name: count, dtype: int64"
      ]
     },
     "execution_count": 417,
     "metadata": {},
     "output_type": "execute_result"
    }
   ],
   "execution_count": 417
  },
  {
   "cell_type": "code",
   "id": "combined-ranch",
   "metadata": {
    "execution": {
     "iopub.execute_input": "2022-05-29T09:02:46.005598Z",
     "iopub.status.busy": "2022-05-29T09:02:46.004733Z",
     "iopub.status.idle": "2022-05-29T09:02:46.099551Z",
     "shell.execute_reply": "2022-05-29T09:02:46.099983Z",
     "shell.execute_reply.started": "2021-06-05T17:34:38.897987Z"
    },
    "papermill": {
     "duration": 0.145075,
     "end_time": "2022-05-29T09:02:46.100139",
     "exception": false,
     "start_time": "2022-05-29T09:02:45.955064",
     "status": "completed"
    },
    "tags": [],
    "ExecuteTime": {
     "end_time": "2024-06-12T17:00:17.090885Z",
     "start_time": "2024-06-12T17:00:17.004244Z"
    }
   },
   "source": "sns.countplot(x=\"v1\", data = sms)",
   "outputs": [
    {
     "data": {
      "text/plain": [
       "<Axes: xlabel='v1', ylabel='count'>"
      ]
     },
     "execution_count": 418,
     "metadata": {},
     "output_type": "execute_result"
    },
    {
     "data": {
      "text/plain": [
       "<Figure size 640x480 with 1 Axes>"
      ],
      "image/png": "[encoded data removed]"
     },
     "metadata": {},
     "output_type": "display_data"
    }
   ],
   "execution_count": 418
  },
  {
   "cell_type": "code",
   "id": "isolated-violin",
   "metadata": {
    "execution": {
     "iopub.execute_input": "2022-05-29T09:02:46.186434Z",
     "iopub.status.busy": "2022-05-29T09:02:46.185574Z",
     "iopub.status.idle": "2022-05-29T09:02:46.191271Z",
     "shell.execute_reply": "2022-05-29T09:02:46.191750Z",
     "shell.execute_reply.started": "2021-06-05T17:34:39.015641Z"
    },
    "papermill": {
     "duration": 0.050158,
     "end_time": "2022-05-29T09:02:46.191909",
     "exception": false,
     "start_time": "2022-05-29T09:02:46.141751",
     "status": "completed"
    },
    "tags": [],
    "ExecuteTime": {
     "end_time": "2024-06-12T17:00:17.095175Z",
     "start_time": "2024-06-12T17:00:17.091831Z"
    }
   },
   "source": [
    "# convert label to a numerical variable\n",
    "sms['v1'] = sms.v1.map({'ham':0, 'spam':1})"
   ],
   "outputs": [],
   "execution_count": 419
  },
  {
   "cell_type": "code",
   "id": "pleasant-margin",
   "metadata": {
    "execution": {
     "iopub.execute_input": "2022-05-29T09:02:46.283625Z",
     "iopub.status.busy": "2022-05-29T09:02:46.282815Z",
     "iopub.status.idle": "2022-05-29T09:02:46.286264Z",
     "shell.execute_reply": "2022-05-29T09:02:46.286718Z",
     "shell.execute_reply.started": "2021-06-05T17:34:39.023194Z"
    },
    "papermill": {
     "duration": 0.053156,
     "end_time": "2022-05-29T09:02:46.286867",
     "exception": false,
     "start_time": "2022-05-29T09:02:46.233711",
     "status": "completed"
    },
    "tags": [],
    "ExecuteTime": {
     "end_time": "2024-06-12T17:00:17.102166Z",
     "start_time": "2024-06-12T17:00:17.097776Z"
    }
   },
   "source": [
    "sms.head()"
   ],
   "outputs": [
    {
     "data": {
      "text/plain": [
       "   v1  \\\n",
       "0   0   \n",
       "1   0   \n",
       "2   1   \n",
       "3   0   \n",
       "4   0   \n",
       "\n",
       "                                                                                                                                                            v2  \n",
       "0                                              Go until jurong point, crazy.. Available only in bugis n great world la e buffet... Cine there got amore wat...  \n",
       "1                                                                                                                                Ok lar... Joking wif u oni...  \n",
       "2  Free entry in 2 a wkly comp to win FA Cup final tkts 21st May 2005. Text FA to 87121 to receive entry question(std txt rate)T&C's apply 08452810075over18's  \n",
       "3                                                                                                            U dun say so early hor... U c already then say...  \n",
       "4                                                                                                Nah I don't think he goes to usf, he lives around here though  "
      ],
      "text/html": [
       "<div>\n",
       "<style scoped>\n",
       "    .dataframe tbody tr th:only-of-type {\n",
       "        vertical-align: middle;\n",
       "    }\n",
       "\n",
       "    .dataframe tbody tr th {\n",
       "        vertical-align: top;\n",
       "    }\n",
       "\n",
       "    .dataframe thead th {\n",
       "        text-align: right;\n",
       "    }\n",
       "</style>\n",
       "<table border=\"1\" class=\"dataframe\">\n",
       "  <thead>\n",
       "    <tr style=\"text-align: right;\">\n",
       "      <th></th>\n",
       "      <th>v1</th>\n",
       "      <th>v2</th>\n",
       "    </tr>\n",
       "  </thead>\n",
       "  <tbody>\n",
       "    <tr>\n",
       "      <th>0</th>\n",
       "      <td>0</td>\n",
       "      <td>Go until jurong point, crazy.. Available only in bugis n great world la e buffet... Cine there got amore wat...</td>\n",
       "    </tr>\n",
       "    <tr>\n",
       "      <th>1</th>\n",
       "      <td>0</td>\n",
       "      <td>Ok lar... Joking wif u oni...</td>\n",
       "    </tr>\n",
       "    <tr>\n",
       "      <th>2</th>\n",
       "      <td>1</td>\n",
       "      <td>Free entry in 2 a wkly comp to win FA Cup final tkts 21st May 2005. Text FA to 87121 to receive entry question(std txt rate)T&amp;C's apply 08452810075over18's</td>\n",
       "    </tr>\n",
       "    <tr>\n",
       "      <th>3</th>\n",
       "      <td>0</td>\n",
       "      <td>U dun say so early hor... U c already then say...</td>\n",
       "    </tr>\n",
       "    <tr>\n",
       "      <th>4</th>\n",
       "      <td>0</td>\n",
       "      <td>Nah I don't think he goes to usf, he lives around here though</td>\n",
       "    </tr>\n",
       "  </tbody>\n",
       "</table>\n",
       "</div>"
      ]
     },
     "execution_count": 420,
     "metadata": {},
     "output_type": "execute_result"
    }
   ],
   "execution_count": 420
  },
  {
   "cell_type": "markdown",
   "id": "accepted-hamilton",
   "metadata": {
    "papermill": {
     "duration": 0.042433,
     "end_time": "2022-05-29T09:02:46.370922",
     "exception": false,
     "start_time": "2022-05-29T09:02:46.328489",
     "status": "completed"
    },
    "tags": []
   },
   "source": [
    "**Balance Data**"
   ]
  },
  {
   "cell_type": "code",
   "id": "biological-hearts",
   "metadata": {
    "execution": {
     "iopub.execute_input": "2022-05-29T09:02:46.459562Z",
     "iopub.status.busy": "2022-05-29T09:02:46.458688Z",
     "iopub.status.idle": "2022-05-29T09:02:46.476822Z",
     "shell.execute_reply": "2022-05-29T09:02:46.477295Z",
     "shell.execute_reply.started": "2021-06-05T17:34:39.042573Z"
    },
    "papermill": {
     "duration": 0.063388,
     "end_time": "2022-05-29T09:02:46.477496",
     "exception": false,
     "start_time": "2022-05-29T09:02:46.414108",
     "status": "completed"
    },
    "tags": [],
    "ExecuteTime": {
     "end_time": "2024-06-12T17:00:17.106691Z",
     "start_time": "2024-06-12T17:00:17.103006Z"
    }
   },
   "source": [
    "ham=sms[sms[\"v1\"]==0]\n",
    "spam=sms[sms[\"v1\"]==1]"
   ],
   "outputs": [],
   "execution_count": 421
  },
  {
   "cell_type": "code",
   "id": "incoming-labor",
   "metadata": {
    "execution": {
     "iopub.execute_input": "2022-05-29T09:02:46.564520Z",
     "iopub.status.busy": "2022-05-29T09:02:46.563651Z",
     "iopub.status.idle": "2022-05-29T09:02:46.568776Z",
     "shell.execute_reply": "2022-05-29T09:02:46.569285Z",
     "shell.execute_reply.started": "2021-06-05T17:34:39.054358Z"
    },
    "papermill": {
     "duration": 0.050075,
     "end_time": "2022-05-29T09:02:46.569458",
     "exception": false,
     "start_time": "2022-05-29T09:02:46.519383",
     "status": "completed"
    },
    "tags": [],
    "ExecuteTime": {
     "end_time": "2024-06-12T17:00:17.110274Z",
     "start_time": "2024-06-12T17:00:17.107473Z"
    }
   },
   "source": [
    "ham.shape,spam.shape"
   ],
   "outputs": [
    {
     "data": {
      "text/plain": [
       "((4825, 2), (747, 2))"
      ]
     },
     "execution_count": 422,
     "metadata": {},
     "output_type": "execute_result"
    }
   ],
   "execution_count": 422
  },
  {
   "cell_type": "code",
   "id": "continent-latest",
   "metadata": {
    "execution": {
     "iopub.execute_input": "2022-05-29T09:02:46.657247Z",
     "iopub.status.busy": "2022-05-29T09:02:46.656414Z",
     "iopub.status.idle": "2022-05-29T09:02:46.662645Z",
     "shell.execute_reply": "2022-05-29T09:02:46.663108Z",
     "shell.execute_reply.started": "2021-06-05T17:34:39.067615Z"
    },
    "papermill": {
     "duration": 0.051583,
     "end_time": "2022-05-29T09:02:46.663256",
     "exception": false,
     "start_time": "2022-05-29T09:02:46.611673",
     "status": "completed"
    },
    "tags": [],
    "ExecuteTime": {
     "end_time": "2024-06-12T17:00:17.113487Z",
     "start_time": "2024-06-12T17:00:17.110993Z"
    }
   },
   "source": [
    "# ham=ham.sample(spam.shape[0])\n",
    "ham.shape"
   ],
   "outputs": [
    {
     "data": {
      "text/plain": [
       "(4825, 2)"
      ]
     },
     "execution_count": 423,
     "metadata": {},
     "output_type": "execute_result"
    }
   ],
   "execution_count": 423
  },
  {
   "cell_type": "code",
   "id": "humanitarian-enlargement",
   "metadata": {
    "execution": {
     "iopub.execute_input": "2022-05-29T09:02:46.751699Z",
     "iopub.status.busy": "2022-05-29T09:02:46.750794Z",
     "iopub.status.idle": "2022-05-29T09:02:46.762417Z",
     "shell.execute_reply": "2022-05-29T09:02:46.762910Z",
     "shell.execute_reply.started": "2021-06-05T17:34:39.083754Z"
    },
    "papermill": {
     "duration": 0.057627,
     "end_time": "2022-05-29T09:02:46.763065",
     "exception": false,
     "start_time": "2022-05-29T09:02:46.705438",
     "status": "completed"
    },
    "tags": [],
    "ExecuteTime": {
     "end_time": "2024-06-12T17:00:17.118672Z",
     "start_time": "2024-06-12T17:00:17.114259Z"
    }
   },
   "source": [
    "data = pd.concat([ham, spam], ignore_index=True)\n",
    "print(\"Shape :\", data.shape)\n",
    "data.head()"
   ],
   "outputs": [
    {
     "name": "stdout",
     "output_type": "stream",
     "text": [
      "Shape : (5572, 2)\n"
     ]
    },
    {
     "data": {
      "text/plain": [
       "   v1  \\\n",
       "0   0   \n",
       "1   0   \n",
       "2   0   \n",
       "3   0   \n",
       "4   0   \n",
       "\n",
       "                                                                                                                v2  \n",
       "0  Go until jurong point, crazy.. Available only in bugis n great world la e buffet... Cine there got amore wat...  \n",
       "1                                                                                    Ok lar... Joking wif u oni...  \n",
       "2                                                                U dun say so early hor... U c already then say...  \n",
       "3                                                    Nah I don't think he goes to usf, he lives around here though  \n",
       "4                                    Even my brother is not like to speak with me. They treat me like aids patent.  "
      ],
      "text/html": [
       "<div>\n",
       "<style scoped>\n",
       "    .dataframe tbody tr th:only-of-type {\n",
       "        vertical-align: middle;\n",
       "    }\n",
       "\n",
       "    .dataframe tbody tr th {\n",
       "        vertical-align: top;\n",
       "    }\n",
       "\n",
       "    .dataframe thead th {\n",
       "        text-align: right;\n",
       "    }\n",
       "</style>\n",
       "<table border=\"1\" class=\"dataframe\">\n",
       "  <thead>\n",
       "    <tr style=\"text-align: right;\">\n",
       "      <th></th>\n",
       "      <th>v1</th>\n",
       "      <th>v2</th>\n",
       "    </tr>\n",
       "  </thead>\n",
       "  <tbody>\n",
       "    <tr>\n",
       "      <th>0</th>\n",
       "      <td>0</td>\n",
       "      <td>Go until jurong point, crazy.. Available only in bugis n great world la e buffet... Cine there got amore wat...</td>\n",
       "    </tr>\n",
       "    <tr>\n",
       "      <th>1</th>\n",
       "      <td>0</td>\n",
       "      <td>Ok lar... Joking wif u oni...</td>\n",
       "    </tr>\n",
       "    <tr>\n",
       "      <th>2</th>\n",
       "      <td>0</td>\n",
       "      <td>U dun say so early hor... U c already then say...</td>\n",
       "    </tr>\n",
       "    <tr>\n",
       "      <th>3</th>\n",
       "      <td>0</td>\n",
       "      <td>Nah I don't think he goes to usf, he lives around here though</td>\n",
       "    </tr>\n",
       "    <tr>\n",
       "      <th>4</th>\n",
       "      <td>0</td>\n",
       "      <td>Even my brother is not like to speak with me. They treat me like aids patent.</td>\n",
       "    </tr>\n",
       "  </tbody>\n",
       "</table>\n",
       "</div>"
      ]
     },
     "execution_count": 424,
     "metadata": {},
     "output_type": "execute_result"
    }
   ],
   "execution_count": 424
  },
  {
   "cell_type": "code",
   "id": "quantitative-norfolk",
   "metadata": {
    "execution": {
     "iopub.execute_input": "2022-05-29T09:02:46.851871Z",
     "iopub.status.busy": "2022-05-29T09:02:46.851242Z",
     "iopub.status.idle": "2022-05-29T09:02:46.952565Z",
     "shell.execute_reply": "2022-05-29T09:02:46.952003Z",
     "shell.execute_reply.started": "2021-06-05T17:34:39.101682Z"
    },
    "papermill": {
     "duration": 0.146757,
     "end_time": "2022-05-29T09:02:46.952696",
     "exception": false,
     "start_time": "2022-05-29T09:02:46.805939",
     "status": "completed"
    },
    "tags": [],
    "ExecuteTime": {
     "end_time": "2024-06-12T17:00:17.195275Z",
     "start_time": "2024-06-12T17:00:17.119382Z"
    }
   },
   "source": "sns.countplot(x=\"v1\", data=data)",
   "outputs": [
    {
     "data": {
      "text/plain": [
       "<Axes: xlabel='v1', ylabel='count'>"
      ]
     },
     "execution_count": 425,
     "metadata": {},
     "output_type": "execute_result"
    },
    {
     "data": {
      "text/plain": [
       "<Figure size 640x480 with 1 Axes>"
      ],
      "image/png": "[encoded data removed]"
     },
     "metadata": {},
     "output_type": "display_data"
    }
   ],
   "execution_count": 425
  },
  {
   "cell_type": "markdown",
   "id": "monthly-alabama",
   "metadata": {
    "execution": {
     "iopub.execute_input": "2021-06-05T17:30:37.217983Z",
     "iopub.status.busy": "2021-06-05T17:30:37.217676Z",
     "iopub.status.idle": "2021-06-05T17:30:37.234598Z",
     "shell.execute_reply": "2021-06-05T17:30:37.232509Z",
     "shell.execute_reply.started": "2021-06-05T17:30:37.217955Z"
    },
    "papermill": {
     "duration": 0.044349,
     "end_time": "2022-05-29T09:02:47.041508",
     "exception": false,
     "start_time": "2022-05-29T09:02:46.997159",
     "status": "completed"
    },
    "tags": []
   },
   "source": [
    "* Now we can see data is balanced"
   ]
  },
  {
   "cell_type": "markdown",
   "id": "numerical-cookie",
   "metadata": {
    "papermill": {
     "duration": 0.043884,
     "end_time": "2022-05-29T09:02:47.129381",
     "exception": false,
     "start_time": "2022-05-29T09:02:47.085497",
     "status": "completed"
    },
    "tags": []
   },
   "source": [
    "**dividing data in X & Y**"
   ]
  },
  {
   "cell_type": "code",
   "id": "novel-albany",
   "metadata": {
    "execution": {
     "iopub.execute_input": "2022-05-29T09:02:47.222119Z",
     "iopub.status.busy": "2022-05-29T09:02:47.221577Z",
     "iopub.status.idle": "2022-05-29T09:02:47.223586Z",
     "shell.execute_reply": "2022-05-29T09:02:47.223994Z",
     "shell.execute_reply.started": "2021-06-05T17:34:39.219911Z"
    },
    "papermill": {
     "duration": 0.051022,
     "end_time": "2022-05-29T09:02:47.224146",
     "exception": false,
     "start_time": "2022-05-29T09:02:47.173124",
     "status": "completed"
    },
    "tags": [],
    "ExecuteTime": {
     "end_time": "2024-06-12T17:00:17.198498Z",
     "start_time": "2024-06-12T17:00:17.196225Z"
    }
   },
   "source": [
    "X = data.v2\n",
    "y = data.v1"
   ],
   "outputs": [],
   "execution_count": 426
  },
  {
   "cell_type": "markdown",
   "id": "severe-canberra",
   "metadata": {
    "papermill": {
     "duration": 0.044507,
     "end_time": "2022-05-29T09:02:47.312335",
     "exception": false,
     "start_time": "2022-05-29T09:02:47.267828",
     "status": "completed"
    },
    "tags": []
   },
   "source": [
    "# Model building"
   ]
  },
  {
   "cell_type": "code",
   "id": "foster-consultation",
   "metadata": {
    "execution": {
     "iopub.execute_input": "2022-05-29T09:02:47.402305Z",
     "iopub.status.busy": "2022-05-29T09:02:47.401676Z",
     "iopub.status.idle": "2022-05-29T09:02:47.463098Z",
     "shell.execute_reply": "2022-05-29T09:02:47.463724Z",
     "shell.execute_reply.started": "2021-06-05T17:34:39.229809Z"
    },
    "papermill": {
     "duration": 0.108207,
     "end_time": "2022-05-29T09:02:47.463941",
     "exception": false,
     "start_time": "2022-05-29T09:02:47.355734",
     "status": "completed"
    },
    "tags": [],
    "ExecuteTime": {
     "end_time": "2024-06-12T17:00:17.204393Z",
     "start_time": "2024-06-12T17:00:17.199467Z"
    }
   },
   "source": [
    "# split X and y into training and testing sets\n",
    "# by default, it splits 75% training and 25% test\n",
    "# random_state=1 for reproducibility\n",
    "\n",
    "from sklearn.model_selection import train_test_split\n",
    "X_train, X_test, y_train, y_test = train_test_split(X, y, random_state=5)\n",
    "print(X_train.shape)\n",
    "print(X_test.shape)\n",
    "print(y_train.shape)\n",
    "print(y_test.shape)"
   ],
   "outputs": [
    {
     "name": "stdout",
     "output_type": "stream",
     "text": [
      "(4179,)\n",
      "(1393,)\n",
      "(4179,)\n",
      "(1393,)\n"
     ]
    }
   ],
   "execution_count": 427
  },
  {
   "cell_type": "markdown",
   "id": "geographic-credits",
   "metadata": {
    "papermill": {
     "duration": 0.044147,
     "end_time": "2022-05-29T09:02:47.553674",
     "exception": false,
     "start_time": "2022-05-29T09:02:47.509527",
     "status": "completed"
    },
    "tags": []
   },
   "source": ""
  },
  {
   "cell_type": "code",
   "id": "stupid-organ",
   "metadata": {
    "execution": {
     "iopub.execute_input": "2022-05-29T09:02:47.645658Z",
     "iopub.status.busy": "2022-05-29T09:02:47.645090Z",
     "iopub.status.idle": "2022-05-29T09:02:47.648286Z",
     "shell.execute_reply": "2022-05-29T09:02:47.648797Z",
     "shell.execute_reply.started": "2021-06-05T17:34:39.242484Z"
    },
    "papermill": {
     "duration": 0.049993,
     "end_time": "2022-05-29T09:02:47.648943",
     "exception": false,
     "start_time": "2022-05-29T09:02:47.598950",
     "status": "completed"
    },
    "tags": [],
    "ExecuteTime": {
     "end_time": "2024-06-12T17:00:17.208333Z",
     "start_time": "2024-06-12T17:00:17.205087Z"
    }
   },
   "source": [
    "from sklearn.feature_extraction.text import CountVectorizer\n",
    "\n",
    "vect = CountVectorizer()"
   ],
   "outputs": [],
   "execution_count": 428
  },
  {
   "cell_type": "code",
   "id": "equal-calculator",
   "metadata": {
    "execution": {
     "iopub.execute_input": "2022-05-29T09:02:47.739173Z",
     "iopub.status.busy": "2022-05-29T09:02:47.738669Z",
     "iopub.status.idle": "2022-05-29T09:02:47.768448Z",
     "shell.execute_reply": "2022-05-29T09:02:47.768875Z",
     "shell.execute_reply.started": "2021-06-05T17:34:39.251357Z"
    },
    "papermill": {
     "duration": 0.076357,
     "end_time": "2022-05-29T09:02:47.769040",
     "exception": false,
     "start_time": "2022-05-29T09:02:47.692683",
     "status": "completed"
    },
    "tags": [],
    "ExecuteTime": {
     "end_time": "2024-06-12T17:00:17.250098Z",
     "start_time": "2024-06-12T17:00:17.209335Z"
    }
   },
   "source": [
    "X_train_dtm = vect.fit_transform(X_train)"
   ],
   "outputs": [],
   "execution_count": 429
  },
  {
   "cell_type": "code",
   "id": "suitable-nutrition",
   "metadata": {
    "execution": {
     "iopub.execute_input": "2022-05-29T09:02:47.861786Z",
     "iopub.status.busy": "2022-05-29T09:02:47.861095Z",
     "iopub.status.idle": "2022-05-29T09:02:47.864235Z",
     "shell.execute_reply": "2022-05-29T09:02:47.864725Z",
     "shell.execute_reply.started": "2021-06-05T17:34:39.434084Z"
    },
    "papermill": {
     "duration": 0.051892,
     "end_time": "2022-05-29T09:02:47.864872",
     "exception": false,
     "start_time": "2022-05-29T09:02:47.812980",
     "status": "completed"
    },
    "tags": [],
    "ExecuteTime": {
     "end_time": "2024-06-12T17:00:17.257881Z",
     "start_time": "2024-06-12T17:00:17.253337Z"
    }
   },
   "source": [
    "X_train_dtm"
   ],
   "outputs": [
    {
     "data": {
      "text/plain": [
       "<4179x7395 sparse matrix of type '<class 'numpy.int64'>'\n",
       "\twith 55109 stored elements in Compressed Sparse Row format>"
      ]
     },
     "execution_count": 430,
     "metadata": {},
     "output_type": "execute_result"
    }
   ],
   "execution_count": 430
  },
  {
   "cell_type": "code",
   "id": "corrected-electron",
   "metadata": {
    "execution": {
     "iopub.execute_input": "2022-05-29T09:02:47.956187Z",
     "iopub.status.busy": "2022-05-29T09:02:47.955634Z",
     "iopub.status.idle": "2022-05-29T09:02:47.967181Z",
     "shell.execute_reply": "2022-05-29T09:02:47.967682Z",
     "shell.execute_reply.started": "2021-06-05T17:34:39.440798Z"
    },
    "papermill": {
     "duration": 0.058657,
     "end_time": "2022-05-29T09:02:47.967843",
     "exception": false,
     "start_time": "2022-05-29T09:02:47.909186",
     "status": "completed"
    },
    "tags": [],
    "ExecuteTime": {
     "end_time": "2024-06-12T17:00:17.274023Z",
     "start_time": "2024-06-12T17:00:17.259893Z"
    }
   },
   "source": [
    "# 4. transform testing data (using fitted vocabulary) into a document-term matrix\n",
    "X_test_dtm = vect.transform(X_test)\n",
    "X_test_dtm\n",
    "\n",
    "# you can see that the number of columns, 7456, is the same as what we have learned above in X_train_dtm"
   ],
   "outputs": [
    {
     "data": {
      "text/plain": [
       "<1393x7395 sparse matrix of type '<class 'numpy.int64'>'\n",
       "\twith 17413 stored elements in Compressed Sparse Row format>"
      ]
     },
     "execution_count": 431,
     "metadata": {},
     "output_type": "execute_result"
    }
   ],
   "execution_count": 431
  },
  {
   "cell_type": "markdown",
   "id": "beautiful-effect",
   "metadata": {
    "papermill": {
     "duration": 0.04429,
     "end_time": "2022-05-29T09:02:48.057199",
     "exception": false,
     "start_time": "2022-05-29T09:02:48.012909",
     "status": "completed"
    },
    "tags": []
   },
   "source": [
    "# MultinomialNB\n",
    "**MultinomialNB is the one of the best algo for Text data**"
   ]
  },
  {
   "cell_type": "code",
   "id": "minimal-training",
   "metadata": {
    "execution": {
     "iopub.execute_input": "2022-05-29T09:02:48.151978Z",
     "iopub.status.busy": "2022-05-29T09:02:48.151094Z",
     "iopub.status.idle": "2022-05-29T09:02:48.155690Z",
     "shell.execute_reply": "2022-05-29T09:02:48.156080Z",
     "shell.execute_reply.started": "2021-06-05T17:34:39.466325Z"
    },
    "papermill": {
     "duration": 0.053461,
     "end_time": "2022-05-29T09:02:48.156235",
     "exception": false,
     "start_time": "2022-05-29T09:02:48.102774",
     "status": "completed"
    },
    "tags": [],
    "ExecuteTime": {
     "end_time": "2024-06-12T17:00:17.276935Z",
     "start_time": "2024-06-12T17:00:17.274803Z"
    }
   },
   "source": [
    "# 1. import\n",
    "from sklearn.naive_bayes import MultinomialNB\n",
    "\n",
    "# 2. instantiate a Multinomial Naive Bayes model\n",
    "nb = MultinomialNB()"
   ],
   "outputs": [],
   "execution_count": 432
  },
  {
   "cell_type": "code",
   "id": "indonesian-incidence",
   "metadata": {
    "execution": {
     "iopub.execute_input": "2022-05-29T09:02:48.248308Z",
     "iopub.status.busy": "2022-05-29T09:02:48.247721Z",
     "iopub.status.idle": "2022-05-29T09:02:48.255041Z",
     "shell.execute_reply": "2022-05-29T09:02:48.255512Z",
     "shell.execute_reply.started": "2021-06-05T17:34:39.48033Z"
    },
    "papermill": {
     "duration": 0.054959,
     "end_time": "2022-05-29T09:02:48.255669",
     "exception": false,
     "start_time": "2022-05-29T09:02:48.200710",
     "status": "completed"
    },
    "tags": [],
    "ExecuteTime": {
     "end_time": "2024-06-12T17:00:17.282431Z",
     "start_time": "2024-06-12T17:00:17.277705Z"
    }
   },
   "source": [
    "# 3. train the model \n",
    "\n",
    "nb.fit(X_train_dtm, y_train)"
   ],
   "outputs": [
    {
     "data": {
      "text/plain": [
       "MultinomialNB()"
      ],
      "text/html": [
       "<style>#sk-container-id-25 {\n",
       "  /* Definition of color scheme common for light and dark mode */\n",
       "  --sklearn-color-text: black;\n",
       "  --sklearn-color-line: gray;\n",
       "  /* Definition of color scheme for unfitted estimators */\n",
       "  --sklearn-color-unfitted-level-0: #fff5e6;\n",
       "  --sklearn-color-unfitted-level-1: #f6e4d2;\n",
       "  --sklearn-color-unfitted-level-2: #ffe0b3;\n",
       "  --sklearn-color-unfitted-level-3: chocolate;\n",
       "  /* Definition of color scheme for fitted estimators */\n",
       "  --sklearn-color-fitted-level-0: #f0f8ff;\n",
       "  --sklearn-color-fitted-level-1: #d4ebff;\n",
       "  --sklearn-color-fitted-level-2: #b3dbfd;\n",
       "  --sklearn-color-fitted-level-3: cornflowerblue;\n",
       "\n",
       "  /* Specific color for light theme */\n",
       "  --sklearn-color-text-on-default-background: var(--sg-text-color, var(--theme-code-foreground, var(--jp-content-font-color1, black)));\n",
       "  --sklearn-color-background: var(--sg-background-color, var(--theme-background, var(--jp-layout-color0, white)));\n",
       "  --sklearn-color-border-box: var(--sg-text-color, var(--theme-code-foreground, var(--jp-content-font-color1, black)));\n",
       "  --sklearn-color-icon: #696969;\n",
       "\n",
       "  @media (prefers-color-scheme: dark) {\n",
       "    /* Redefinition of color scheme for dark theme */\n",
       "    --sklearn-color-text-on-default-background: var(--sg-text-color, var(--theme-code-foreground, var(--jp-content-font-color1, white)));\n",
       "    --sklearn-color-background: var(--sg-background-color, var(--theme-background, var(--jp-layout-color0, #111)));\n",
       "    --sklearn-color-border-box: var(--sg-text-color, var(--theme-code-foreground, var(--jp-content-font-color1, white)));\n",
       "    --sklearn-color-icon: #878787;\n",
       "  }\n",
       "}\n",
       "\n",
       "#sk-container-id-25 {\n",
       "  color: var(--sklearn-color-text);\n",
       "}\n",
       "\n",
       "#sk-container-id-25 pre {\n",
       "  padding: 0;\n",
       "}\n",
       "\n",
       "#sk-container-id-25 input.sk-hidden--visually {\n",
       "  border: 0;\n",
       "  clip: rect(1px 1px 1px 1px);\n",
       "  clip: rect(1px, 1px, 1px, 1px);\n",
       "  height: 1px;\n",
       "  margin: -1px;\n",
       "  overflow: hidden;\n",
       "  padding: 0;\n",
       "  position: absolute;\n",
       "  width: 1px;\n",
       "}\n",
       "\n",
       "#sk-container-id-25 div.sk-dashed-wrapped {\n",
       "  border: 1px dashed var(--sklearn-color-line);\n",
       "  margin: 0 0.4em 0.5em 0.4em;\n",
       "  box-sizing: border-box;\n",
       "  padding-bottom: 0.4em;\n",
       "  background-color: var(--sklearn-color-background);\n",
       "}\n",
       "\n",
       "#sk-container-id-25 div.sk-container {\n",
       "  /* jupyter's `normalize.less` sets `[hidden] { display: none; }`\n",
       "     but bootstrap.min.css set `[hidden] { display: none !important; }`\n",
       "     so we also need the `!important` here to be able to override the\n",
       "     default hidden behavior on the sphinx rendered scikit-learn.org.\n",
       "     See: https://github.com/scikit-learn/scikit-learn/issues/21755 */\n",
       "  display: inline-block !important;\n",
       "  position: relative;\n",
       "}\n",
       "\n",
       "#sk-container-id-25 div.sk-text-repr-fallback {\n",
       "  display: none;\n",
       "}\n",
       "\n",
       "div.sk-parallel-item,\n",
       "div.sk-serial,\n",
       "div.sk-item {\n",
       "  /* draw centered vertical line to link estimators */\n",
       "  background-image: linear-gradient(var(--sklearn-color-text-on-default-background), var(--sklearn-color-text-on-default-background));\n",
       "  background-size: 2px 100%;\n",
       "  background-repeat: no-repeat;\n",
       "  background-position: center center;\n",
       "}\n",
       "\n",
       "/* Parallel-specific style estimator block */\n",
       "\n",
       "#sk-container-id-25 div.sk-parallel-item::after {\n",
       "  content: \"\";\n",
       "  width: 100%;\n",
       "  border-bottom: 2px solid var(--sklearn-color-text-on-default-background);\n",
       "  flex-grow: 1;\n",
       "}\n",
       "\n",
       "#sk-container-id-25 div.sk-parallel {\n",
       "  display: flex;\n",
       "  align-items: stretch;\n",
       "  justify-content: center;\n",
       "  background-color: var(--sklearn-color-background);\n",
       "  position: relative;\n",
       "}\n",
       "\n",
       "#sk-container-id-25 div.sk-parallel-item {\n",
       "  display: flex;\n",
       "  flex-direction: column;\n",
       "}\n",
       "\n",
       "#sk-container-id-25 div.sk-parallel-item:first-child::after {\n",
       "  align-self: flex-end;\n",
       "  width: 50%;\n",
       "}\n",
       "\n",
       "#sk-container-id-25 div.sk-parallel-item:last-child::after {\n",
       "  align-self: flex-start;\n",
       "  width: 50%;\n",
       "}\n",
       "\n",
       "#sk-container-id-25 div.sk-parallel-item:only-child::after {\n",
       "  width: 0;\n",
       "}\n",
       "\n",
       "/* Serial-specific style estimator block */\n",
       "\n",
       "#sk-container-id-25 div.sk-serial {\n",
       "  display: flex;\n",
       "  flex-direction: column;\n",
       "  align-items: center;\n",
       "  background-color: var(--sklearn-color-background);\n",
       "  padding-right: 1em;\n",
       "  padding-left: 1em;\n",
       "}\n",
       "\n",
       "\n",
       "/* Toggleable style: style used for estimator/Pipeline/ColumnTransformer box that is\n",
       "clickable and can be expanded/collapsed.\n",
       "- Pipeline and ColumnTransformer use this feature and define the default style\n",
       "- Estimators will overwrite some part of the style using the `sk-estimator` class\n",
       "*/\n",
       "\n",
       "/* Pipeline and ColumnTransformer style (default) */\n",
       "\n",
       "#sk-container-id-25 div.sk-toggleable {\n",
       "  /* Default theme specific background. It is overwritten whether we have a\n",
       "  specific estimator or a Pipeline/ColumnTransformer */\n",
       "  background-color: var(--sklearn-color-background);\n",
       "}\n",
       "\n",
       "/* Toggleable label */\n",
       "#sk-container-id-25 label.sk-toggleable__label {\n",
       "  cursor: pointer;\n",
       "  display: block;\n",
       "  width: 100%;\n",
       "  margin-bottom: 0;\n",
       "  padding: 0.5em;\n",
       "  box-sizing: border-box;\n",
       "  text-align: center;\n",
       "}\n",
       "\n",
       "#sk-container-id-25 label.sk-toggleable__label-arrow:before {\n",
       "  /* Arrow on the left of the label */\n",
       "  content: \"▸\";\n",
       "  float: left;\n",
       "  margin-right: 0.25em;\n",
       "  color: var(--sklearn-color-icon);\n",
       "}\n",
       "\n",
       "#sk-container-id-25 label.sk-toggleable__label-arrow:hover:before {\n",
       "  color: var(--sklearn-color-text);\n",
       "}\n",
       "\n",
       "/* Toggleable content - dropdown */\n",
       "\n",
       "#sk-container-id-25 div.sk-toggleable__content {\n",
       "  max-height: 0;\n",
       "  max-width: 0;\n",
       "  overflow: hidden;\n",
       "  text-align: left;\n",
       "  /* unfitted */\n",
       "  background-color: var(--sklearn-color-unfitted-level-0);\n",
       "}\n",
       "\n",
       "#sk-container-id-25 div.sk-toggleable__content.fitted {\n",
       "  /* fitted */\n",
       "  background-color: var(--sklearn-color-fitted-level-0);\n",
       "}\n",
       "\n",
       "#sk-container-id-25 div.sk-toggleable__content pre {\n",
       "  margin: 0.2em;\n",
       "  border-radius: 0.25em;\n",
       "  color: var(--sklearn-color-text);\n",
       "  /* unfitted */\n",
       "  background-color: var(--sklearn-color-unfitted-level-0);\n",
       "}\n",
       "\n",
       "#sk-container-id-25 div.sk-toggleable__content.fitted pre {\n",
       "  /* unfitted */\n",
       "  background-color: var(--sklearn-color-fitted-level-0);\n",
       "}\n",
       "\n",
       "#sk-container-id-25 input.sk-toggleable__control:checked~div.sk-toggleable__content {\n",
       "  /* Expand drop-down */\n",
       "  max-height: 200px;\n",
       "  max-width: 100%;\n",
       "  overflow: auto;\n",
       "}\n",
       "\n",
       "#sk-container-id-25 input.sk-toggleable__control:checked~label.sk-toggleable__label-arrow:before {\n",
       "  content: \"▾\";\n",
       "}\n",
       "\n",
       "/* Pipeline/ColumnTransformer-specific style */\n",
       "\n",
       "#sk-container-id-25 div.sk-label input.sk-toggleable__control:checked~label.sk-toggleable__label {\n",
       "  color: var(--sklearn-color-text);\n",
       "  background-color: var(--sklearn-color-unfitted-level-2);\n",
       "}\n",
       "\n",
       "#sk-container-id-25 div.sk-label.fitted input.sk-toggleable__control:checked~label.sk-toggleable__label {\n",
       "  background-color: var(--sklearn-color-fitted-level-2);\n",
       "}\n",
       "\n",
       "/* Estimator-specific style */\n",
       "\n",
       "/* Colorize estimator box */\n",
       "#sk-container-id-25 div.sk-estimator input.sk-toggleable__control:checked~label.sk-toggleable__label {\n",
       "  /* unfitted */\n",
       "  background-color: var(--sklearn-color-unfitted-level-2);\n",
       "}\n",
       "\n",
       "#sk-container-id-25 div.sk-estimator.fitted input.sk-toggleable__control:checked~label.sk-toggleable__label {\n",
       "  /* fitted */\n",
       "  background-color: var(--sklearn-color-fitted-level-2);\n",
       "}\n",
       "\n",
       "#sk-container-id-25 div.sk-label label.sk-toggleable__label,\n",
       "#sk-container-id-25 div.sk-label label {\n",
       "  /* The background is the default theme color */\n",
       "  color: var(--sklearn-color-text-on-default-background);\n",
       "}\n",
       "\n",
       "/* On hover, darken the color of the background */\n",
       "#sk-container-id-25 div.sk-label:hover label.sk-toggleable__label {\n",
       "  color: var(--sklearn-color-text);\n",
       "  background-color: var(--sklearn-color-unfitted-level-2);\n",
       "}\n",
       "\n",
       "/* Label box, darken color on hover, fitted */\n",
       "#sk-container-id-25 div.sk-label.fitted:hover label.sk-toggleable__label.fitted {\n",
       "  color: var(--sklearn-color-text);\n",
       "  background-color: var(--sklearn-color-fitted-level-2);\n",
       "}\n",
       "\n",
       "/* Estimator label */\n",
       "\n",
       "#sk-container-id-25 div.sk-label label {\n",
       "  font-family: monospace;\n",
       "  font-weight: bold;\n",
       "  display: inline-block;\n",
       "  line-height: 1.2em;\n",
       "}\n",
       "\n",
       "#sk-container-id-25 div.sk-label-container {\n",
       "  text-align: center;\n",
       "}\n",
       "\n",
       "/* Estimator-specific */\n",
       "#sk-container-id-25 div.sk-estimator {\n",
       "  font-family: monospace;\n",
       "  border: 1px dotted var(--sklearn-color-border-box);\n",
       "  border-radius: 0.25em;\n",
       "  box-sizing: border-box;\n",
       "  margin-bottom: 0.5em;\n",
       "  /* unfitted */\n",
       "  background-color: var(--sklearn-color-unfitted-level-0);\n",
       "}\n",
       "\n",
       "#sk-container-id-25 div.sk-estimator.fitted {\n",
       "  /* fitted */\n",
       "  background-color: var(--sklearn-color-fitted-level-0);\n",
       "}\n",
       "\n",
       "/* on hover */\n",
       "#sk-container-id-25 div.sk-estimator:hover {\n",
       "  /* unfitted */\n",
       "  background-color: var(--sklearn-color-unfitted-level-2);\n",
       "}\n",
       "\n",
       "#sk-container-id-25 div.sk-estimator.fitted:hover {\n",
       "  /* fitted */\n",
       "  background-color: var(--sklearn-color-fitted-level-2);\n",
       "}\n",
       "\n",
       "/* Specification for estimator info (e.g. \"i\" and \"?\") */\n",
       "\n",
       "/* Common style for \"i\" and \"?\" */\n",
       "\n",
       ".sk-estimator-doc-link,\n",
       "a:link.sk-estimator-doc-link,\n",
       "a:visited.sk-estimator-doc-link {\n",
       "  float: right;\n",
       "  font-size: smaller;\n",
       "  line-height: 1em;\n",
       "  font-family: monospace;\n",
       "  background-color: var(--sklearn-color-background);\n",
       "  border-radius: 1em;\n",
       "  height: 1em;\n",
       "  width: 1em;\n",
       "  text-decoration: none !important;\n",
       "  margin-left: 1ex;\n",
       "  /* unfitted */\n",
       "  border: var(--sklearn-color-unfitted-level-1) 1pt solid;\n",
       "  color: var(--sklearn-color-unfitted-level-1);\n",
       "}\n",
       "\n",
       ".sk-estimator-doc-link.fitted,\n",
       "a:link.sk-estimator-doc-link.fitted,\n",
       "a:visited.sk-estimator-doc-link.fitted {\n",
       "  /* fitted */\n",
       "  border: var(--sklearn-color-fitted-level-1) 1pt solid;\n",
       "  color: var(--sklearn-color-fitted-level-1);\n",
       "}\n",
       "\n",
       "/* On hover */\n",
       "div.sk-estimator:hover .sk-estimator-doc-link:hover,\n",
       ".sk-estimator-doc-link:hover,\n",
       "div.sk-label-container:hover .sk-estimator-doc-link:hover,\n",
       ".sk-estimator-doc-link:hover {\n",
       "  /* unfitted */\n",
       "  background-color: var(--sklearn-color-unfitted-level-3);\n",
       "  color: var(--sklearn-color-background);\n",
       "  text-decoration: none;\n",
       "}\n",
       "\n",
       "div.sk-estimator.fitted:hover .sk-estimator-doc-link.fitted:hover,\n",
       ".sk-estimator-doc-link.fitted:hover,\n",
       "div.sk-label-container:hover .sk-estimator-doc-link.fitted:hover,\n",
       ".sk-estimator-doc-link.fitted:hover {\n",
       "  /* fitted */\n",
       "  background-color: var(--sklearn-color-fitted-level-3);\n",
       "  color: var(--sklearn-color-background);\n",
       "  text-decoration: none;\n",
       "}\n",
       "\n",
       "/* Span, style for the box shown on hovering the info icon */\n",
       ".sk-estimator-doc-link span {\n",
       "  display: none;\n",
       "  z-index: 9999;\n",
       "  position: relative;\n",
       "  font-weight: normal;\n",
       "  right: .2ex;\n",
       "  padding: .5ex;\n",
       "  margin: .5ex;\n",
       "  width: min-content;\n",
       "  min-width: 20ex;\n",
       "  max-width: 50ex;\n",
       "  color: var(--sklearn-color-text);\n",
       "  box-shadow: 2pt 2pt 4pt #999;\n",
       "  /* unfitted */\n",
       "  background: var(--sklearn-color-unfitted-level-0);\n",
       "  border: .5pt solid var(--sklearn-color-unfitted-level-3);\n",
       "}\n",
       "\n",
       ".sk-estimator-doc-link.fitted span {\n",
       "  /* fitted */\n",
       "  background: var(--sklearn-color-fitted-level-0);\n",
       "  border: var(--sklearn-color-fitted-level-3);\n",
       "}\n",
       "\n",
       ".sk-estimator-doc-link:hover span {\n",
       "  display: block;\n",
       "}\n",
       "\n",
       "/* \"?\"-specific style due to the `<a>` HTML tag */\n",
       "\n",
       "#sk-container-id-25 a.estimator_doc_link {\n",
       "  float: right;\n",
       "  font-size: 1rem;\n",
       "  line-height: 1em;\n",
       "  font-family: monospace;\n",
       "  background-color: var(--sklearn-color-background);\n",
       "  border-radius: 1rem;\n",
       "  height: 1rem;\n",
       "  width: 1rem;\n",
       "  text-decoration: none;\n",
       "  /* unfitted */\n",
       "  color: var(--sklearn-color-unfitted-level-1);\n",
       "  border: var(--sklearn-color-unfitted-level-1) 1pt solid;\n",
       "}\n",
       "\n",
       "#sk-container-id-25 a.estimator_doc_link.fitted {\n",
       "  /* fitted */\n",
       "  border: var(--sklearn-color-fitted-level-1) 1pt solid;\n",
       "  color: var(--sklearn-color-fitted-level-1);\n",
       "}\n",
       "\n",
       "/* On hover */\n",
       "#sk-container-id-25 a.estimator_doc_link:hover {\n",
       "  /* unfitted */\n",
       "  background-color: var(--sklearn-color-unfitted-level-3);\n",
       "  color: var(--sklearn-color-background);\n",
       "  text-decoration: none;\n",
       "}\n",
       "\n",
       "#sk-container-id-25 a.estimator_doc_link.fitted:hover {\n",
       "  /* fitted */\n",
       "  background-color: var(--sklearn-color-fitted-level-3);\n",
       "}\n",
       "</style><div id=\"sk-container-id-25\" class=\"sk-top-container\"><div class=\"sk-text-repr-fallback\"><pre>MultinomialNB()</pre><b>In a Jupyter environment, please rerun this cell to show the HTML representation or trust the notebook. <br />On GitHub, the HTML representation is unable to render, please try loading this page with nbviewer.org.</b></div><div class=\"sk-container\" hidden><div class=\"sk-item\"><div class=\"sk-estimator fitted sk-toggleable\"><input class=\"sk-toggleable__control sk-hidden--visually\" id=\"sk-estimator-id-25\" type=\"checkbox\" checked><label for=\"sk-estimator-id-25\" class=\"sk-toggleable__label fitted sk-toggleable__label-arrow fitted\">&nbsp;&nbsp;MultinomialNB<a class=\"sk-estimator-doc-link fitted\" rel=\"noreferrer\" target=\"_blank\" href=\"https://scikit-learn.org/1.5/modules/generated/sklearn.naive_bayes.MultinomialNB.html\">?<span>Documentation for MultinomialNB</span></a><span class=\"sk-estimator-doc-link fitted\">i<span>Fitted</span></span></label><div class=\"sk-toggleable__content fitted\"><pre>MultinomialNB()</pre></div> </div></div></div></div>"
      ]
     },
     "execution_count": 433,
     "metadata": {},
     "output_type": "execute_result"
    }
   ],
   "execution_count": 433
  },
  {
   "cell_type": "code",
   "id": "theoretical-picnic",
   "metadata": {
    "execution": {
     "iopub.execute_input": "2022-05-29T09:02:48.347458Z",
     "iopub.status.busy": "2022-05-29T09:02:48.346909Z",
     "iopub.status.idle": "2022-05-29T09:02:48.350328Z",
     "shell.execute_reply": "2022-05-29T09:02:48.350750Z",
     "shell.execute_reply.started": "2021-06-05T17:34:39.496176Z"
    },
    "papermill": {
     "duration": 0.050598,
     "end_time": "2022-05-29T09:02:48.350896",
     "exception": false,
     "start_time": "2022-05-29T09:02:48.300298",
     "status": "completed"
    },
    "tags": [],
    "ExecuteTime": {
     "end_time": "2024-06-12T17:00:17.285388Z",
     "start_time": "2024-06-12T17:00:17.283095Z"
    }
   },
   "source": [
    "# 4. make class predictions for X_test_dtm\n",
    "y_pred_class = nb.predict(X_test_dtm)"
   ],
   "outputs": [],
   "execution_count": 434
  },
  {
   "cell_type": "code",
   "id": "latest-trader",
   "metadata": {
    "execution": {
     "iopub.execute_input": "2022-05-29T09:02:48.442947Z",
     "iopub.status.busy": "2022-05-29T09:02:48.442430Z",
     "iopub.status.idle": "2022-05-29T09:02:48.447348Z",
     "shell.execute_reply": "2022-05-29T09:02:48.447795Z",
     "shell.execute_reply.started": "2021-06-05T17:34:39.506463Z"
    },
    "papermill": {
     "duration": 0.052676,
     "end_time": "2022-05-29T09:02:48.447939",
     "exception": false,
     "start_time": "2022-05-29T09:02:48.395263",
     "status": "completed"
    },
    "tags": [],
    "ExecuteTime": {
     "end_time": "2024-06-12T17:00:17.289467Z",
     "start_time": "2024-06-12T17:00:17.286191Z"
    }
   },
   "source": [
    "# calculate accuracy of class predictions\n",
    "from sklearn import metrics\n",
    "metrics.accuracy_score(y_test, y_pred_class)"
   ],
   "outputs": [
    {
     "data": {
      "text/plain": [
       "0.9827709978463748"
      ]
     },
     "execution_count": 435,
     "metadata": {},
     "output_type": "execute_result"
    }
   ],
   "execution_count": 435
  },
  {
   "cell_type": "markdown",
   "id": "settled-brook",
   "metadata": {
    "papermill": {
     "duration": 0.044812,
     "end_time": "2022-05-29T09:02:48.538290",
     "exception": false,
     "start_time": "2022-05-29T09:02:48.493478",
     "status": "completed"
    },
    "tags": []
   },
   "source": "**Here we got .98 score**"
  },
  {
   "cell_type": "markdown",
   "id": "closing-publisher",
   "metadata": {
    "papermill": {
     "duration": 0.044985,
     "end_time": "2022-05-29T09:02:48.628160",
     "exception": false,
     "start_time": "2022-05-29T09:02:48.583175",
     "status": "completed"
    },
    "tags": []
   },
   "source": [
    "**printing the confusion matrix**\n",
    "to compare actual and prediction"
   ]
  },
  {
   "cell_type": "code",
   "id": "twenty-hampshire",
   "metadata": {
    "execution": {
     "iopub.execute_input": "2022-05-29T09:02:48.722480Z",
     "iopub.status.busy": "2022-05-29T09:02:48.721889Z",
     "iopub.status.idle": "2022-05-29T09:02:48.726422Z",
     "shell.execute_reply": "2022-05-29T09:02:48.726839Z",
     "shell.execute_reply.started": "2021-06-05T17:34:39.522013Z"
    },
    "papermill": {
     "duration": 0.053859,
     "end_time": "2022-05-29T09:02:48.726984",
     "exception": false,
     "start_time": "2022-05-29T09:02:48.673125",
     "status": "completed"
    },
    "tags": [],
    "ExecuteTime": {
     "end_time": "2024-06-12T17:00:17.294039Z",
     "start_time": "2024-06-12T17:00:17.290256Z"
    }
   },
   "source": [
    "\n",
    "cf_matrix=metrics.confusion_matrix(y_test, y_pred_class)\n",
    "cf_matrix"
   ],
   "outputs": [
    {
     "data": {
      "text/plain": [
       "array([[1201,    3],\n",
       "       [  21,  168]])"
      ]
     },
     "execution_count": 436,
     "metadata": {},
     "output_type": "execute_result"
    }
   ],
   "execution_count": 436
  },
  {
   "cell_type": "code",
   "id": "liable-jerusalem",
   "metadata": {
    "execution": {
     "iopub.execute_input": "2022-05-29T09:02:48.820211Z",
     "iopub.status.busy": "2022-05-29T09:02:48.819663Z",
     "iopub.status.idle": "2022-05-29T09:02:49.026920Z",
     "shell.execute_reply": "2022-05-29T09:02:49.027350Z",
     "shell.execute_reply.started": "2021-06-05T17:34:39.536675Z"
    },
    "papermill": {
     "duration": 0.255374,
     "end_time": "2022-05-29T09:02:49.027611",
     "exception": false,
     "start_time": "2022-05-29T09:02:48.772237",
     "status": "completed"
    },
    "tags": [],
    "ExecuteTime": {
     "end_time": "2024-06-12T17:00:17.386291Z",
     "start_time": "2024-06-12T17:00:17.294987Z"
    }
   },
   "source": [
    "import matplotlib.pyplot as plt\n",
    "#Ploting confusion matrix\n",
    "plt.figure(figsize=(8,5))\n",
    "sns.heatmap(cf_matrix, annot=True, fmt='d')"
   ],
   "outputs": [
    {
     "data": {
      "text/plain": [
       "<Axes: >"
      ]
     },
     "execution_count": 437,
     "metadata": {},
     "output_type": "execute_result"
    },
    {
     "data": {
      "text/plain": [
       "<Figure size 800x500 with 2 Axes>"
      ],
      "image/png": "[encoded data removed]"
     },
     "metadata": {},
     "output_type": "display_data"
    }
   ],
   "execution_count": 437
  },
  {
   "cell_type": "code",
   "id": "prompt-administrator",
   "metadata": {
    "execution": {
     "iopub.execute_input": "2022-05-29T09:02:49.126846Z",
     "iopub.status.busy": "2022-05-29T09:02:49.126299Z",
     "iopub.status.idle": "2022-05-29T09:02:49.132247Z",
     "shell.execute_reply": "2022-05-29T09:02:49.132732Z",
     "shell.execute_reply.started": "2021-06-05T17:34:39.766811Z"
    },
    "papermill": {
     "duration": 0.0558,
     "end_time": "2022-05-29T09:02:49.132893",
     "exception": false,
     "start_time": "2022-05-29T09:02:49.077093",
     "status": "completed"
    },
    "tags": [],
    "ExecuteTime": {
     "end_time": "2024-06-12T17:00:17.394042Z",
     "start_time": "2024-06-12T17:00:17.390939Z"
    }
   },
   "source": [
    "# print message text for the false positives (ham incorrectly classified as spam)\n",
    "\n",
    "X_test[(y_pred_class==1) & (y_test==0)]"
   ],
   "outputs": [
    {
     "data": {
      "text/plain": [
       "4208                    Nokia phone is lovly..\n",
       "3784    Mathews or tait or edwards or anderson\n",
       "4066                    I liked the new mobile\n",
       "Name: v2, dtype: object"
      ]
     },
     "execution_count": 438,
     "metadata": {},
     "output_type": "execute_result"
    }
   ],
   "execution_count": 438
  },
  {
   "cell_type": "code",
   "id": "innovative-johns",
   "metadata": {
    "execution": {
     "iopub.execute_input": "2022-05-29T09:02:49.229353Z",
     "iopub.status.busy": "2022-05-29T09:02:49.228790Z",
     "iopub.status.idle": "2022-05-29T09:02:49.234807Z",
     "shell.execute_reply": "2022-05-29T09:02:49.235228Z",
     "shell.execute_reply.started": "2021-06-05T17:34:39.774791Z"
    },
    "papermill": {
     "duration": 0.055716,
     "end_time": "2022-05-29T09:02:49.235381",
     "exception": false,
     "start_time": "2022-05-29T09:02:49.179665",
     "status": "completed"
    },
    "tags": [],
    "ExecuteTime": {
     "end_time": "2024-06-12T17:00:17.398197Z",
     "start_time": "2024-06-12T17:00:17.394944Z"
    }
   },
   "source": [
    "# print message text for the false negatives (spam incorrectly classified as ham)\n",
    "X_test[(y_pred_class==0) & (y_test==1)]"
   ],
   "outputs": [
    {
     "data": {
      "text/plain": [
       "5204                                           How come it takes so little time for a child who is afraid of the dark to become a teenager who wants to stay out all night?\n",
       "5495                              You can donate å£2.50 to UNICEF's Asian Tsunami disaster support fund by texting DONATE to 864233. å£2.50 will be added to your next bill\n",
       "5176              Your next amazing xxx PICSFREE1 video will be sent to you enjoy! If one vid is not enough for 2day text back the keyword PICSFREE1 to get the next video.\n",
       "5284      Am new 2 club & dont fink we met yet Will B gr8 2 C U Please leave msg 2day wiv ur area 09099726553 reply promised CARLIE x Callså£1/minMobsmore LKPOBOX177HP51FL\n",
       "5057                                                                            0A$NETWORKS allow companies to bill for SMS, so they are responsible for their \\suppliers\\\"\n",
       "5472                                                                                                  Check Out Choose Your Babe Videos @ sms.shsex.netUN fgkslpoPW fgkslpo\n",
       "5160               Babe: U want me dont u baby! Im nasty and have a thing 4 filthyguys. Fancy a rude time with a sexy bitch. How about we go slo n hard! Txt XXX SLO(4msgs)\n",
       "5135       Back 2 work 2morro half term over! Can U C me 2nite 4 some sexy passion B4 I have 2 go back? Chat NOW 09099726481 Luv DENA Calls å£1/minMobsmoreLKPOBOX177HP51FL\n",
       "5547                            dating:i have had two of these. Only started after i sent a text to talk sport radio last week. Any connection do you think or coincidence?\n",
       "4939                                      Ever thought about living a good life with a perfect partner? Just txt back NAME and AGE to join the mobile community. (100p/SMS)\n",
       "5371                          TBS/PERSOLVO. been chasing us since Sept forå£38 definitely not paying now thanks to your information. We will ignore them. Kath. Manchester.\n",
       "5456       Hi babe its Chloe, how r u? I was smashed on saturday night, it was great! How was your weekend? U been missing me? SP visionsms.com Text stop to stop 150p/text\n",
       "5433                                                                                                                    Money i have won wining number 946 wot do i do next\n",
       "4956                       Talk sexy!! Make new friends or fall in love in the worlds most discreet text dating service. Just text VIP to 83110 and see who you could meet.\n",
       "5091    CALL 09090900040 & LISTEN TO EXTREME DIRTY LIVE CHAT GOING ON IN THE OFFICE RIGHT NOW TOTAL PRIVACY NO ONE KNOWS YOUR [sic] LISTENING 60P MIN 24/7MP 0870753331018+\n",
       "4972                                   How about getting in touch with folks waiting for company? Just txt back your NAME and AGE to opt in! Enjoy the community (150p/SMS)\n",
       "4839                                                                                       Did you hear about the new \\Divorce Barbie\\\"? It comes with all of Ken's stuff!\"\n",
       "5553                                                                                                 Latest News! Police station toilet stolen, cops have nothing to go on!\n",
       "5288              Not heard from U4 a while. Call me now am here all night with just my knickers on. Make me beg for it like U did last time 01223585236 XX Luv Nikiyu4.net\n",
       "5015                    Can U get 2 phone NOW? I wanna chat 2 set up meet Call me NOW on 09096102316 U can cum here 2moro Luv JANE xx Callså£1/minmoremobsEMSPOBox45PO139WA\n",
       "5040             SMS. ac JSco: Energy is high, but u may not know where 2channel it. 2day ur leadership skills r strong. Psychic? Reply ANS w/question. End? Reply END JSCO\n",
       "Name: v2, dtype: object"
      ]
     },
     "execution_count": 439,
     "metadata": {},
     "output_type": "execute_result"
    }
   ],
   "execution_count": 439
  },
  {
   "cell_type": "code",
   "id": "stretch-tribute",
   "metadata": {
    "execution": {
     "iopub.execute_input": "2022-05-29T09:02:49.331914Z",
     "iopub.status.busy": "2022-05-29T09:02:49.331373Z",
     "iopub.status.idle": "2022-05-29T09:02:49.338040Z",
     "shell.execute_reply": "2022-05-29T09:02:49.338536Z",
     "shell.execute_reply.started": "2021-06-05T17:34:39.791517Z"
    },
    "papermill": {
     "duration": 0.056213,
     "end_time": "2022-05-29T09:02:49.338682",
     "exception": false,
     "start_time": "2022-05-29T09:02:49.282469",
     "status": "completed"
    },
    "tags": [],
    "ExecuteTime": {
     "end_time": "2024-06-12T17:00:17.404147Z",
     "start_time": "2024-06-12T17:00:17.398971Z"
    }
   },
   "source": [
    "# calculate AUC\n",
    "y_pred_prob = nb.predict_proba(X_test_dtm)[:, 1]\n",
    "metrics.roc_auc_score(y_test, y_pred_prob)"
   ],
   "outputs": [
    {
     "data": {
      "text/plain": [
       "0.977807660531913"
      ]
     },
     "execution_count": 440,
     "metadata": {},
     "output_type": "execute_result"
    }
   ],
   "execution_count": 440
  },
  {
   "cell_type": "markdown",
   "id": "sunset-warrior",
   "metadata": {
    "papermill": {
     "duration": 0.048318,
     "end_time": "2022-05-29T09:02:49.434099",
     "exception": false,
     "start_time": "2022-05-29T09:02:49.385781",
     "status": "completed"
    },
    "tags": []
   },
   "source": [
    "# LogisticRegression"
   ]
  },
  {
   "cell_type": "code",
   "id": "elder-switch",
   "metadata": {
    "execution": {
     "iopub.execute_input": "2022-05-29T09:02:49.530821Z",
     "iopub.status.busy": "2022-05-29T09:02:49.530274Z",
     "iopub.status.idle": "2022-05-29T09:02:49.715803Z",
     "shell.execute_reply": "2022-05-29T09:02:49.715258Z",
     "shell.execute_reply.started": "2021-06-05T17:34:39.804997Z"
    },
    "papermill": {
     "duration": 0.234835,
     "end_time": "2022-05-29T09:02:49.715951",
     "exception": false,
     "start_time": "2022-05-29T09:02:49.481116",
     "status": "completed"
    },
    "tags": [],
    "ExecuteTime": {
     "end_time": "2024-06-12T17:00:17.407284Z",
     "start_time": "2024-06-12T17:00:17.404931Z"
    }
   },
   "source": [
    "# 1. import\n",
    "from sklearn.linear_model import LogisticRegression\n",
    "\n",
    "# 2. instantiate a logistic regression model\n",
    "logreg = LogisticRegression()"
   ],
   "outputs": [],
   "execution_count": 441
  },
  {
   "cell_type": "code",
   "id": "democratic-belgium",
   "metadata": {
    "execution": {
     "iopub.execute_input": "2022-05-29T09:02:49.814114Z",
     "iopub.status.busy": "2022-05-29T09:02:49.813224Z",
     "iopub.status.idle": "2022-05-29T09:02:49.857874Z",
     "shell.execute_reply": "2022-05-29T09:02:49.857308Z",
     "shell.execute_reply.started": "2021-06-05T17:34:39.911433Z"
    },
    "papermill": {
     "duration": 0.095237,
     "end_time": "2022-05-29T09:02:49.858001",
     "exception": false,
     "start_time": "2022-05-29T09:02:49.762764",
     "status": "completed"
    },
    "tags": [],
    "ExecuteTime": {
     "end_time": "2024-06-12T17:00:17.432817Z",
     "start_time": "2024-06-12T17:00:17.408077Z"
    }
   },
   "source": [
    "# 3. train the model using X_train_dtm\n",
    "logreg.fit(X_train_dtm, y_train)"
   ],
   "outputs": [
    {
     "data": {
      "text/plain": [
       "LogisticRegression()"
      ],
      "text/html": [
       "<style>#sk-container-id-26 {\n",
       "  /* Definition of color scheme common for light and dark mode */\n",
       "  --sklearn-color-text: black;\n",
       "  --sklearn-color-line: gray;\n",
       "  /* Definition of color scheme for unfitted estimators */\n",
       "  --sklearn-color-unfitted-level-0: #fff5e6;\n",
       "  --sklearn-color-unfitted-level-1: #f6e4d2;\n",
       "  --sklearn-color-unfitted-level-2: #ffe0b3;\n",
       "  --sklearn-color-unfitted-level-3: chocolate;\n",
       "  /* Definition of color scheme for fitted estimators */\n",
       "  --sklearn-color-fitted-level-0: #f0f8ff;\n",
       "  --sklearn-color-fitted-level-1: #d4ebff;\n",
       "  --sklearn-color-fitted-level-2: #b3dbfd;\n",
       "  --sklearn-color-fitted-level-3: cornflowerblue;\n",
       "\n",
       "  /* Specific color for light theme */\n",
       "  --sklearn-color-text-on-default-background: var(--sg-text-color, var(--theme-code-foreground, var(--jp-content-font-color1, black)));\n",
       "  --sklearn-color-background: var(--sg-background-color, var(--theme-background, var(--jp-layout-color0, white)));\n",
       "  --sklearn-color-border-box: var(--sg-text-color, var(--theme-code-foreground, var(--jp-content-font-color1, black)));\n",
       "  --sklearn-color-icon: #696969;\n",
       "\n",
       "  @media (prefers-color-scheme: dark) {\n",
       "    /* Redefinition of color scheme for dark theme */\n",
       "    --sklearn-color-text-on-default-background: var(--sg-text-color, var(--theme-code-foreground, var(--jp-content-font-color1, white)));\n",
       "    --sklearn-color-background: var(--sg-background-color, var(--theme-background, var(--jp-layout-color0, #111)));\n",
       "    --sklearn-color-border-box: var(--sg-text-color, var(--theme-code-foreground, var(--jp-content-font-color1, white)));\n",
       "    --sklearn-color-icon: #878787;\n",
       "  }\n",
       "}\n",
       "\n",
       "#sk-container-id-26 {\n",
       "  color: var(--sklearn-color-text);\n",
       "}\n",
       "\n",
       "#sk-container-id-26 pre {\n",
       "  padding: 0;\n",
       "}\n",
       "\n",
       "#sk-container-id-26 input.sk-hidden--visually {\n",
       "  border: 0;\n",
       "  clip: rect(1px 1px 1px 1px);\n",
       "  clip: rect(1px, 1px, 1px, 1px);\n",
       "  height: 1px;\n",
       "  margin: -1px;\n",
       "  overflow: hidden;\n",
       "  padding: 0;\n",
       "  position: absolute;\n",
       "  width: 1px;\n",
       "}\n",
       "\n",
       "#sk-container-id-26 div.sk-dashed-wrapped {\n",
       "  border: 1px dashed var(--sklearn-color-line);\n",
       "  margin: 0 0.4em 0.5em 0.4em;\n",
       "  box-sizing: border-box;\n",
       "  padding-bottom: 0.4em;\n",
       "  background-color: var(--sklearn-color-background);\n",
       "}\n",
       "\n",
       "#sk-container-id-26 div.sk-container {\n",
       "  /* jupyter's `normalize.less` sets `[hidden] { display: none; }`\n",
       "     but bootstrap.min.css set `[hidden] { display: none !important; }`\n",
       "     so we also need the `!important` here to be able to override the\n",
       "     default hidden behavior on the sphinx rendered scikit-learn.org.\n",
       "     See: https://github.com/scikit-learn/scikit-learn/issues/21755 */\n",
       "  display: inline-block !important;\n",
       "  position: relative;\n",
       "}\n",
       "\n",
       "#sk-container-id-26 div.sk-text-repr-fallback {\n",
       "  display: none;\n",
       "}\n",
       "\n",
       "div.sk-parallel-item,\n",
       "div.sk-serial,\n",
       "div.sk-item {\n",
       "  /* draw centered vertical line to link estimators */\n",
       "  background-image: linear-gradient(var(--sklearn-color-text-on-default-background), var(--sklearn-color-text-on-default-background));\n",
       "  background-size: 2px 100%;\n",
       "  background-repeat: no-repeat;\n",
       "  background-position: center center;\n",
       "}\n",
       "\n",
       "/* Parallel-specific style estimator block */\n",
       "\n",
       "#sk-container-id-26 div.sk-parallel-item::after {\n",
       "  content: \"\";\n",
       "  width: 100%;\n",
       "  border-bottom: 2px solid var(--sklearn-color-text-on-default-background);\n",
       "  flex-grow: 1;\n",
       "}\n",
       "\n",
       "#sk-container-id-26 div.sk-parallel {\n",
       "  display: flex;\n",
       "  align-items: stretch;\n",
       "  justify-content: center;\n",
       "  background-color: var(--sklearn-color-background);\n",
       "  position: relative;\n",
       "}\n",
       "\n",
       "#sk-container-id-26 div.sk-parallel-item {\n",
       "  display: flex;\n",
       "  flex-direction: column;\n",
       "}\n",
       "\n",
       "#sk-container-id-26 div.sk-parallel-item:first-child::after {\n",
       "  align-self: flex-end;\n",
       "  width: 50%;\n",
       "}\n",
       "\n",
       "#sk-container-id-26 div.sk-parallel-item:last-child::after {\n",
       "  align-self: flex-start;\n",
       "  width: 50%;\n",
       "}\n",
       "\n",
       "#sk-container-id-26 div.sk-parallel-item:only-child::after {\n",
       "  width: 0;\n",
       "}\n",
       "\n",
       "/* Serial-specific style estimator block */\n",
       "\n",
       "#sk-container-id-26 div.sk-serial {\n",
       "  display: flex;\n",
       "  flex-direction: column;\n",
       "  align-items: center;\n",
       "  background-color: var(--sklearn-color-background);\n",
       "  padding-right: 1em;\n",
       "  padding-left: 1em;\n",
       "}\n",
       "\n",
       "\n",
       "/* Toggleable style: style used for estimator/Pipeline/ColumnTransformer box that is\n",
       "clickable and can be expanded/collapsed.\n",
       "- Pipeline and ColumnTransformer use this feature and define the default style\n",
       "- Estimators will overwrite some part of the style using the `sk-estimator` class\n",
       "*/\n",
       "\n",
       "/* Pipeline and ColumnTransformer style (default) */\n",
       "\n",
       "#sk-container-id-26 div.sk-toggleable {\n",
       "  /* Default theme specific background. It is overwritten whether we have a\n",
       "  specific estimator or a Pipeline/ColumnTransformer */\n",
       "  background-color: var(--sklearn-color-background);\n",
       "}\n",
       "\n",
       "/* Toggleable label */\n",
       "#sk-container-id-26 label.sk-toggleable__label {\n",
       "  cursor: pointer;\n",
       "  display: block;\n",
       "  width: 100%;\n",
       "  margin-bottom: 0;\n",
       "  padding: 0.5em;\n",
       "  box-sizing: border-box;\n",
       "  text-align: center;\n",
       "}\n",
       "\n",
       "#sk-container-id-26 label.sk-toggleable__label-arrow:before {\n",
       "  /* Arrow on the left of the label */\n",
       "  content: \"▸\";\n",
       "  float: left;\n",
       "  margin-right: 0.25em;\n",
       "  color: var(--sklearn-color-icon);\n",
       "}\n",
       "\n",
       "#sk-container-id-26 label.sk-toggleable__label-arrow:hover:before {\n",
       "  color: var(--sklearn-color-text);\n",
       "}\n",
       "\n",
       "/* Toggleable content - dropdown */\n",
       "\n",
       "#sk-container-id-26 div.sk-toggleable__content {\n",
       "  max-height: 0;\n",
       "  max-width: 0;\n",
       "  overflow: hidden;\n",
       "  text-align: left;\n",
       "  /* unfitted */\n",
       "  background-color: var(--sklearn-color-unfitted-level-0);\n",
       "}\n",
       "\n",
       "#sk-container-id-26 div.sk-toggleable__content.fitted {\n",
       "  /* fitted */\n",
       "  background-color: var(--sklearn-color-fitted-level-0);\n",
       "}\n",
       "\n",
       "#sk-container-id-26 div.sk-toggleable__content pre {\n",
       "  margin: 0.2em;\n",
       "  border-radius: 0.25em;\n",
       "  color: var(--sklearn-color-text);\n",
       "  /* unfitted */\n",
       "  background-color: var(--sklearn-color-unfitted-level-0);\n",
       "}\n",
       "\n",
       "#sk-container-id-26 div.sk-toggleable__content.fitted pre {\n",
       "  /* unfitted */\n",
       "  background-color: var(--sklearn-color-fitted-level-0);\n",
       "}\n",
       "\n",
       "#sk-container-id-26 input.sk-toggleable__control:checked~div.sk-toggleable__content {\n",
       "  /* Expand drop-down */\n",
       "  max-height: 200px;\n",
       "  max-width: 100%;\n",
       "  overflow: auto;\n",
       "}\n",
       "\n",
       "#sk-container-id-26 input.sk-toggleable__control:checked~label.sk-toggleable__label-arrow:before {\n",
       "  content: \"▾\";\n",
       "}\n",
       "\n",
       "/* Pipeline/ColumnTransformer-specific style */\n",
       "\n",
       "#sk-container-id-26 div.sk-label input.sk-toggleable__control:checked~label.sk-toggleable__label {\n",
       "  color: var(--sklearn-color-text);\n",
       "  background-color: var(--sklearn-color-unfitted-level-2);\n",
       "}\n",
       "\n",
       "#sk-container-id-26 div.sk-label.fitted input.sk-toggleable__control:checked~label.sk-toggleable__label {\n",
       "  background-color: var(--sklearn-color-fitted-level-2);\n",
       "}\n",
       "\n",
       "/* Estimator-specific style */\n",
       "\n",
       "/* Colorize estimator box */\n",
       "#sk-container-id-26 div.sk-estimator input.sk-toggleable__control:checked~label.sk-toggleable__label {\n",
       "  /* unfitted */\n",
       "  background-color: var(--sklearn-color-unfitted-level-2);\n",
       "}\n",
       "\n",
       "#sk-container-id-26 div.sk-estimator.fitted input.sk-toggleable__control:checked~label.sk-toggleable__label {\n",
       "  /* fitted */\n",
       "  background-color: var(--sklearn-color-fitted-level-2);\n",
       "}\n",
       "\n",
       "#sk-container-id-26 div.sk-label label.sk-toggleable__label,\n",
       "#sk-container-id-26 div.sk-label label {\n",
       "  /* The background is the default theme color */\n",
       "  color: var(--sklearn-color-text-on-default-background);\n",
       "}\n",
       "\n",
       "/* On hover, darken the color of the background */\n",
       "#sk-container-id-26 div.sk-label:hover label.sk-toggleable__label {\n",
       "  color: var(--sklearn-color-text);\n",
       "  background-color: var(--sklearn-color-unfitted-level-2);\n",
       "}\n",
       "\n",
       "/* Label box, darken color on hover, fitted */\n",
       "#sk-container-id-26 div.sk-label.fitted:hover label.sk-toggleable__label.fitted {\n",
       "  color: var(--sklearn-color-text);\n",
       "  background-color: var(--sklearn-color-fitted-level-2);\n",
       "}\n",
       "\n",
       "/* Estimator label */\n",
       "\n",
       "#sk-container-id-26 div.sk-label label {\n",
       "  font-family: monospace;\n",
       "  font-weight: bold;\n",
       "  display: inline-block;\n",
       "  line-height: 1.2em;\n",
       "}\n",
       "\n",
       "#sk-container-id-26 div.sk-label-container {\n",
       "  text-align: center;\n",
       "}\n",
       "\n",
       "/* Estimator-specific */\n",
       "#sk-container-id-26 div.sk-estimator {\n",
       "  font-family: monospace;\n",
       "  border: 1px dotted var(--sklearn-color-border-box);\n",
       "  border-radius: 0.25em;\n",
       "  box-sizing: border-box;\n",
       "  margin-bottom: 0.5em;\n",
       "  /* unfitted */\n",
       "  background-color: var(--sklearn-color-unfitted-level-0);\n",
       "}\n",
       "\n",
       "#sk-container-id-26 div.sk-estimator.fitted {\n",
       "  /* fitted */\n",
       "  background-color: var(--sklearn-color-fitted-level-0);\n",
       "}\n",
       "\n",
       "/* on hover */\n",
       "#sk-container-id-26 div.sk-estimator:hover {\n",
       "  /* unfitted */\n",
       "  background-color: var(--sklearn-color-unfitted-level-2);\n",
       "}\n",
       "\n",
       "#sk-container-id-26 div.sk-estimator.fitted:hover {\n",
       "  /* fitted */\n",
       "  background-color: var(--sklearn-color-fitted-level-2);\n",
       "}\n",
       "\n",
       "/* Specification for estimator info (e.g. \"i\" and \"?\") */\n",
       "\n",
       "/* Common style for \"i\" and \"?\" */\n",
       "\n",
       ".sk-estimator-doc-link,\n",
       "a:link.sk-estimator-doc-link,\n",
       "a:visited.sk-estimator-doc-link {\n",
       "  float: right;\n",
       "  font-size: smaller;\n",
       "  line-height: 1em;\n",
       "  font-family: monospace;\n",
       "  background-color: var(--sklearn-color-background);\n",
       "  border-radius: 1em;\n",
       "  height: 1em;\n",
       "  width: 1em;\n",
       "  text-decoration: none !important;\n",
       "  margin-left: 1ex;\n",
       "  /* unfitted */\n",
       "  border: var(--sklearn-color-unfitted-level-1) 1pt solid;\n",
       "  color: var(--sklearn-color-unfitted-level-1);\n",
       "}\n",
       "\n",
       ".sk-estimator-doc-link.fitted,\n",
       "a:link.sk-estimator-doc-link.fitted,\n",
       "a:visited.sk-estimator-doc-link.fitted {\n",
       "  /* fitted */\n",
       "  border: var(--sklearn-color-fitted-level-1) 1pt solid;\n",
       "  color: var(--sklearn-color-fitted-level-1);\n",
       "}\n",
       "\n",
       "/* On hover */\n",
       "div.sk-estimator:hover .sk-estimator-doc-link:hover,\n",
       ".sk-estimator-doc-link:hover,\n",
       "div.sk-label-container:hover .sk-estimator-doc-link:hover,\n",
       ".sk-estimator-doc-link:hover {\n",
       "  /* unfitted */\n",
       "  background-color: var(--sklearn-color-unfitted-level-3);\n",
       "  color: var(--sklearn-color-background);\n",
       "  text-decoration: none;\n",
       "}\n",
       "\n",
       "div.sk-estimator.fitted:hover .sk-estimator-doc-link.fitted:hover,\n",
       ".sk-estimator-doc-link.fitted:hover,\n",
       "div.sk-label-container:hover .sk-estimator-doc-link.fitted:hover,\n",
       ".sk-estimator-doc-link.fitted:hover {\n",
       "  /* fitted */\n",
       "  background-color: var(--sklearn-color-fitted-level-3);\n",
       "  color: var(--sklearn-color-background);\n",
       "  text-decoration: none;\n",
       "}\n",
       "\n",
       "/* Span, style for the box shown on hovering the info icon */\n",
       ".sk-estimator-doc-link span {\n",
       "  display: none;\n",
       "  z-index: 9999;\n",
       "  position: relative;\n",
       "  font-weight: normal;\n",
       "  right: .2ex;\n",
       "  padding: .5ex;\n",
       "  margin: .5ex;\n",
       "  width: min-content;\n",
       "  min-width: 20ex;\n",
       "  max-width: 50ex;\n",
       "  color: var(--sklearn-color-text);\n",
       "  box-shadow: 2pt 2pt 4pt #999;\n",
       "  /* unfitted */\n",
       "  background: var(--sklearn-color-unfitted-level-0);\n",
       "  border: .5pt solid var(--sklearn-color-unfitted-level-3);\n",
       "}\n",
       "\n",
       ".sk-estimator-doc-link.fitted span {\n",
       "  /* fitted */\n",
       "  background: var(--sklearn-color-fitted-level-0);\n",
       "  border: var(--sklearn-color-fitted-level-3);\n",
       "}\n",
       "\n",
       ".sk-estimator-doc-link:hover span {\n",
       "  display: block;\n",
       "}\n",
       "\n",
       "/* \"?\"-specific style due to the `<a>` HTML tag */\n",
       "\n",
       "#sk-container-id-26 a.estimator_doc_link {\n",
       "  float: right;\n",
       "  font-size: 1rem;\n",
       "  line-height: 1em;\n",
       "  font-family: monospace;\n",
       "  background-color: var(--sklearn-color-background);\n",
       "  border-radius: 1rem;\n",
       "  height: 1rem;\n",
       "  width: 1rem;\n",
       "  text-decoration: none;\n",
       "  /* unfitted */\n",
       "  color: var(--sklearn-color-unfitted-level-1);\n",
       "  border: var(--sklearn-color-unfitted-level-1) 1pt solid;\n",
       "}\n",
       "\n",
       "#sk-container-id-26 a.estimator_doc_link.fitted {\n",
       "  /* fitted */\n",
       "  border: var(--sklearn-color-fitted-level-1) 1pt solid;\n",
       "  color: var(--sklearn-color-fitted-level-1);\n",
       "}\n",
       "\n",
       "/* On hover */\n",
       "#sk-container-id-26 a.estimator_doc_link:hover {\n",
       "  /* unfitted */\n",
       "  background-color: var(--sklearn-color-unfitted-level-3);\n",
       "  color: var(--sklearn-color-background);\n",
       "  text-decoration: none;\n",
       "}\n",
       "\n",
       "#sk-container-id-26 a.estimator_doc_link.fitted:hover {\n",
       "  /* fitted */\n",
       "  background-color: var(--sklearn-color-fitted-level-3);\n",
       "}\n",
       "</style><div id=\"sk-container-id-26\" class=\"sk-top-container\"><div class=\"sk-text-repr-fallback\"><pre>LogisticRegression()</pre><b>In a Jupyter environment, please rerun this cell to show the HTML representation or trust the notebook. <br />On GitHub, the HTML representation is unable to render, please try loading this page with nbviewer.org.</b></div><div class=\"sk-container\" hidden><div class=\"sk-item\"><div class=\"sk-estimator fitted sk-toggleable\"><input class=\"sk-toggleable__control sk-hidden--visually\" id=\"sk-estimator-id-26\" type=\"checkbox\" checked><label for=\"sk-estimator-id-26\" class=\"sk-toggleable__label fitted sk-toggleable__label-arrow fitted\">&nbsp;&nbsp;LogisticRegression<a class=\"sk-estimator-doc-link fitted\" rel=\"noreferrer\" target=\"_blank\" href=\"https://scikit-learn.org/1.5/modules/generated/sklearn.linear_model.LogisticRegression.html\">?<span>Documentation for LogisticRegression</span></a><span class=\"sk-estimator-doc-link fitted\">i<span>Fitted</span></span></label><div class=\"sk-toggleable__content fitted\"><pre>LogisticRegression()</pre></div> </div></div></div></div>"
      ]
     },
     "execution_count": 442,
     "metadata": {},
     "output_type": "execute_result"
    }
   ],
   "execution_count": 442
  },
  {
   "cell_type": "code",
   "id": "golden-blend",
   "metadata": {
    "execution": {
     "iopub.execute_input": "2022-05-29T09:02:49.955205Z",
     "iopub.status.busy": "2022-05-29T09:02:49.954660Z",
     "iopub.status.idle": "2022-05-29T09:02:49.958051Z",
     "shell.execute_reply": "2022-05-29T09:02:49.958494Z",
     "shell.execute_reply.started": "2021-06-05T17:34:39.964122Z"
    },
    "papermill": {
     "duration": 0.053433,
     "end_time": "2022-05-29T09:02:49.958655",
     "exception": false,
     "start_time": "2022-05-29T09:02:49.905222",
     "status": "completed"
    },
    "tags": [],
    "ExecuteTime": {
     "end_time": "2024-06-12T17:00:17.437510Z",
     "start_time": "2024-06-12T17:00:17.434126Z"
    }
   },
   "source": [
    "# 4. make class predictions for X_test_dtm\n",
    "y_pred_class = logreg.predict(X_test_dtm)"
   ],
   "outputs": [],
   "execution_count": 443
  },
  {
   "cell_type": "code",
   "id": "architectural-output",
   "metadata": {
    "execution": {
     "iopub.execute_input": "2022-05-29T09:02:50.056349Z",
     "iopub.status.busy": "2022-05-29T09:02:50.055810Z",
     "iopub.status.idle": "2022-05-29T09:02:50.064516Z",
     "shell.execute_reply": "2022-05-29T09:02:50.064964Z",
     "shell.execute_reply.started": "2021-06-05T17:34:39.971139Z"
    },
    "papermill": {
     "duration": 0.0594,
     "end_time": "2022-05-29T09:02:50.065111",
     "exception": false,
     "start_time": "2022-05-29T09:02:50.005711",
     "status": "completed"
    },
    "tags": [],
    "ExecuteTime": {
     "end_time": "2024-06-12T17:00:17.441538Z",
     "start_time": "2024-06-12T17:00:17.438497Z"
    }
   },
   "source": [
    "# calculate predicted probabilities for X_test_dtm (well calibrated)\n",
    "y_pred_prob = logreg.predict_proba(X_test_dtm)[:, 1]\n",
    "y_pred_prob"
   ],
   "outputs": [
    {
     "data": {
      "text/plain": [
       "array([3.54268931e-03, 8.70159741e-01, 3.76196686e-03, ...,\n",
       "       2.22365287e-05, 1.21252789e-01, 9.99962411e-01])"
      ]
     },
     "execution_count": 444,
     "metadata": {},
     "output_type": "execute_result"
    }
   ],
   "execution_count": 444
  },
  {
   "cell_type": "code",
   "id": "bright-anthony",
   "metadata": {
    "execution": {
     "iopub.execute_input": "2022-05-29T09:02:50.164957Z",
     "iopub.status.busy": "2022-05-29T09:02:50.164366Z",
     "iopub.status.idle": "2022-05-29T09:02:50.167552Z",
     "shell.execute_reply": "2022-05-29T09:02:50.167964Z",
     "shell.execute_reply.started": "2021-06-05T17:34:39.990528Z"
    },
    "papermill": {
     "duration": 0.05576,
     "end_time": "2022-05-29T09:02:50.168111",
     "exception": false,
     "start_time": "2022-05-29T09:02:50.112351",
     "status": "completed"
    },
    "tags": [],
    "ExecuteTime": {
     "end_time": "2024-06-12T17:00:17.446042Z",
     "start_time": "2024-06-12T17:00:17.442595Z"
    }
   },
   "source": [
    "# calculate accuracy\n",
    "metrics.accuracy_score(y_test, y_pred_class)"
   ],
   "outputs": [
    {
     "data": {
      "text/plain": [
       "0.9763101220387652"
      ]
     },
     "execution_count": 445,
     "metadata": {},
     "output_type": "execute_result"
    }
   ],
   "execution_count": 445
  },
  {
   "cell_type": "code",
   "id": "classified-syntax",
   "metadata": {
    "execution": {
     "iopub.execute_input": "2022-05-29T09:02:50.266007Z",
     "iopub.status.busy": "2022-05-29T09:02:50.265463Z",
     "iopub.status.idle": "2022-05-29T09:02:50.271238Z",
     "shell.execute_reply": "2022-05-29T09:02:50.271691Z",
     "shell.execute_reply.started": "2021-06-05T17:34:40.005008Z"
    },
    "papermill": {
     "duration": 0.056188,
     "end_time": "2022-05-29T09:02:50.271839",
     "exception": false,
     "start_time": "2022-05-29T09:02:50.215651",
     "status": "completed"
    },
    "tags": [],
    "ExecuteTime": {
     "end_time": "2024-06-12T17:00:17.450844Z",
     "start_time": "2024-06-12T17:00:17.446749Z"
    }
   },
   "source": [
    "# calculate AUC\n",
    "metrics.roc_auc_score(y_test, y_pred_prob)"
   ],
   "outputs": [
    {
     "data": {
      "text/plain": [
       "0.9909077326020848"
      ]
     },
     "execution_count": 446,
     "metadata": {},
     "output_type": "execute_result"
    }
   ],
   "execution_count": 446
  },
  {
   "cell_type": "code",
   "id": "sustained-dylan",
   "metadata": {
    "execution": {
     "iopub.execute_input": "2022-05-29T09:02:50.375984Z",
     "iopub.status.busy": "2022-05-29T09:02:50.375426Z",
     "iopub.status.idle": "2022-05-29T09:02:50.400529Z",
     "shell.execute_reply": "2022-05-29T09:02:50.401050Z",
     "shell.execute_reply.started": "2021-06-05T17:34:40.019313Z"
    },
    "papermill": {
     "duration": 0.081387,
     "end_time": "2022-05-29T09:02:50.401203",
     "exception": false,
     "start_time": "2022-05-29T09:02:50.319816",
     "status": "completed"
    },
    "tags": [],
    "ExecuteTime": {
     "end_time": "2024-06-12T17:00:17.490817Z",
     "start_time": "2024-06-12T17:00:17.451563Z"
    }
   },
   "source": [
    "# remove English stop words\n",
    "vect1 = CountVectorizer(stop_words='english')\n",
    "\n",
    "X_train_1 = vect1.fit_transform(X_train)\n",
    "\n",
    "X_train_1\n"
   ],
   "outputs": [
    {
     "data": {
      "text/plain": [
       "<4179x7136 sparse matrix of type '<class 'numpy.int64'>'\n",
       "\twith 32373 stored elements in Compressed Sparse Row format>"
      ]
     },
     "execution_count": 447,
     "metadata": {},
     "output_type": "execute_result"
    }
   ],
   "execution_count": 447
  },
  {
   "cell_type": "code",
   "id": "fuzzy-integrity",
   "metadata": {
    "execution": {
     "iopub.execute_input": "2022-05-29T09:02:50.507748Z",
     "iopub.status.busy": "2022-05-29T09:02:50.506843Z",
     "iopub.status.idle": "2022-05-29T09:02:50.568079Z",
     "shell.execute_reply": "2022-05-29T09:02:50.567611Z",
     "shell.execute_reply.started": "2021-06-05T17:34:40.067701Z"
    },
    "papermill": {
     "duration": 0.117889,
     "end_time": "2022-05-29T09:02:50.568205",
     "exception": false,
     "start_time": "2022-05-29T09:02:50.450316",
     "status": "completed"
    },
    "tags": [],
    "ExecuteTime": {
     "end_time": "2024-06-12T17:00:17.658686Z",
     "start_time": "2024-06-12T17:00:17.491586Z"
    }
   },
   "source": [
    "# include 1-grams and 2-grams\n",
    "\n",
    "# how to differentiate between \"Happy\", \"Not Happy\", \"Very Happy\"\n",
    "vect2 = CountVectorizer(ngram_range=(1, 2))\n",
    "\n",
    "X_train_2 = vect2.fit_transform(X_train)\n",
    "\n",
    "X_train_2"
   ],
   "outputs": [
    {
     "data": {
      "text/plain": [
       "<4179x40734 sparse matrix of type '<class 'numpy.int64'>'\n",
       "\twith 110149 stored elements in Compressed Sparse Row format>"
      ]
     },
     "execution_count": 448,
     "metadata": {},
     "output_type": "execute_result"
    }
   ],
   "execution_count": 448
  },
  {
   "cell_type": "code",
   "id": "afraid-threshold",
   "metadata": {
    "execution": {
     "iopub.execute_input": "2022-05-29T09:02:50.689585Z",
     "iopub.status.busy": "2022-05-29T09:02:50.688689Z",
     "iopub.status.idle": "2022-05-29T09:02:50.699973Z",
     "shell.execute_reply": "2022-05-29T09:02:50.699494Z",
     "shell.execute_reply.started": "2021-06-05T17:34:40.163226Z"
    },
    "papermill": {
     "duration": 0.082974,
     "end_time": "2022-05-29T09:02:50.700098",
     "exception": false,
     "start_time": "2022-05-29T09:02:50.617124",
     "status": "completed"
    },
    "tags": [],
    "ExecuteTime": {
     "end_time": "2024-06-12T17:00:17.703613Z",
     "start_time": "2024-06-12T17:00:17.660314Z"
    }
   },
   "source": [
    "# ignore terms that appear in more than 50% of the documents\n",
    "vect3 = CountVectorizer(max_df=0.5)\n",
    "\n",
    "X_train_3 = vect3.fit_transform(X_train)\n",
    "\n",
    "X_train_3"
   ],
   "outputs": [
    {
     "data": {
      "text/plain": [
       "<4179x7395 sparse matrix of type '<class 'numpy.int64'>'\n",
       "\twith 55109 stored elements in Compressed Sparse Row format>"
      ]
     },
     "execution_count": 449,
     "metadata": {},
     "output_type": "execute_result"
    }
   ],
   "execution_count": 449
  },
  {
   "cell_type": "code",
   "id": "micro-bouquet",
   "metadata": {
    "execution": {
     "iopub.execute_input": "2022-05-29T09:02:50.822429Z",
     "iopub.status.busy": "2022-05-29T09:02:50.821465Z",
     "iopub.status.idle": "2022-05-29T09:02:50.830299Z",
     "shell.execute_reply": "2022-05-29T09:02:50.830745Z",
     "shell.execute_reply.started": "2021-06-05T17:34:40.207795Z"
    },
    "papermill": {
     "duration": 0.081684,
     "end_time": "2022-05-29T09:02:50.830911",
     "exception": false,
     "start_time": "2022-05-29T09:02:50.749227",
     "status": "completed"
    },
    "tags": [],
    "ExecuteTime": {
     "end_time": "2024-06-12T17:00:17.741570Z",
     "start_time": "2024-06-12T17:00:17.704494Z"
    }
   },
   "source": [
    "# only keep terms that appear in at least 2 documents\n",
    "vect4 = CountVectorizer(min_df=2)\n",
    "\n",
    "X_train_4 = vect4.fit_transform(X_train)\n",
    "\n",
    "X_train_4"
   ],
   "outputs": [
    {
     "data": {
      "text/plain": [
       "<4179x3451 sparse matrix of type '<class 'numpy.int64'>'\n",
       "\twith 51165 stored elements in Compressed Sparse Row format>"
      ]
     },
     "execution_count": 450,
     "metadata": {},
     "output_type": "execute_result"
    }
   ],
   "execution_count": 450
  },
  {
   "cell_type": "code",
   "id": "forbidden-textbook",
   "metadata": {
    "execution": {
     "iopub.execute_input": "2022-05-29T09:02:50.935632Z",
     "iopub.status.busy": "2022-05-29T09:02:50.934809Z",
     "iopub.status.idle": "2022-05-29T09:02:50.938096Z",
     "shell.execute_reply": "2022-05-29T09:02:50.937631Z",
     "shell.execute_reply.started": "2021-06-05T17:34:40.252995Z"
    },
    "papermill": {
     "duration": 0.05668,
     "end_time": "2022-05-29T09:02:50.938220",
     "exception": false,
     "start_time": "2022-05-29T09:02:50.881540",
     "status": "completed"
    },
    "tags": [],
    "ExecuteTime": {
     "end_time": "2024-06-12T17:00:17.744484Z",
     "start_time": "2024-06-12T17:00:17.742438Z"
    }
   },
   "source": [
    "vect_combined= CountVectorizer(stop_words='english',ngram_range=(1, 2),min_df=2,max_df=0.5)"
   ],
   "outputs": [],
   "execution_count": 451
  },
  {
   "cell_type": "code",
   "id": "specific-emperor",
   "metadata": {
    "execution": {
     "iopub.execute_input": "2022-05-29T09:02:51.046212Z",
     "iopub.status.busy": "2022-05-29T09:02:51.045659Z",
     "iopub.status.idle": "2022-05-29T09:02:51.095187Z",
     "shell.execute_reply": "2022-05-29T09:02:51.095594Z",
     "shell.execute_reply.started": "2021-06-05T17:34:40.258092Z"
    },
    "papermill": {
     "duration": 0.108363,
     "end_time": "2022-05-29T09:02:51.095752",
     "exception": false,
     "start_time": "2022-05-29T09:02:50.987389",
     "status": "completed"
    },
    "tags": [],
    "ExecuteTime": {
     "end_time": "2024-06-12T17:00:17.814701Z",
     "start_time": "2024-06-12T17:00:17.745376Z"
    }
   },
   "source": [
    "X_train_c = vect_combined.fit_transform(X_train)\n",
    "X_test_c = vect_combined.transform(X_test)\n",
    "\n",
    "X_train_c"
   ],
   "outputs": [
    {
     "data": {
      "text/plain": [
       "<4179x6818 sparse matrix of type '<class 'numpy.int64'>'\n",
       "\twith 39029 stored elements in Compressed Sparse Row format>"
      ]
     },
     "execution_count": 452,
     "metadata": {},
     "output_type": "execute_result"
    }
   ],
   "execution_count": 452
  },
  {
   "cell_type": "code",
   "id": "every-deficit",
   "metadata": {
    "execution": {
     "iopub.execute_input": "2022-05-29T09:02:51.197477Z",
     "iopub.status.busy": "2022-05-29T09:02:51.196910Z",
     "iopub.status.idle": "2022-05-29T09:02:51.203421Z",
     "shell.execute_reply": "2022-05-29T09:02:51.203865Z",
     "shell.execute_reply.started": "2021-06-05T17:34:40.344203Z"
    },
    "papermill": {
     "duration": 0.059006,
     "end_time": "2022-05-29T09:02:51.204015",
     "exception": false,
     "start_time": "2022-05-29T09:02:51.145009",
     "status": "completed"
    },
    "tags": [],
    "ExecuteTime": {
     "end_time": "2024-06-12T17:00:17.820108Z",
     "start_time": "2024-06-12T17:00:17.815698Z"
    }
   },
   "source": [
    "# 1. import\n",
    "from sklearn.naive_bayes import MultinomialNB\n",
    "\n",
    "# 2. instantiate a Multinomial Naive Bayes model\n",
    "nb = MultinomialNB()\n",
    "\n",
    "nb.fit(X_train_c, y_train)\n",
    "\n",
    "y_pred_class = nb.predict(X_test_c)\n",
    "\n",
    "nb_cf_matrix=metrics.confusion_matrix(y_test, y_pred_class)"
   ],
   "outputs": [],
   "execution_count": 453
  },
  {
   "cell_type": "code",
   "id": "behind-season",
   "metadata": {
    "execution": {
     "iopub.execute_input": "2022-05-29T09:02:51.315066Z",
     "iopub.status.busy": "2022-05-29T09:02:51.305662Z",
     "iopub.status.idle": "2022-05-29T09:02:51.520191Z",
     "shell.execute_reply": "2022-05-29T09:02:51.520643Z",
     "shell.execute_reply.started": "2021-06-05T17:34:40.355715Z"
    },
    "papermill": {
     "duration": 0.267456,
     "end_time": "2022-05-29T09:02:51.520810",
     "exception": false,
     "start_time": "2022-05-29T09:02:51.253354",
     "status": "completed"
    },
    "tags": [],
    "ExecuteTime": {
     "end_time": "2024-06-12T17:00:17.917212Z",
     "start_time": "2024-06-12T17:00:17.821079Z"
    }
   },
   "source": [
    "plt.figure(figsize=(8,5))\n",
    "sns.heatmap(nb_cf_matrix, annot=True, fmt='d')"
   ],
   "outputs": [
    {
     "data": {
      "text/plain": [
       "<Axes: >"
      ]
     },
     "execution_count": 454,
     "metadata": {},
     "output_type": "execute_result"
    },
    {
     "data": {
      "text/plain": [
       "<Figure size 800x500 with 2 Axes>"
      ],
      "image/png": "[encoded data removed]"
     },
     "metadata": {},
     "output_type": "display_data"
    }
   ],
   "execution_count": 454
  },
  {
   "metadata": {
    "jupyter": {
     "is_executing": true
    },
    "ExecuteTime": {
     "start_time": "2024-06-12T17:00:17.918436Z"
    }
   },
   "cell_type": "code",
   "source": [
    "!pip install gradio\n",
    "import gradio as gr\n",
    "\n",
    "def classify_message(message):\n",
    "    user_input_dtm = vect_combined.transform([message])  # Vectorize the input message\n",
    "    prediction = nb.predict(user_input_dtm)  # Predict using the trained model\n",
    "    return 'Spam' if prediction[0] == 1 else 'Ham'\n",
    "# Create the Gradio interface\n",
    "interface = gr.Interface(\n",
    "    fn=classify_message,\n",
    "    inputs=gr.Textbox(lines=2, placeholder=\"Enter SMS message...\"),\n",
    "    outputs=gr.Textbox(),\n",
    "    title=\"SMS Ham/Spam Classifier\",\n",
    "    description=\"Enter an SMS message to classify it as Ham or Spam.\"\n",
    ")\n",
    "\n",
    "# Launch the interface\n",
    "interface.launch(debug='True')"
   ],
   "id": "8aed06b036c586e1",
   "outputs": [
    {
     "name": "stdout",
     "output_type": "stream",
     "text": [
      "Requirement already satisfied: gradio in ./.venv/lib/python3.9/site-packages (4.36.1)\r\n",
      "Requirement already satisfied: aiofiles<24.0,>=22.0 in ./.venv/lib/python3.9/site-packages (from gradio) (23.2.1)\r\n",
      "Requirement already satisfied: altair<6.0,>=4.2.0 in ./.venv/lib/python3.9/site-packages (from gradio) (5.3.0)\r\n",
      "Requirement already satisfied: fastapi in ./.venv/lib/python3.9/site-packages (from gradio) (0.111.0)\r\n",
      "Requirement already satisfied: ffmpy in ./.venv/lib/python3.9/site-packages (from gradio) (0.3.2)\r\n",
      "Requirement already satisfied: gradio-client==1.0.1 in ./.venv/lib/python3.9/site-packages (from gradio) (1.0.1)\r\n",
      "Requirement already satisfied: httpx>=0.24.1 in ./.venv/lib/python3.9/site-packages (from gradio) (0.27.0)\r\n",
      "Requirement already satisfied: huggingface-hub>=0.19.3 in ./.venv/lib/python3.9/site-packages (from gradio) (0.23.3)\r\n",
      "Requirement already satisfied: importlib-resources<7.0,>=1.3 in ./.venv/lib/python3.9/site-packages (from gradio) (6.4.0)\r\n",
      "Requirement already satisfied: jinja2<4.0 in ./.venv/lib/python3.9/site-packages (from gradio) (3.1.4)\r\n",
      "Requirement already satisfied: markupsafe~=2.0 in ./.venv/lib/python3.9/site-packages (from gradio) (2.1.5)\r\n",
      "Requirement already satisfied: matplotlib~=3.0 in ./.venv/lib/python3.9/site-packages (from gradio) (3.9.0)\r\n",
      "Requirement already satisfied: numpy<3.0,>=1.0 in ./.venv/lib/python3.9/site-packages (from gradio) (1.26.4)\r\n",
      "Requirement already satisfied: orjson~=3.0 in ./.venv/lib/python3.9/site-packages (from gradio) (3.10.4)\r\n",
      "Requirement already satisfied: packaging in ./.venv/lib/python3.9/site-packages (from gradio) (24.1)\r\n",
      "Requirement already satisfied: pandas<3.0,>=1.0 in ./.venv/lib/python3.9/site-packages (from gradio) (2.2.2)\r\n",
      "Requirement already satisfied: pillow<11.0,>=8.0 in ./.venv/lib/python3.9/site-packages (from gradio) (10.3.0)\r\n",
      "Requirement already satisfied: pydantic>=2.0 in ./.venv/lib/python3.9/site-packages (from gradio) (2.7.4)\r\n",
      "Requirement already satisfied: pydub in ./.venv/lib/python3.9/site-packages (from gradio) (0.25.1)\r\n",
      "Requirement already satisfied: python-multipart>=0.0.9 in ./.venv/lib/python3.9/site-packages (from gradio) (0.0.9)\r\n",
      "Requirement already satisfied: pyyaml<7.0,>=5.0 in ./.venv/lib/python3.9/site-packages (from gradio) (6.0.1)\r\n",
      "Requirement already satisfied: ruff>=0.2.2 in ./.venv/lib/python3.9/site-packages (from gradio) (0.4.8)\r\n",
      "Requirement already satisfied: semantic-version~=2.0 in ./.venv/lib/python3.9/site-packages (from gradio) (2.10.0)\r\n",
      "Requirement already satisfied: tomlkit==0.12.0 in ./.venv/lib/python3.9/site-packages (from gradio) (0.12.0)\r\n",
      "Requirement already satisfied: typer<1.0,>=0.12 in ./.venv/lib/python3.9/site-packages (from gradio) (0.12.3)\r\n",
      "Requirement already satisfied: typing-extensions~=4.0 in ./.venv/lib/python3.9/site-packages (from gradio) (4.12.2)\r\n",
      "Requirement already satisfied: urllib3~=2.0 in ./.venv/lib/python3.9/site-packages (from gradio) (2.2.1)\r\n",
      "Requirement already satisfied: uvicorn>=0.14.0 in ./.venv/lib/python3.9/site-packages (from gradio) (0.30.1)\r\n",
      "Requirement already satisfied: fsspec in ./.venv/lib/python3.9/site-packages (from gradio-client==1.0.1->gradio) (2024.6.0)\r\n",
      "Requirement already satisfied: websockets<12.0,>=10.0 in ./.venv/lib/python3.9/site-packages (from gradio-client==1.0.1->gradio) (11.0.3)\r\n",
      "Requirement already satisfied: jsonschema>=3.0 in ./.venv/lib/python3.9/site-packages (from altair<6.0,>=4.2.0->gradio) (4.22.0)\r\n",
      "Requirement already satisfied: toolz in ./.venv/lib/python3.9/site-packages (from altair<6.0,>=4.2.0->gradio) (0.12.1)\r\n",
      "Requirement already satisfied: anyio in ./.venv/lib/python3.9/site-packages (from httpx>=0.24.1->gradio) (4.4.0)\r\n",
      "Requirement already satisfied: certifi in ./.venv/lib/python3.9/site-packages (from httpx>=0.24.1->gradio) (2024.6.2)\r\n",
      "Requirement already satisfied: httpcore==1.* in ./.venv/lib/python3.9/site-packages (from httpx>=0.24.1->gradio) (1.0.5)\r\n",
      "Requirement already satisfied: idna in ./.venv/lib/python3.9/site-packages (from httpx>=0.24.1->gradio) (3.7)\r\n",
      "Requirement already satisfied: sniffio in ./.venv/lib/python3.9/site-packages (from httpx>=0.24.1->gradio) (1.3.1)\r\n",
      "Requirement already satisfied: h11<0.15,>=0.13 in ./.venv/lib/python3.9/site-packages (from httpcore==1.*->httpx>=0.24.1->gradio) (0.14.0)\r\n",
      "Requirement already satisfied: filelock in ./.venv/lib/python3.9/site-packages (from huggingface-hub>=0.19.3->gradio) (3.14.0)\r\n",
      "Requirement already satisfied: requests in ./.venv/lib/python3.9/site-packages (from huggingface-hub>=0.19.3->gradio) (2.32.3)\r\n",
      "Requirement already satisfied: tqdm>=4.42.1 in ./.venv/lib/python3.9/site-packages (from huggingface-hub>=0.19.3->gradio) (4.66.4)\r\n",
      "Requirement already satisfied: zipp>=3.1.0 in ./.venv/lib/python3.9/site-packages (from importlib-resources<7.0,>=1.3->gradio) (3.19.2)\r\n",
      "Requirement already satisfied: contourpy>=1.0.1 in ./.venv/lib/python3.9/site-packages (from matplotlib~=3.0->gradio) (1.2.1)\r\n",
      "Requirement already satisfied: cycler>=0.10 in ./.venv/lib/python3.9/site-packages (from matplotlib~=3.0->gradio) (0.12.1)\r\n",
      "Requirement already satisfied: fonttools>=4.22.0 in ./.venv/lib/python3.9/site-packages (from matplotlib~=3.0->gradio) (4.53.0)\r\n",
      "Requirement already satisfied: kiwisolver>=1.3.1 in ./.venv/lib/python3.9/site-packages (from matplotlib~=3.0->gradio) (1.4.5)\r\n",
      "Requirement already satisfied: pyparsing>=2.3.1 in ./.venv/lib/python3.9/site-packages (from matplotlib~=3.0->gradio) (3.1.2)\r\n",
      "Requirement already satisfied: python-dateutil>=2.7 in ./.venv/lib/python3.9/site-packages (from matplotlib~=3.0->gradio) (2.9.0.post0)\r\n",
      "Requirement already satisfied: pytz>=2020.1 in ./.venv/lib/python3.9/site-packages (from pandas<3.0,>=1.0->gradio) (2024.1)\r\n",
      "Requirement already satisfied: tzdata>=2022.7 in ./.venv/lib/python3.9/site-packages (from pandas<3.0,>=1.0->gradio) (2024.1)\r\n",
      "Requirement already satisfied: annotated-types>=0.4.0 in ./.venv/lib/python3.9/site-packages (from pydantic>=2.0->gradio) (0.7.0)\r\n",
      "Requirement already satisfied: pydantic-core==2.18.4 in ./.venv/lib/python3.9/site-packages (from pydantic>=2.0->gradio) (2.18.4)\r\n",
      "Requirement already satisfied: click>=8.0.0 in ./.venv/lib/python3.9/site-packages (from typer<1.0,>=0.12->gradio) (8.1.7)\r\n",
      "Requirement already satisfied: shellingham>=1.3.0 in ./.venv/lib/python3.9/site-packages (from typer<1.0,>=0.12->gradio) (1.5.4)\r\n",
      "Requirement already satisfied: rich>=10.11.0 in ./.venv/lib/python3.9/site-packages (from typer<1.0,>=0.12->gradio) (13.7.1)\r\n",
      "Requirement already satisfied: starlette<0.38.0,>=0.37.2 in ./.venv/lib/python3.9/site-packages (from fastapi->gradio) (0.37.2)\r\n",
      "Requirement already satisfied: fastapi-cli>=0.0.2 in ./.venv/lib/python3.9/site-packages (from fastapi->gradio) (0.0.4)\r\n",
      "Requirement already satisfied: ujson!=4.0.2,!=4.1.0,!=4.2.0,!=4.3.0,!=5.0.0,!=5.1.0,>=4.0.1 in ./.venv/lib/python3.9/site-packages (from fastapi->gradio) (5.10.0)\r\n",
      "Requirement already satisfied: email_validator>=2.0.0 in ./.venv/lib/python3.9/site-packages (from fastapi->gradio) (2.1.1)\r\n",
      "Requirement already satisfied: dnspython>=2.0.0 in ./.venv/lib/python3.9/site-packages (from email_validator>=2.0.0->fastapi->gradio) (2.6.1)\r\n",
      "Requirement already satisfied: attrs>=22.2.0 in ./.venv/lib/python3.9/site-packages (from jsonschema>=3.0->altair<6.0,>=4.2.0->gradio) (23.2.0)\r\n",
      "Requirement already satisfied: jsonschema-specifications>=2023.03.6 in ./.venv/lib/python3.9/site-packages (from jsonschema>=3.0->altair<6.0,>=4.2.0->gradio) (2023.12.1)\r\n",
      "Requirement already satisfied: referencing>=0.28.4 in ./.venv/lib/python3.9/site-packages (from jsonschema>=3.0->altair<6.0,>=4.2.0->gradio) (0.35.1)\r\n",
      "Requirement already satisfied: rpds-py>=0.7.1 in ./.venv/lib/python3.9/site-packages (from jsonschema>=3.0->altair<6.0,>=4.2.0->gradio) (0.18.1)\r\n",
      "Requirement already satisfied: six>=1.5 in ./.venv/lib/python3.9/site-packages (from python-dateutil>=2.7->matplotlib~=3.0->gradio) (1.16.0)\r\n",
      "Requirement already satisfied: markdown-it-py>=2.2.0 in ./.venv/lib/python3.9/site-packages (from rich>=10.11.0->typer<1.0,>=0.12->gradio) (3.0.0)\r\n",
      "Requirement already satisfied: pygments<3.0.0,>=2.13.0 in ./.venv/lib/python3.9/site-packages (from rich>=10.11.0->typer<1.0,>=0.12->gradio) (2.18.0)\r\n",
      "Requirement already satisfied: exceptiongroup>=1.0.2 in ./.venv/lib/python3.9/site-packages (from anyio->httpx>=0.24.1->gradio) (1.2.1)\r\n",
      "Requirement already satisfied: httptools>=0.5.0 in ./.venv/lib/python3.9/site-packages (from uvicorn[standard]>=0.12.0->fastapi->gradio) (0.6.1)\r\n",
      "Requirement already satisfied: python-dotenv>=0.13 in ./.venv/lib/python3.9/site-packages (from uvicorn[standard]>=0.12.0->fastapi->gradio) (1.0.1)\r\n",
      "Requirement already satisfied: uvloop!=0.15.0,!=0.15.1,>=0.14.0 in ./.venv/lib/python3.9/site-packages (from uvicorn[standard]>=0.12.0->fastapi->gradio) (0.19.0)\r\n",
      "Requirement already satisfied: watchfiles>=0.13 in ./.venv/lib/python3.9/site-packages (from uvicorn[standard]>=0.12.0->fastapi->gradio) (0.22.0)\r\n",
      "Requirement already satisfied: charset-normalizer<4,>=2 in ./.venv/lib/python3.9/site-packages (from requests->huggingface-hub>=0.19.3->gradio) (3.3.2)\r\n",
      "Requirement already satisfied: mdurl~=0.1 in ./.venv/lib/python3.9/site-packages (from markdown-it-py>=2.2.0->rich>=10.11.0->typer<1.0,>=0.12->gradio) (0.1.2)\r\n",
      "Running on local URL:  http://127.0.0.1:7861\n",
      "\n",
      "To create a public link, set `share=True` in `launch()`.\n"
     ]
    },
    {
     "data": {
      "text/plain": [
       "<IPython.core.display.HTML object>"
      ],
      "text/html": [
       "<div><iframe src=\"http://127.0.0.1:7861/\" width=\"100%\" height=\"500\" allow=\"autoplay; camera; microphone; clipboard-read; clipboard-write;\" frameborder=\"0\" allowfullscreen></iframe></div>"
      ]
     },
     "metadata": {},
     "output_type": "display_data"
    }
   ],
   "execution_count": null
  }
 ],
 "metadata": {
  "kernelspec": {
   "display_name": "Python 3",
   "language": "python",
   "name": "python3"
  },
  "language_info": {
   "codemirror_mode": {
    "name": "ipython",
    "version": 3
   },
   "file_extension": ".py",
   "mimetype": "text/x-python",
   "name": "python",
   "nbconvert_exporter": "python",
   "pygments_lexer": "ipython3",
   "version": "3.7.10"
  },
  "papermill": {
   "default_parameters": {},
   "duration": 17.834047,
   "end_time": "2022-05-29T09:02:53.431382",
   "environment_variables": {},
   "exception": null,
   "input_path": "__notebook__.ipynb",
   "output_path": "__notebook__.ipynb",
   "parameters": {},
   "start_time": "2022-05-29T09:02:35.597335",
   "version": "2.3.3"
  }
 },
 "nbformat": 4,
 "nbformat_minor": 5
}

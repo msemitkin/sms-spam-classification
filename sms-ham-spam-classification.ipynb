{
 "cells": [
  {
   "metadata": {},
   "cell_type": "markdown",
   "source": "# sms ham & spam classification",
   "id": "537b68edac8971e2"
  },
  {
   "metadata": {},
   "cell_type": "markdown",
   "source": "## 1st we know how countvectorizer work\n",
   "id": "cc91ade8d927bdad"
  },
  {
   "cell_type": "markdown",
   "id": "excessive-referral",
   "metadata": {
    "papermill": {
     "duration": 0.03643,
     "end_time": "2022-05-29T09:02:42.675046",
     "exception": false,
     "start_time": "2022-05-29T09:02:42.638616",
     "status": "completed"
    },
    "tags": []
   },
   "source": [
    "**Here we going to make a sample data**"
   ]
  },
  {
   "metadata": {
    "ExecuteTime": {
     "end_time": "2024-06-11T17:25:36.320212Z",
     "start_time": "2024-06-11T17:25:36.318273Z"
    }
   },
   "cell_type": "code",
   "source": [
    "# example text for model training\n",
    "simple_train = ['call you tonight', 'Call me a cab', 'please call me.. please']"
   ],
   "id": "72f1afe85e286abd",
   "outputs": [],
   "execution_count": 1
  },
  {
   "cell_type": "markdown",
   "id": "attractive-norwegian",
   "metadata": {
    "papermill": {
     "duration": 0.037232,
     "end_time": "2022-05-29T09:02:42.836137",
     "exception": false,
     "start_time": "2022-05-29T09:02:42.798905",
     "status": "completed"
    },
    "tags": []
   },
   "source": "**import and instantiate CountVectorizer (with the default parameters)**"
  },
  {
   "metadata": {
    "ExecuteTime": {
     "end_time": "2024-06-11T17:33:58.493980Z",
     "start_time": "2024-06-11T17:33:50.247916Z"
    }
   },
   "cell_type": "code",
   "source": [
    "!pip install scikit-learn\n",
    "!pip install pandas\n",
    "!pip install seaborn\n",
    "!pip install matplotlib"
   ],
   "id": "7d86cc237cdf6f95",
   "outputs": [
    {
     "name": "stdout",
     "output_type": "stream",
     "text": [
      "Requirement already satisfied: scikit-learn in ./.venv/lib/python3.9/site-packages (1.5.0)\r\n",
      "Requirement already satisfied: numpy>=1.19.5 in ./.venv/lib/python3.9/site-packages (from scikit-learn) (1.26.4)\r\n",
      "Requirement already satisfied: scipy>=1.6.0 in ./.venv/lib/python3.9/site-packages (from scikit-learn) (1.13.1)\r\n",
      "Requirement already satisfied: joblib>=1.2.0 in ./.venv/lib/python3.9/site-packages (from scikit-learn) (1.4.2)\r\n",
      "Requirement already satisfied: threadpoolctl>=3.1.0 in ./.venv/lib/python3.9/site-packages (from scikit-learn) (3.5.0)\r\n",
      "Requirement already satisfied: pandas in ./.venv/lib/python3.9/site-packages (2.2.2)\r\n",
      "Requirement already satisfied: numpy>=1.22.4 in ./.venv/lib/python3.9/site-packages (from pandas) (1.26.4)\r\n",
      "Requirement already satisfied: python-dateutil>=2.8.2 in ./.venv/lib/python3.9/site-packages (from pandas) (2.9.0.post0)\r\n",
      "Requirement already satisfied: pytz>=2020.1 in ./.venv/lib/python3.9/site-packages (from pandas) (2024.1)\r\n",
      "Requirement already satisfied: tzdata>=2022.7 in ./.venv/lib/python3.9/site-packages (from pandas) (2024.1)\r\n",
      "Requirement already satisfied: six>=1.5 in ./.venv/lib/python3.9/site-packages (from python-dateutil>=2.8.2->pandas) (1.16.0)\r\n",
      "Collecting seaborn\r\n",
      "  Downloading seaborn-0.13.2-py3-none-any.whl.metadata (5.4 kB)\r\n",
      "Requirement already satisfied: numpy!=1.24.0,>=1.20 in ./.venv/lib/python3.9/site-packages (from seaborn) (1.26.4)\r\n",
      "Requirement already satisfied: pandas>=1.2 in ./.venv/lib/python3.9/site-packages (from seaborn) (2.2.2)\r\n",
      "Collecting matplotlib!=3.6.1,>=3.4 (from seaborn)\r\n",
      "  Downloading matplotlib-3.9.0-cp39-cp39-macosx_11_0_arm64.whl.metadata (11 kB)\r\n",
      "Collecting contourpy>=1.0.1 (from matplotlib!=3.6.1,>=3.4->seaborn)\r\n",
      "  Downloading contourpy-1.2.1-cp39-cp39-macosx_11_0_arm64.whl.metadata (5.8 kB)\r\n",
      "Collecting cycler>=0.10 (from matplotlib!=3.6.1,>=3.4->seaborn)\r\n",
      "  Downloading cycler-0.12.1-py3-none-any.whl.metadata (3.8 kB)\r\n",
      "Collecting fonttools>=4.22.0 (from matplotlib!=3.6.1,>=3.4->seaborn)\r\n",
      "  Downloading fonttools-4.53.0-cp39-cp39-macosx_11_0_arm64.whl.metadata (162 kB)\r\n",
      "\u001B[2K     \u001B[90m━━━━━━━━━━━━━━━━━━━━━━━━━━━━━━━━━━━━━━━\u001B[0m \u001B[32m162.2/162.2 kB\u001B[0m \u001B[31m1.3 MB/s\u001B[0m eta \u001B[36m0:00:00\u001B[0ma \u001B[36m0:00:01\u001B[0m\r\n",
      "\u001B[?25hCollecting kiwisolver>=1.3.1 (from matplotlib!=3.6.1,>=3.4->seaborn)\r\n",
      "  Downloading kiwisolver-1.4.5-cp39-cp39-macosx_11_0_arm64.whl.metadata (6.4 kB)\r\n",
      "Requirement already satisfied: packaging>=20.0 in ./.venv/lib/python3.9/site-packages (from matplotlib!=3.6.1,>=3.4->seaborn) (24.1)\r\n",
      "Collecting pillow>=8 (from matplotlib!=3.6.1,>=3.4->seaborn)\r\n",
      "  Downloading pillow-10.3.0-cp39-cp39-macosx_11_0_arm64.whl.metadata (9.2 kB)\r\n",
      "Collecting pyparsing>=2.3.1 (from matplotlib!=3.6.1,>=3.4->seaborn)\r\n",
      "  Downloading pyparsing-3.1.2-py3-none-any.whl.metadata (5.1 kB)\r\n",
      "Requirement already satisfied: python-dateutil>=2.7 in ./.venv/lib/python3.9/site-packages (from matplotlib!=3.6.1,>=3.4->seaborn) (2.9.0.post0)\r\n",
      "Collecting importlib-resources>=3.2.0 (from matplotlib!=3.6.1,>=3.4->seaborn)\r\n",
      "  Downloading importlib_resources-6.4.0-py3-none-any.whl.metadata (3.9 kB)\r\n",
      "Requirement already satisfied: pytz>=2020.1 in ./.venv/lib/python3.9/site-packages (from pandas>=1.2->seaborn) (2024.1)\r\n",
      "Requirement already satisfied: tzdata>=2022.7 in ./.venv/lib/python3.9/site-packages (from pandas>=1.2->seaborn) (2024.1)\r\n",
      "Requirement already satisfied: zipp>=3.1.0 in ./.venv/lib/python3.9/site-packages (from importlib-resources>=3.2.0->matplotlib!=3.6.1,>=3.4->seaborn) (3.19.2)\r\n",
      "Requirement already satisfied: six>=1.5 in ./.venv/lib/python3.9/site-packages (from python-dateutil>=2.7->matplotlib!=3.6.1,>=3.4->seaborn) (1.16.0)\r\n",
      "Downloading seaborn-0.13.2-py3-none-any.whl (294 kB)\r\n",
      "\u001B[2K   \u001B[90m━━━━━━━━━━━━━━━━━━━━━━━━━━━━━━━━━━━━━━━━\u001B[0m \u001B[32m294.9/294.9 kB\u001B[0m \u001B[31m4.5 MB/s\u001B[0m eta \u001B[36m0:00:00\u001B[0ma \u001B[36m0:00:01\u001B[0m\r\n",
      "\u001B[?25hDownloading matplotlib-3.9.0-cp39-cp39-macosx_11_0_arm64.whl (7.8 MB)\r\n",
      "\u001B[2K   \u001B[90m━━━━━━━━━━━━━━━━━━━━━━━━━━━━━━━━━━━━━━━━\u001B[0m \u001B[32m7.8/7.8 MB\u001B[0m \u001B[31m32.6 MB/s\u001B[0m eta \u001B[36m0:00:00\u001B[0m00:01\u001B[0m00:01\u001B[0m\r\n",
      "\u001B[?25hDownloading contourpy-1.2.1-cp39-cp39-macosx_11_0_arm64.whl (244 kB)\r\n",
      "\u001B[2K   \u001B[90m━━━━━━━━━━━━━━━━━━━━━━━━━━━━━━━━━━━━━━━━\u001B[0m \u001B[32m245.0/245.0 kB\u001B[0m \u001B[31m17.5 MB/s\u001B[0m eta \u001B[36m0:00:00\u001B[0m\r\n",
      "\u001B[?25hDownloading cycler-0.12.1-py3-none-any.whl (8.3 kB)\r\n",
      "Downloading fonttools-4.53.0-cp39-cp39-macosx_11_0_arm64.whl (2.2 MB)\r\n",
      "\u001B[2K   \u001B[90m━━━━━━━━━━━━━━━━━━━━━━━━━━━━━━━━━━━━━━━━\u001B[0m \u001B[32m2.2/2.2 MB\u001B[0m \u001B[31m53.2 MB/s\u001B[0m eta \u001B[36m0:00:00\u001B[0m00:01\u001B[0m\r\n",
      "\u001B[?25hDownloading importlib_resources-6.4.0-py3-none-any.whl (38 kB)\r\n",
      "Downloading kiwisolver-1.4.5-cp39-cp39-macosx_11_0_arm64.whl (66 kB)\r\n",
      "\u001B[2K   \u001B[90m━━━━━━━━━━━━━━━━━━━━━━━━━━━━━━━━━━━━━━━━\u001B[0m \u001B[32m66.2/66.2 kB\u001B[0m \u001B[31m4.4 MB/s\u001B[0m eta \u001B[36m0:00:00\u001B[0m\r\n",
      "\u001B[?25hDownloading pillow-10.3.0-cp39-cp39-macosx_11_0_arm64.whl (3.4 MB)\r\n",
      "\u001B[2K   \u001B[90m━━━━━━━━━━━━━━━━━━━━━━━━━━━━━━━━━━━━━━━━\u001B[0m \u001B[32m3.4/3.4 MB\u001B[0m \u001B[31m41.7 MB/s\u001B[0m eta \u001B[36m0:00:00\u001B[0m00:01\u001B[0m00:01\u001B[0m\r\n",
      "\u001B[?25hDownloading pyparsing-3.1.2-py3-none-any.whl (103 kB)\r\n",
      "\u001B[2K   \u001B[90m━━━━━━━━━━━━━━━━━━━━━━━━━━━━━━━━━━━━━━━━\u001B[0m \u001B[32m103.2/103.2 kB\u001B[0m \u001B[31m10.3 MB/s\u001B[0m eta \u001B[36m0:00:00\u001B[0m\r\n",
      "\u001B[?25hInstalling collected packages: pyparsing, pillow, kiwisolver, importlib-resources, fonttools, cycler, contourpy, matplotlib, seaborn\r\n",
      "Successfully installed contourpy-1.2.1 cycler-0.12.1 fonttools-4.53.0 importlib-resources-6.4.0 kiwisolver-1.4.5 matplotlib-3.9.0 pillow-10.3.0 pyparsing-3.1.2 seaborn-0.13.2\r\n",
      "Requirement already satisfied: matplotlib in ./.venv/lib/python3.9/site-packages (3.9.0)\r\n",
      "Requirement already satisfied: contourpy>=1.0.1 in ./.venv/lib/python3.9/site-packages (from matplotlib) (1.2.1)\r\n",
      "Requirement already satisfied: cycler>=0.10 in ./.venv/lib/python3.9/site-packages (from matplotlib) (0.12.1)\r\n",
      "Requirement already satisfied: fonttools>=4.22.0 in ./.venv/lib/python3.9/site-packages (from matplotlib) (4.53.0)\r\n",
      "Requirement already satisfied: kiwisolver>=1.3.1 in ./.venv/lib/python3.9/site-packages (from matplotlib) (1.4.5)\r\n",
      "Requirement already satisfied: numpy>=1.23 in ./.venv/lib/python3.9/site-packages (from matplotlib) (1.26.4)\r\n",
      "Requirement already satisfied: packaging>=20.0 in ./.venv/lib/python3.9/site-packages (from matplotlib) (24.1)\r\n",
      "Requirement already satisfied: pillow>=8 in ./.venv/lib/python3.9/site-packages (from matplotlib) (10.3.0)\r\n",
      "Requirement already satisfied: pyparsing>=2.3.1 in ./.venv/lib/python3.9/site-packages (from matplotlib) (3.1.2)\r\n",
      "Requirement already satisfied: python-dateutil>=2.7 in ./.venv/lib/python3.9/site-packages (from matplotlib) (2.9.0.post0)\r\n",
      "Requirement already satisfied: importlib-resources>=3.2.0 in ./.venv/lib/python3.9/site-packages (from matplotlib) (6.4.0)\r\n",
      "Requirement already satisfied: zipp>=3.1.0 in ./.venv/lib/python3.9/site-packages (from importlib-resources>=3.2.0->matplotlib) (3.19.2)\r\n",
      "Requirement already satisfied: six>=1.5 in ./.venv/lib/python3.9/site-packages (from python-dateutil>=2.7->matplotlib) (1.16.0)\r\n"
     ]
    }
   ],
   "execution_count": 21
  },
  {
   "cell_type": "code",
   "id": "surgical-thailand",
   "metadata": {
    "execution": {
     "iopub.execute_input": "2022-05-29T09:02:42.912739Z",
     "iopub.status.busy": "2022-05-29T09:02:42.912158Z",
     "iopub.status.idle": "2022-05-29T09:02:43.723601Z",
     "shell.execute_reply": "2022-05-29T09:02:43.724078Z",
     "shell.execute_reply.started": "2021-12-24T15:23:43.694664Z"
    },
    "papermill": {
     "duration": 0.851246,
     "end_time": "2022-05-29T09:02:43.724237",
     "exception": false,
     "start_time": "2022-05-29T09:02:42.872991",
     "status": "completed"
    },
    "tags": [],
    "ExecuteTime": {
     "end_time": "2024-06-11T17:27:54.805659Z",
     "start_time": "2024-06-11T17:27:46.889716Z"
    }
   },
   "source": [
    "from sklearn.feature_extraction.text import CountVectorizer\n",
    "\n",
    "#  instantiate CountVectorizer (vectorizer)\n",
    "vect = CountVectorizer()"
   ],
   "outputs": [],
   "execution_count": 5
  },
  {
   "cell_type": "markdown",
   "id": "restricted-clothing",
   "metadata": {
    "papermill": {
     "duration": 0.041305,
     "end_time": "2022-05-29T09:02:43.809858",
     "exception": false,
     "start_time": "2022-05-29T09:02:43.768553",
     "status": "completed"
    },
    "tags": []
   },
   "source": [
    "**When we fit CountVectorizer it will a vocabulary of word in a dict**"
   ]
  },
  {
   "cell_type": "code",
   "id": "instructional-withdrawal",
   "metadata": {
    "execution": {
     "iopub.execute_input": "2022-05-29T09:02:43.897775Z",
     "iopub.status.busy": "2022-05-29T09:02:43.897117Z",
     "iopub.status.idle": "2022-05-29T09:02:43.904627Z",
     "shell.execute_reply": "2022-05-29T09:02:43.905076Z",
     "shell.execute_reply.started": "2021-12-24T15:24:24.668841Z"
    },
    "papermill": {
     "duration": 0.052908,
     "end_time": "2022-05-29T09:02:43.905342",
     "exception": false,
     "start_time": "2022-05-29T09:02:43.852434",
     "status": "completed"
    },
    "tags": [],
    "ExecuteTime": {
     "end_time": "2024-06-11T17:28:38.852748Z",
     "start_time": "2024-06-11T17:28:38.849435Z"
    }
   },
   "source": [
    "# 3. fit\n",
    "# learn the 'vocabulary' of the training data (occurs in-place)\n",
    "vect.fit(simple_train)"
   ],
   "outputs": [
    {
     "data": {
      "text/plain": [
       "CountVectorizer()"
      ],
      "text/html": [
       "<style>#sk-container-id-3 {\n",
       "  /* Definition of color scheme common for light and dark mode */\n",
       "  --sklearn-color-text: black;\n",
       "  --sklearn-color-line: gray;\n",
       "  /* Definition of color scheme for unfitted estimators */\n",
       "  --sklearn-color-unfitted-level-0: #fff5e6;\n",
       "  --sklearn-color-unfitted-level-1: #f6e4d2;\n",
       "  --sklearn-color-unfitted-level-2: #ffe0b3;\n",
       "  --sklearn-color-unfitted-level-3: chocolate;\n",
       "  /* Definition of color scheme for fitted estimators */\n",
       "  --sklearn-color-fitted-level-0: #f0f8ff;\n",
       "  --sklearn-color-fitted-level-1: #d4ebff;\n",
       "  --sklearn-color-fitted-level-2: #b3dbfd;\n",
       "  --sklearn-color-fitted-level-3: cornflowerblue;\n",
       "\n",
       "  /* Specific color for light theme */\n",
       "  --sklearn-color-text-on-default-background: var(--sg-text-color, var(--theme-code-foreground, var(--jp-content-font-color1, black)));\n",
       "  --sklearn-color-background: var(--sg-background-color, var(--theme-background, var(--jp-layout-color0, white)));\n",
       "  --sklearn-color-border-box: var(--sg-text-color, var(--theme-code-foreground, var(--jp-content-font-color1, black)));\n",
       "  --sklearn-color-icon: #696969;\n",
       "\n",
       "  @media (prefers-color-scheme: dark) {\n",
       "    /* Redefinition of color scheme for dark theme */\n",
       "    --sklearn-color-text-on-default-background: var(--sg-text-color, var(--theme-code-foreground, var(--jp-content-font-color1, white)));\n",
       "    --sklearn-color-background: var(--sg-background-color, var(--theme-background, var(--jp-layout-color0, #111)));\n",
       "    --sklearn-color-border-box: var(--sg-text-color, var(--theme-code-foreground, var(--jp-content-font-color1, white)));\n",
       "    --sklearn-color-icon: #878787;\n",
       "  }\n",
       "}\n",
       "\n",
       "#sk-container-id-3 {\n",
       "  color: var(--sklearn-color-text);\n",
       "}\n",
       "\n",
       "#sk-container-id-3 pre {\n",
       "  padding: 0;\n",
       "}\n",
       "\n",
       "#sk-container-id-3 input.sk-hidden--visually {\n",
       "  border: 0;\n",
       "  clip: rect(1px 1px 1px 1px);\n",
       "  clip: rect(1px, 1px, 1px, 1px);\n",
       "  height: 1px;\n",
       "  margin: -1px;\n",
       "  overflow: hidden;\n",
       "  padding: 0;\n",
       "  position: absolute;\n",
       "  width: 1px;\n",
       "}\n",
       "\n",
       "#sk-container-id-3 div.sk-dashed-wrapped {\n",
       "  border: 1px dashed var(--sklearn-color-line);\n",
       "  margin: 0 0.4em 0.5em 0.4em;\n",
       "  box-sizing: border-box;\n",
       "  padding-bottom: 0.4em;\n",
       "  background-color: var(--sklearn-color-background);\n",
       "}\n",
       "\n",
       "#sk-container-id-3 div.sk-container {\n",
       "  /* jupyter's `normalize.less` sets `[hidden] { display: none; }`\n",
       "     but bootstrap.min.css set `[hidden] { display: none !important; }`\n",
       "     so we also need the `!important` here to be able to override the\n",
       "     default hidden behavior on the sphinx rendered scikit-learn.org.\n",
       "     See: https://github.com/scikit-learn/scikit-learn/issues/21755 */\n",
       "  display: inline-block !important;\n",
       "  position: relative;\n",
       "}\n",
       "\n",
       "#sk-container-id-3 div.sk-text-repr-fallback {\n",
       "  display: none;\n",
       "}\n",
       "\n",
       "div.sk-parallel-item,\n",
       "div.sk-serial,\n",
       "div.sk-item {\n",
       "  /* draw centered vertical line to link estimators */\n",
       "  background-image: linear-gradient(var(--sklearn-color-text-on-default-background), var(--sklearn-color-text-on-default-background));\n",
       "  background-size: 2px 100%;\n",
       "  background-repeat: no-repeat;\n",
       "  background-position: center center;\n",
       "}\n",
       "\n",
       "/* Parallel-specific style estimator block */\n",
       "\n",
       "#sk-container-id-3 div.sk-parallel-item::after {\n",
       "  content: \"\";\n",
       "  width: 100%;\n",
       "  border-bottom: 2px solid var(--sklearn-color-text-on-default-background);\n",
       "  flex-grow: 1;\n",
       "}\n",
       "\n",
       "#sk-container-id-3 div.sk-parallel {\n",
       "  display: flex;\n",
       "  align-items: stretch;\n",
       "  justify-content: center;\n",
       "  background-color: var(--sklearn-color-background);\n",
       "  position: relative;\n",
       "}\n",
       "\n",
       "#sk-container-id-3 div.sk-parallel-item {\n",
       "  display: flex;\n",
       "  flex-direction: column;\n",
       "}\n",
       "\n",
       "#sk-container-id-3 div.sk-parallel-item:first-child::after {\n",
       "  align-self: flex-end;\n",
       "  width: 50%;\n",
       "}\n",
       "\n",
       "#sk-container-id-3 div.sk-parallel-item:last-child::after {\n",
       "  align-self: flex-start;\n",
       "  width: 50%;\n",
       "}\n",
       "\n",
       "#sk-container-id-3 div.sk-parallel-item:only-child::after {\n",
       "  width: 0;\n",
       "}\n",
       "\n",
       "/* Serial-specific style estimator block */\n",
       "\n",
       "#sk-container-id-3 div.sk-serial {\n",
       "  display: flex;\n",
       "  flex-direction: column;\n",
       "  align-items: center;\n",
       "  background-color: var(--sklearn-color-background);\n",
       "  padding-right: 1em;\n",
       "  padding-left: 1em;\n",
       "}\n",
       "\n",
       "\n",
       "/* Toggleable style: style used for estimator/Pipeline/ColumnTransformer box that is\n",
       "clickable and can be expanded/collapsed.\n",
       "- Pipeline and ColumnTransformer use this feature and define the default style\n",
       "- Estimators will overwrite some part of the style using the `sk-estimator` class\n",
       "*/\n",
       "\n",
       "/* Pipeline and ColumnTransformer style (default) */\n",
       "\n",
       "#sk-container-id-3 div.sk-toggleable {\n",
       "  /* Default theme specific background. It is overwritten whether we have a\n",
       "  specific estimator or a Pipeline/ColumnTransformer */\n",
       "  background-color: var(--sklearn-color-background);\n",
       "}\n",
       "\n",
       "/* Toggleable label */\n",
       "#sk-container-id-3 label.sk-toggleable__label {\n",
       "  cursor: pointer;\n",
       "  display: block;\n",
       "  width: 100%;\n",
       "  margin-bottom: 0;\n",
       "  padding: 0.5em;\n",
       "  box-sizing: border-box;\n",
       "  text-align: center;\n",
       "}\n",
       "\n",
       "#sk-container-id-3 label.sk-toggleable__label-arrow:before {\n",
       "  /* Arrow on the left of the label */\n",
       "  content: \"▸\";\n",
       "  float: left;\n",
       "  margin-right: 0.25em;\n",
       "  color: var(--sklearn-color-icon);\n",
       "}\n",
       "\n",
       "#sk-container-id-3 label.sk-toggleable__label-arrow:hover:before {\n",
       "  color: var(--sklearn-color-text);\n",
       "}\n",
       "\n",
       "/* Toggleable content - dropdown */\n",
       "\n",
       "#sk-container-id-3 div.sk-toggleable__content {\n",
       "  max-height: 0;\n",
       "  max-width: 0;\n",
       "  overflow: hidden;\n",
       "  text-align: left;\n",
       "  /* unfitted */\n",
       "  background-color: var(--sklearn-color-unfitted-level-0);\n",
       "}\n",
       "\n",
       "#sk-container-id-3 div.sk-toggleable__content.fitted {\n",
       "  /* fitted */\n",
       "  background-color: var(--sklearn-color-fitted-level-0);\n",
       "}\n",
       "\n",
       "#sk-container-id-3 div.sk-toggleable__content pre {\n",
       "  margin: 0.2em;\n",
       "  border-radius: 0.25em;\n",
       "  color: var(--sklearn-color-text);\n",
       "  /* unfitted */\n",
       "  background-color: var(--sklearn-color-unfitted-level-0);\n",
       "}\n",
       "\n",
       "#sk-container-id-3 div.sk-toggleable__content.fitted pre {\n",
       "  /* unfitted */\n",
       "  background-color: var(--sklearn-color-fitted-level-0);\n",
       "}\n",
       "\n",
       "#sk-container-id-3 input.sk-toggleable__control:checked~div.sk-toggleable__content {\n",
       "  /* Expand drop-down */\n",
       "  max-height: 200px;\n",
       "  max-width: 100%;\n",
       "  overflow: auto;\n",
       "}\n",
       "\n",
       "#sk-container-id-3 input.sk-toggleable__control:checked~label.sk-toggleable__label-arrow:before {\n",
       "  content: \"▾\";\n",
       "}\n",
       "\n",
       "/* Pipeline/ColumnTransformer-specific style */\n",
       "\n",
       "#sk-container-id-3 div.sk-label input.sk-toggleable__control:checked~label.sk-toggleable__label {\n",
       "  color: var(--sklearn-color-text);\n",
       "  background-color: var(--sklearn-color-unfitted-level-2);\n",
       "}\n",
       "\n",
       "#sk-container-id-3 div.sk-label.fitted input.sk-toggleable__control:checked~label.sk-toggleable__label {\n",
       "  background-color: var(--sklearn-color-fitted-level-2);\n",
       "}\n",
       "\n",
       "/* Estimator-specific style */\n",
       "\n",
       "/* Colorize estimator box */\n",
       "#sk-container-id-3 div.sk-estimator input.sk-toggleable__control:checked~label.sk-toggleable__label {\n",
       "  /* unfitted */\n",
       "  background-color: var(--sklearn-color-unfitted-level-2);\n",
       "}\n",
       "\n",
       "#sk-container-id-3 div.sk-estimator.fitted input.sk-toggleable__control:checked~label.sk-toggleable__label {\n",
       "  /* fitted */\n",
       "  background-color: var(--sklearn-color-fitted-level-2);\n",
       "}\n",
       "\n",
       "#sk-container-id-3 div.sk-label label.sk-toggleable__label,\n",
       "#sk-container-id-3 div.sk-label label {\n",
       "  /* The background is the default theme color */\n",
       "  color: var(--sklearn-color-text-on-default-background);\n",
       "}\n",
       "\n",
       "/* On hover, darken the color of the background */\n",
       "#sk-container-id-3 div.sk-label:hover label.sk-toggleable__label {\n",
       "  color: var(--sklearn-color-text);\n",
       "  background-color: var(--sklearn-color-unfitted-level-2);\n",
       "}\n",
       "\n",
       "/* Label box, darken color on hover, fitted */\n",
       "#sk-container-id-3 div.sk-label.fitted:hover label.sk-toggleable__label.fitted {\n",
       "  color: var(--sklearn-color-text);\n",
       "  background-color: var(--sklearn-color-fitted-level-2);\n",
       "}\n",
       "\n",
       "/* Estimator label */\n",
       "\n",
       "#sk-container-id-3 div.sk-label label {\n",
       "  font-family: monospace;\n",
       "  font-weight: bold;\n",
       "  display: inline-block;\n",
       "  line-height: 1.2em;\n",
       "}\n",
       "\n",
       "#sk-container-id-3 div.sk-label-container {\n",
       "  text-align: center;\n",
       "}\n",
       "\n",
       "/* Estimator-specific */\n",
       "#sk-container-id-3 div.sk-estimator {\n",
       "  font-family: monospace;\n",
       "  border: 1px dotted var(--sklearn-color-border-box);\n",
       "  border-radius: 0.25em;\n",
       "  box-sizing: border-box;\n",
       "  margin-bottom: 0.5em;\n",
       "  /* unfitted */\n",
       "  background-color: var(--sklearn-color-unfitted-level-0);\n",
       "}\n",
       "\n",
       "#sk-container-id-3 div.sk-estimator.fitted {\n",
       "  /* fitted */\n",
       "  background-color: var(--sklearn-color-fitted-level-0);\n",
       "}\n",
       "\n",
       "/* on hover */\n",
       "#sk-container-id-3 div.sk-estimator:hover {\n",
       "  /* unfitted */\n",
       "  background-color: var(--sklearn-color-unfitted-level-2);\n",
       "}\n",
       "\n",
       "#sk-container-id-3 div.sk-estimator.fitted:hover {\n",
       "  /* fitted */\n",
       "  background-color: var(--sklearn-color-fitted-level-2);\n",
       "}\n",
       "\n",
       "/* Specification for estimator info (e.g. \"i\" and \"?\") */\n",
       "\n",
       "/* Common style for \"i\" and \"?\" */\n",
       "\n",
       ".sk-estimator-doc-link,\n",
       "a:link.sk-estimator-doc-link,\n",
       "a:visited.sk-estimator-doc-link {\n",
       "  float: right;\n",
       "  font-size: smaller;\n",
       "  line-height: 1em;\n",
       "  font-family: monospace;\n",
       "  background-color: var(--sklearn-color-background);\n",
       "  border-radius: 1em;\n",
       "  height: 1em;\n",
       "  width: 1em;\n",
       "  text-decoration: none !important;\n",
       "  margin-left: 1ex;\n",
       "  /* unfitted */\n",
       "  border: var(--sklearn-color-unfitted-level-1) 1pt solid;\n",
       "  color: var(--sklearn-color-unfitted-level-1);\n",
       "}\n",
       "\n",
       ".sk-estimator-doc-link.fitted,\n",
       "a:link.sk-estimator-doc-link.fitted,\n",
       "a:visited.sk-estimator-doc-link.fitted {\n",
       "  /* fitted */\n",
       "  border: var(--sklearn-color-fitted-level-1) 1pt solid;\n",
       "  color: var(--sklearn-color-fitted-level-1);\n",
       "}\n",
       "\n",
       "/* On hover */\n",
       "div.sk-estimator:hover .sk-estimator-doc-link:hover,\n",
       ".sk-estimator-doc-link:hover,\n",
       "div.sk-label-container:hover .sk-estimator-doc-link:hover,\n",
       ".sk-estimator-doc-link:hover {\n",
       "  /* unfitted */\n",
       "  background-color: var(--sklearn-color-unfitted-level-3);\n",
       "  color: var(--sklearn-color-background);\n",
       "  text-decoration: none;\n",
       "}\n",
       "\n",
       "div.sk-estimator.fitted:hover .sk-estimator-doc-link.fitted:hover,\n",
       ".sk-estimator-doc-link.fitted:hover,\n",
       "div.sk-label-container:hover .sk-estimator-doc-link.fitted:hover,\n",
       ".sk-estimator-doc-link.fitted:hover {\n",
       "  /* fitted */\n",
       "  background-color: var(--sklearn-color-fitted-level-3);\n",
       "  color: var(--sklearn-color-background);\n",
       "  text-decoration: none;\n",
       "}\n",
       "\n",
       "/* Span, style for the box shown on hovering the info icon */\n",
       ".sk-estimator-doc-link span {\n",
       "  display: none;\n",
       "  z-index: 9999;\n",
       "  position: relative;\n",
       "  font-weight: normal;\n",
       "  right: .2ex;\n",
       "  padding: .5ex;\n",
       "  margin: .5ex;\n",
       "  width: min-content;\n",
       "  min-width: 20ex;\n",
       "  max-width: 50ex;\n",
       "  color: var(--sklearn-color-text);\n",
       "  box-shadow: 2pt 2pt 4pt #999;\n",
       "  /* unfitted */\n",
       "  background: var(--sklearn-color-unfitted-level-0);\n",
       "  border: .5pt solid var(--sklearn-color-unfitted-level-3);\n",
       "}\n",
       "\n",
       ".sk-estimator-doc-link.fitted span {\n",
       "  /* fitted */\n",
       "  background: var(--sklearn-color-fitted-level-0);\n",
       "  border: var(--sklearn-color-fitted-level-3);\n",
       "}\n",
       "\n",
       ".sk-estimator-doc-link:hover span {\n",
       "  display: block;\n",
       "}\n",
       "\n",
       "/* \"?\"-specific style due to the `<a>` HTML tag */\n",
       "\n",
       "#sk-container-id-3 a.estimator_doc_link {\n",
       "  float: right;\n",
       "  font-size: 1rem;\n",
       "  line-height: 1em;\n",
       "  font-family: monospace;\n",
       "  background-color: var(--sklearn-color-background);\n",
       "  border-radius: 1rem;\n",
       "  height: 1rem;\n",
       "  width: 1rem;\n",
       "  text-decoration: none;\n",
       "  /* unfitted */\n",
       "  color: var(--sklearn-color-unfitted-level-1);\n",
       "  border: var(--sklearn-color-unfitted-level-1) 1pt solid;\n",
       "}\n",
       "\n",
       "#sk-container-id-3 a.estimator_doc_link.fitted {\n",
       "  /* fitted */\n",
       "  border: var(--sklearn-color-fitted-level-1) 1pt solid;\n",
       "  color: var(--sklearn-color-fitted-level-1);\n",
       "}\n",
       "\n",
       "/* On hover */\n",
       "#sk-container-id-3 a.estimator_doc_link:hover {\n",
       "  /* unfitted */\n",
       "  background-color: var(--sklearn-color-unfitted-level-3);\n",
       "  color: var(--sklearn-color-background);\n",
       "  text-decoration: none;\n",
       "}\n",
       "\n",
       "#sk-container-id-3 a.estimator_doc_link.fitted:hover {\n",
       "  /* fitted */\n",
       "  background-color: var(--sklearn-color-fitted-level-3);\n",
       "}\n",
       "</style><div id=\"sk-container-id-3\" class=\"sk-top-container\"><div class=\"sk-text-repr-fallback\"><pre>CountVectorizer()</pre><b>In a Jupyter environment, please rerun this cell to show the HTML representation or trust the notebook. <br />On GitHub, the HTML representation is unable to render, please try loading this page with nbviewer.org.</b></div><div class=\"sk-container\" hidden><div class=\"sk-item\"><div class=\"sk-estimator fitted sk-toggleable\"><input class=\"sk-toggleable__control sk-hidden--visually\" id=\"sk-estimator-id-3\" type=\"checkbox\" checked><label for=\"sk-estimator-id-3\" class=\"sk-toggleable__label fitted sk-toggleable__label-arrow fitted\">&nbsp;&nbsp;CountVectorizer<a class=\"sk-estimator-doc-link fitted\" rel=\"noreferrer\" target=\"_blank\" href=\"https://scikit-learn.org/1.5/modules/generated/sklearn.feature_extraction.text.CountVectorizer.html\">?<span>Documentation for CountVectorizer</span></a><span class=\"sk-estimator-doc-link fitted\">i<span>Fitted</span></span></label><div class=\"sk-toggleable__content fitted\"><pre>CountVectorizer()</pre></div> </div></div></div></div>"
      ]
     },
     "execution_count": 9,
     "metadata": {},
     "output_type": "execute_result"
    }
   ],
   "execution_count": 9
  },
  {
   "cell_type": "markdown",
   "id": "intelligent-belgium",
   "metadata": {
    "papermill": {
     "duration": 0.037209,
     "end_time": "2022-05-29T09:02:43.981118",
     "exception": false,
     "start_time": "2022-05-29T09:02:43.943909",
     "status": "completed"
    },
    "tags": []
   },
   "source": []
  },
  {
   "cell_type": "code",
   "id": "limiting-republican",
   "metadata": {
    "execution": {
     "iopub.execute_input": "2022-05-29T09:02:44.060244Z",
     "iopub.status.busy": "2022-05-29T09:02:44.059661Z",
     "iopub.status.idle": "2022-05-29T09:02:44.062564Z",
     "shell.execute_reply": "2022-05-29T09:02:44.062982Z",
     "shell.execute_reply.started": "2021-12-24T15:24:28.454198Z"
    },
    "papermill": {
     "duration": 0.044696,
     "end_time": "2022-05-29T09:02:44.063127",
     "exception": false,
     "start_time": "2022-05-29T09:02:44.018431",
     "status": "completed"
    },
    "tags": [],
    "ExecuteTime": {
     "end_time": "2024-06-11T17:29:36.584949Z",
     "start_time": "2024-06-11T17:29:36.580025Z"
    }
   },
   "source": [
    "# examine the fitted vocabulary\n",
    "vect.get_feature_names_out()"
   ],
   "outputs": [
    {
     "data": {
      "text/plain": [
       "array(['cab', 'call', 'me', 'please', 'tonight', 'you'], dtype=object)"
      ]
     },
     "execution_count": 11,
     "metadata": {},
     "output_type": "execute_result"
    }
   ],
   "execution_count": 11
  },
  {
   "cell_type": "markdown",
   "id": "answering-blackberry",
   "metadata": {
    "papermill": {
     "duration": 0.04927,
     "end_time": "2022-05-29T09:02:44.157947",
     "exception": false,
     "start_time": "2022-05-29T09:02:44.108677",
     "status": "completed"
    },
    "tags": []
   },
   "source": [
    "**now we are going to use transform function after fitiong the data**\n",
    "\n",
    "**It will convert vocabulary to number(sparse matrix)**"
   ]
  },
  {
   "cell_type": "code",
   "id": "romance-ceramic",
   "metadata": {
    "execution": {
     "iopub.execute_input": "2022-05-29T09:02:44.243535Z",
     "iopub.status.busy": "2022-05-29T09:02:44.242940Z",
     "iopub.status.idle": "2022-05-29T09:02:44.246960Z",
     "shell.execute_reply": "2022-05-29T09:02:44.247376Z",
     "shell.execute_reply.started": "2021-12-24T15:24:58.82993Z"
    },
    "papermill": {
     "duration": 0.050312,
     "end_time": "2022-05-29T09:02:44.247562",
     "exception": false,
     "start_time": "2022-05-29T09:02:44.197250",
     "status": "completed"
    },
    "tags": [],
    "ExecuteTime": {
     "end_time": "2024-06-11T17:30:12.737894Z",
     "start_time": "2024-06-11T17:30:12.732195Z"
    }
   },
   "source": [
    "# 4. transform training data into a 'document-term matrix','sparse matrix'\n",
    "simple_train_dtm = vect.transform(simple_train)\n",
    "print(simple_train_dtm)"
   ],
   "outputs": [
    {
     "name": "stdout",
     "output_type": "stream",
     "text": [
      "  (0, 1)\t1\n",
      "  (0, 4)\t1\n",
      "  (0, 5)\t1\n",
      "  (1, 0)\t1\n",
      "  (1, 1)\t1\n",
      "  (1, 2)\t1\n",
      "  (2, 1)\t1\n",
      "  (2, 2)\t1\n",
      "  (2, 3)\t2\n"
     ]
    }
   ],
   "execution_count": 12
  },
  {
   "cell_type": "markdown",
   "id": "respiratory-tolerance",
   "metadata": {
    "papermill": {
     "duration": 0.037792,
     "end_time": "2022-05-29T09:02:44.323558",
     "exception": false,
     "start_time": "2022-05-29T09:02:44.285766",
     "status": "completed"
    },
    "tags": []
   },
   "source": "**Now we are going to convert sparse matrix to a dense matrix**"
  },
  {
   "cell_type": "code",
   "id": "amazing-fashion",
   "metadata": {
    "execution": {
     "iopub.execute_input": "2022-05-29T09:02:44.402447Z",
     "iopub.status.busy": "2022-05-29T09:02:44.401898Z",
     "iopub.status.idle": "2022-05-29T09:02:44.408833Z",
     "shell.execute_reply": "2022-05-29T09:02:44.409291Z",
     "shell.execute_reply.started": "2021-12-24T15:25:23.363799Z"
    },
    "papermill": {
     "duration": 0.047785,
     "end_time": "2022-05-29T09:02:44.409474",
     "exception": false,
     "start_time": "2022-05-29T09:02:44.361689",
     "status": "completed"
    },
    "tags": [],
    "ExecuteTime": {
     "end_time": "2024-06-11T17:30:20.575081Z",
     "start_time": "2024-06-11T17:30:20.571236Z"
    }
   },
   "source": [
    "simple_train_dtm.toarray()"
   ],
   "outputs": [
    {
     "data": {
      "text/plain": [
       "array([[0, 1, 0, 0, 1, 1],\n",
       "       [1, 1, 1, 0, 0, 0],\n",
       "       [0, 1, 1, 2, 0, 0]])"
      ]
     },
     "execution_count": 13,
     "metadata": {},
     "output_type": "execute_result"
    }
   ],
   "execution_count": 13
  },
  {
   "cell_type": "markdown",
   "id": "laughing-champion",
   "metadata": {
    "papermill": {
     "duration": 0.037721,
     "end_time": "2022-05-29T09:02:44.485564",
     "exception": false,
     "start_time": "2022-05-29T09:02:44.447843",
     "status": "completed"
    },
    "tags": []
   },
   "source": [
    "examine the sparse matrix contents\n",
    "* left: coordinates of non-zero values\n",
    "* right: values at that point\n",
    "\n",
    "CountVectorizer() will output a sparse matrix"
   ]
  },
  {
   "cell_type": "code",
   "id": "express-inventory",
   "metadata": {
    "execution": {
     "iopub.execute_input": "2022-05-29T09:02:44.563881Z",
     "iopub.status.busy": "2022-05-29T09:02:44.563328Z",
     "iopub.status.idle": "2022-05-29T09:02:44.569995Z",
     "shell.execute_reply": "2022-05-29T09:02:44.569544Z",
     "shell.execute_reply.started": "2021-12-24T15:26:28.798304Z"
    },
    "papermill": {
     "duration": 0.046546,
     "end_time": "2022-05-29T09:02:44.570115",
     "exception": false,
     "start_time": "2022-05-29T09:02:44.523569",
     "status": "completed"
    },
    "tags": [],
    "ExecuteTime": {
     "end_time": "2024-06-11T17:30:33.982452Z",
     "start_time": "2024-06-11T17:30:33.977828Z"
    }
   },
   "source": [
    "print('sparse matrix')\n",
    "print(simple_train_dtm)\n",
    "\n",
    "print('dense matrix')\n",
    "print(simple_train_dtm.toarray())"
   ],
   "outputs": [
    {
     "name": "stdout",
     "output_type": "stream",
     "text": [
      "sparse matrix\n",
      "  (0, 1)\t1\n",
      "  (0, 4)\t1\n",
      "  (0, 5)\t1\n",
      "  (1, 0)\t1\n",
      "  (1, 1)\t1\n",
      "  (1, 2)\t1\n",
      "  (2, 1)\t1\n",
      "  (2, 2)\t1\n",
      "  (2, 3)\t2\n",
      "dense matrix\n",
      "[[0 1 0 0 1 1]\n",
      " [1 1 1 0 0 0]\n",
      " [0 1 1 2 0 0]]\n"
     ]
    }
   ],
   "execution_count": 14
  },
  {
   "cell_type": "code",
   "id": "oriental-bidding",
   "metadata": {
    "execution": {
     "iopub.execute_input": "2022-05-29T09:02:44.658770Z",
     "iopub.status.busy": "2022-05-29T09:02:44.658149Z",
     "iopub.status.idle": "2022-05-29T09:02:44.671923Z",
     "shell.execute_reply": "2022-05-29T09:02:44.672481Z",
     "shell.execute_reply.started": "2022-05-29T09:01:42.433223Z"
    },
    "papermill": {
     "duration": 0.064315,
     "end_time": "2022-05-29T09:02:44.672645",
     "exception": false,
     "start_time": "2022-05-29T09:02:44.608330",
     "status": "completed"
    },
    "tags": [],
    "ExecuteTime": {
     "end_time": "2024-06-11T17:32:26.072771Z",
     "start_time": "2024-06-11T17:32:26.061872Z"
    }
   },
   "source": [
    "import pandas as pd\n",
    "\n",
    "pd.DataFrame(simple_train_dtm.toarray(), columns=vect.get_feature_names_out())"
   ],
   "outputs": [
    {
     "data": {
      "text/plain": [
       "   cab  call  me  please  tonight  you\n",
       "0    0     1   0       0        1    1\n",
       "1    1     1   1       0        0    0\n",
       "2    0     1   1       2        0    0"
      ],
      "text/html": [
       "<div>\n",
       "<style scoped>\n",
       "    .dataframe tbody tr th:only-of-type {\n",
       "        vertical-align: middle;\n",
       "    }\n",
       "\n",
       "    .dataframe tbody tr th {\n",
       "        vertical-align: top;\n",
       "    }\n",
       "\n",
       "    .dataframe thead th {\n",
       "        text-align: right;\n",
       "    }\n",
       "</style>\n",
       "<table border=\"1\" class=\"dataframe\">\n",
       "  <thead>\n",
       "    <tr style=\"text-align: right;\">\n",
       "      <th></th>\n",
       "      <th>cab</th>\n",
       "      <th>call</th>\n",
       "      <th>me</th>\n",
       "      <th>please</th>\n",
       "      <th>tonight</th>\n",
       "      <th>you</th>\n",
       "    </tr>\n",
       "  </thead>\n",
       "  <tbody>\n",
       "    <tr>\n",
       "      <th>0</th>\n",
       "      <td>0</td>\n",
       "      <td>1</td>\n",
       "      <td>0</td>\n",
       "      <td>0</td>\n",
       "      <td>1</td>\n",
       "      <td>1</td>\n",
       "    </tr>\n",
       "    <tr>\n",
       "      <th>1</th>\n",
       "      <td>1</td>\n",
       "      <td>1</td>\n",
       "      <td>1</td>\n",
       "      <td>0</td>\n",
       "      <td>0</td>\n",
       "      <td>0</td>\n",
       "    </tr>\n",
       "    <tr>\n",
       "      <th>2</th>\n",
       "      <td>0</td>\n",
       "      <td>1</td>\n",
       "      <td>1</td>\n",
       "      <td>2</td>\n",
       "      <td>0</td>\n",
       "      <td>0</td>\n",
       "    </tr>\n",
       "  </tbody>\n",
       "</table>\n",
       "</div>"
      ]
     },
     "execution_count": 20,
     "metadata": {},
     "output_type": "execute_result"
    }
   ],
   "execution_count": 20
  },
  {
   "cell_type": "markdown",
   "id": "typical-tournament",
   "metadata": {
    "papermill": {
     "duration": 0.038017,
     "end_time": "2022-05-29T09:02:44.749279",
     "exception": false,
     "start_time": "2022-05-29T09:02:44.711262",
     "status": "completed"
    },
    "tags": []
   },
   "source": [
    "**By the above data frame you easily understand**\n",
    "\n",
    "**How we convert text data in to number**\n",
    "**you can see we have three row in the data frame \n",
    "bacause there are only three sentences in our simple data**\n",
    "\n",
    "**here you can see all the vocabulary we get from the data, now become a featue**\n"
   ]
  },
  {
   "cell_type": "markdown",
   "id": "worst-presentation",
   "metadata": {
    "papermill": {
     "duration": 0.038223,
     "end_time": "2022-05-29T09:02:44.826864",
     "exception": false,
     "start_time": "2022-05-29T09:02:44.788641",
     "status": "completed"
    },
    "tags": []
   },
   "source": [
    "# Now be going to work on original data "
   ]
  },
  {
   "metadata": {},
   "cell_type": "markdown",
   "source": "",
   "id": "c62534777356c2eb"
  },
  {
   "cell_type": "code",
   "id": "ecological-relation",
   "metadata": {
    "execution": {
     "iopub.execute_input": "2022-05-29T09:02:44.909351Z",
     "iopub.status.busy": "2022-05-29T09:02:44.908506Z",
     "iopub.status.idle": "2022-05-29T09:02:45.036001Z",
     "shell.execute_reply": "2022-05-29T09:02:45.036502Z",
     "shell.execute_reply.started": "2021-06-05T17:34:38.563341Z"
    },
    "papermill": {
     "duration": 0.170856,
     "end_time": "2022-05-29T09:02:45.036673",
     "exception": false,
     "start_time": "2022-05-29T09:02:44.865817",
     "status": "completed"
    },
    "tags": [],
    "ExecuteTime": {
     "end_time": "2024-06-11T17:35:59.196767Z",
     "start_time": "2024-06-11T17:35:59.171426Z"
    }
   },
   "source": [
    "#reading data\n",
    "import warnings as wr\n",
    "wr.filterwarnings(\"ignore\")\n",
    "import matplotlib.pyplot as plt\n",
    "import seaborn as sns\n",
    "\n",
    "sms=pd.read_csv(\"./spam.csv\", encoding='latin-1')\n",
    "sms.head()"
   ],
   "outputs": [
    {
     "data": {
      "text/plain": [
       "     v1                                                 v2 Unnamed: 2  \\\n",
       "0   ham  Go until jurong point, crazy.. Available only ...        NaN   \n",
       "1   ham                      Ok lar... Joking wif u oni...        NaN   \n",
       "2  spam  Free entry in 2 a wkly comp to win FA Cup fina...        NaN   \n",
       "3   ham  U dun say so early hor... U c already then say...        NaN   \n",
       "4   ham  Nah I don't think he goes to usf, he lives aro...        NaN   \n",
       "\n",
       "  Unnamed: 3 Unnamed: 4  \n",
       "0        NaN        NaN  \n",
       "1        NaN        NaN  \n",
       "2        NaN        NaN  \n",
       "3        NaN        NaN  \n",
       "4        NaN        NaN  "
      ],
      "text/html": [
       "<div>\n",
       "<style scoped>\n",
       "    .dataframe tbody tr th:only-of-type {\n",
       "        vertical-align: middle;\n",
       "    }\n",
       "\n",
       "    .dataframe tbody tr th {\n",
       "        vertical-align: top;\n",
       "    }\n",
       "\n",
       "    .dataframe thead th {\n",
       "        text-align: right;\n",
       "    }\n",
       "</style>\n",
       "<table border=\"1\" class=\"dataframe\">\n",
       "  <thead>\n",
       "    <tr style=\"text-align: right;\">\n",
       "      <th></th>\n",
       "      <th>v1</th>\n",
       "      <th>v2</th>\n",
       "      <th>Unnamed: 2</th>\n",
       "      <th>Unnamed: 3</th>\n",
       "      <th>Unnamed: 4</th>\n",
       "    </tr>\n",
       "  </thead>\n",
       "  <tbody>\n",
       "    <tr>\n",
       "      <th>0</th>\n",
       "      <td>ham</td>\n",
       "      <td>Go until jurong point, crazy.. Available only ...</td>\n",
       "      <td>NaN</td>\n",
       "      <td>NaN</td>\n",
       "      <td>NaN</td>\n",
       "    </tr>\n",
       "    <tr>\n",
       "      <th>1</th>\n",
       "      <td>ham</td>\n",
       "      <td>Ok lar... Joking wif u oni...</td>\n",
       "      <td>NaN</td>\n",
       "      <td>NaN</td>\n",
       "      <td>NaN</td>\n",
       "    </tr>\n",
       "    <tr>\n",
       "      <th>2</th>\n",
       "      <td>spam</td>\n",
       "      <td>Free entry in 2 a wkly comp to win FA Cup fina...</td>\n",
       "      <td>NaN</td>\n",
       "      <td>NaN</td>\n",
       "      <td>NaN</td>\n",
       "    </tr>\n",
       "    <tr>\n",
       "      <th>3</th>\n",
       "      <td>ham</td>\n",
       "      <td>U dun say so early hor... U c already then say...</td>\n",
       "      <td>NaN</td>\n",
       "      <td>NaN</td>\n",
       "      <td>NaN</td>\n",
       "    </tr>\n",
       "    <tr>\n",
       "      <th>4</th>\n",
       "      <td>ham</td>\n",
       "      <td>Nah I don't think he goes to usf, he lives aro...</td>\n",
       "      <td>NaN</td>\n",
       "      <td>NaN</td>\n",
       "      <td>NaN</td>\n",
       "    </tr>\n",
       "  </tbody>\n",
       "</table>\n",
       "</div>"
      ]
     },
     "execution_count": 23,
     "metadata": {},
     "output_type": "execute_result"
    }
   ],
   "execution_count": 23
  },
  {
   "cell_type": "code",
   "id": "bizarre-elder",
   "metadata": {
    "execution": {
     "iopub.execute_input": "2022-05-29T09:02:45.119705Z",
     "iopub.status.busy": "2022-05-29T09:02:45.118821Z",
     "iopub.status.idle": "2022-05-29T09:02:45.123657Z",
     "shell.execute_reply": "2022-05-29T09:02:45.124083Z",
     "shell.execute_reply.started": "2021-06-05T17:34:38.600205Z"
    },
    "papermill": {
     "duration": 0.047146,
     "end_time": "2022-05-29T09:02:45.124234",
     "exception": false,
     "start_time": "2022-05-29T09:02:45.077088",
     "status": "completed"
    },
    "tags": [],
    "ExecuteTime": {
     "end_time": "2024-06-11T17:36:01.347461Z",
     "start_time": "2024-06-11T17:36:01.344703Z"
    }
   },
   "source": [
    "sms.shape"
   ],
   "outputs": [
    {
     "data": {
      "text/plain": [
       "(5572, 5)"
      ]
     },
     "execution_count": 24,
     "metadata": {},
     "output_type": "execute_result"
    }
   ],
   "execution_count": 24
  },
  {
   "cell_type": "code",
   "id": "waiting-exposure",
   "metadata": {
    "execution": {
     "iopub.execute_input": "2022-05-29T09:02:45.206144Z",
     "iopub.status.busy": "2022-05-29T09:02:45.205268Z",
     "iopub.status.idle": "2022-05-29T09:02:45.453844Z",
     "shell.execute_reply": "2022-05-29T09:02:45.454475Z",
     "shell.execute_reply.started": "2021-06-05T17:34:38.610991Z"
    },
    "papermill": {
     "duration": 0.291129,
     "end_time": "2022-05-29T09:02:45.454717",
     "exception": false,
     "start_time": "2022-05-29T09:02:45.163588",
     "status": "completed"
    },
    "tags": [],
    "ExecuteTime": {
     "end_time": "2024-06-11T17:36:04.066212Z",
     "start_time": "2024-06-11T17:36:03.546404Z"
    }
   },
   "source": [
    "plt.figure(figsize=(10,6))\n",
    "sns.heatmap(sms.isnull(),yticklabels=False,cbar=True,cmap='mako')"
   ],
   "outputs": [
    {
     "data": {
      "text/plain": [
       "<Axes: >"
      ]
     },
     "execution_count": 25,
     "metadata": {},
     "output_type": "execute_result"
    },
    {
     "data": {
      "text/plain": [
       "<Figure size 1000x600 with 2 Axes>"
      ],
      "image/png": "[encoded data removed]"
     },
     "metadata": {},
     "output_type": "display_data"
    }
   ],
   "execution_count": 25
  },
  {
   "cell_type": "code",
   "id": "improved-harbor",
   "metadata": {
    "execution": {
     "iopub.execute_input": "2022-05-29T09:02:45.562240Z",
     "iopub.status.busy": "2022-05-29T09:02:45.557266Z",
     "iopub.status.idle": "2022-05-29T09:02:45.565935Z",
     "shell.execute_reply": "2022-05-29T09:02:45.565472Z",
     "shell.execute_reply.started": "2021-06-05T17:34:38.860168Z"
    },
    "papermill": {
     "duration": 0.052796,
     "end_time": "2022-05-29T09:02:45.566064",
     "exception": false,
     "start_time": "2022-05-29T09:02:45.513268",
     "status": "completed"
    },
    "tags": [],
    "ExecuteTime": {
     "end_time": "2024-06-11T17:36:13.160571Z",
     "start_time": "2024-06-11T17:36:13.154982Z"
    }
   },
   "source": [
    "sms.isnull().sum()"
   ],
   "outputs": [
    {
     "data": {
      "text/plain": [
       "v1               0\n",
       "v2               0\n",
       "Unnamed: 2    5522\n",
       "Unnamed: 3    5560\n",
       "Unnamed: 4    5566\n",
       "dtype: int64"
      ]
     },
     "execution_count": 26,
     "metadata": {},
     "output_type": "execute_result"
    }
   ],
   "execution_count": 26
  },
  {
   "cell_type": "markdown",
   "id": "seeing-sector",
   "metadata": {
    "papermill": {
     "duration": 0.03967,
     "end_time": "2022-05-29T09:02:45.645806",
     "exception": false,
     "start_time": "2022-05-29T09:02:45.606136",
     "status": "completed"
    },
    "tags": []
   },
   "source": "Here we can say there are many NaN value in unnamed columns, so we are going to drop those frature"
  },
  {
   "cell_type": "code",
   "id": "raising-forty",
   "metadata": {
    "execution": {
     "iopub.execute_input": "2022-05-29T09:02:45.737026Z",
     "iopub.status.busy": "2022-05-29T09:02:45.736188Z",
     "iopub.status.idle": "2022-05-29T09:02:45.739518Z",
     "shell.execute_reply": "2022-05-29T09:02:45.739949Z",
     "shell.execute_reply.started": "2021-06-05T17:34:38.871318Z"
    },
    "papermill": {
     "duration": 0.054269,
     "end_time": "2022-05-29T09:02:45.740102",
     "exception": false,
     "start_time": "2022-05-29T09:02:45.685833",
     "status": "completed"
    },
    "tags": [],
    "ExecuteTime": {
     "end_time": "2024-06-11T17:36:38.199138Z",
     "start_time": "2024-06-11T17:36:38.183527Z"
    }
   },
   "source": [
    "sms=sms.drop([\"Unnamed: 2\",\"Unnamed: 3\",\"Unnamed: 4\"],axis=1)\n",
    "sms.head()"
   ],
   "outputs": [
    {
     "data": {
      "text/plain": [
       "     v1                                                 v2\n",
       "0   ham  Go until jurong point, crazy.. Available only ...\n",
       "1   ham                      Ok lar... Joking wif u oni...\n",
       "2  spam  Free entry in 2 a wkly comp to win FA Cup fina...\n",
       "3   ham  U dun say so early hor... U c already then say...\n",
       "4   ham  Nah I don't think he goes to usf, he lives aro..."
      ],
      "text/html": [
       "<div>\n",
       "<style scoped>\n",
       "    .dataframe tbody tr th:only-of-type {\n",
       "        vertical-align: middle;\n",
       "    }\n",
       "\n",
       "    .dataframe tbody tr th {\n",
       "        vertical-align: top;\n",
       "    }\n",
       "\n",
       "    .dataframe thead th {\n",
       "        text-align: right;\n",
       "    }\n",
       "</style>\n",
       "<table border=\"1\" class=\"dataframe\">\n",
       "  <thead>\n",
       "    <tr style=\"text-align: right;\">\n",
       "      <th></th>\n",
       "      <th>v1</th>\n",
       "      <th>v2</th>\n",
       "    </tr>\n",
       "  </thead>\n",
       "  <tbody>\n",
       "    <tr>\n",
       "      <th>0</th>\n",
       "      <td>ham</td>\n",
       "      <td>Go until jurong point, crazy.. Available only ...</td>\n",
       "    </tr>\n",
       "    <tr>\n",
       "      <th>1</th>\n",
       "      <td>ham</td>\n",
       "      <td>Ok lar... Joking wif u oni...</td>\n",
       "    </tr>\n",
       "    <tr>\n",
       "      <th>2</th>\n",
       "      <td>spam</td>\n",
       "      <td>Free entry in 2 a wkly comp to win FA Cup fina...</td>\n",
       "    </tr>\n",
       "    <tr>\n",
       "      <th>3</th>\n",
       "      <td>ham</td>\n",
       "      <td>U dun say so early hor... U c already then say...</td>\n",
       "    </tr>\n",
       "    <tr>\n",
       "      <th>4</th>\n",
       "      <td>ham</td>\n",
       "      <td>Nah I don't think he goes to usf, he lives aro...</td>\n",
       "    </tr>\n",
       "  </tbody>\n",
       "</table>\n",
       "</div>"
      ]
     },
     "execution_count": 27,
     "metadata": {},
     "output_type": "execute_result"
    }
   ],
   "execution_count": 27
  },
  {
   "cell_type": "markdown",
   "id": "human-madrid",
   "metadata": {
    "papermill": {
     "duration": 0.040376,
     "end_time": "2022-05-29T09:02:45.822040",
     "exception": false,
     "start_time": "2022-05-29T09:02:45.781664",
     "status": "completed"
    },
    "tags": []
   },
   "source": [
    "Feature description\n",
    "* v1=label(ham/spam) outcome to predict\n",
    "* v2=sms"
   ]
  },
  {
   "cell_type": "code",
   "id": "returning-terrain",
   "metadata": {
    "execution": {
     "iopub.execute_input": "2022-05-29T09:02:45.906095Z",
     "iopub.status.busy": "2022-05-29T09:02:45.905141Z",
     "iopub.status.idle": "2022-05-29T09:02:45.913660Z",
     "shell.execute_reply": "2022-05-29T09:02:45.914092Z",
     "shell.execute_reply.started": "2021-06-05T17:34:38.886894Z"
    },
    "papermill": {
     "duration": 0.051901,
     "end_time": "2022-05-29T09:02:45.914258",
     "exception": false,
     "start_time": "2022-05-29T09:02:45.862357",
     "status": "completed"
    },
    "tags": [],
    "ExecuteTime": {
     "end_time": "2024-06-11T17:36:44.780875Z",
     "start_time": "2024-06-11T17:36:44.775792Z"
    }
   },
   "source": [
    "# examine the class distribution\n",
    "sms.v1.value_counts()"
   ],
   "outputs": [
    {
     "data": {
      "text/plain": [
       "v1\n",
       "ham     4825\n",
       "spam     747\n",
       "Name: count, dtype: int64"
      ]
     },
     "execution_count": 28,
     "metadata": {},
     "output_type": "execute_result"
    }
   ],
   "execution_count": 28
  },
  {
   "cell_type": "code",
   "id": "combined-ranch",
   "metadata": {
    "execution": {
     "iopub.execute_input": "2022-05-29T09:02:46.005598Z",
     "iopub.status.busy": "2022-05-29T09:02:46.004733Z",
     "iopub.status.idle": "2022-05-29T09:02:46.099551Z",
     "shell.execute_reply": "2022-05-29T09:02:46.099983Z",
     "shell.execute_reply.started": "2021-06-05T17:34:38.897987Z"
    },
    "papermill": {
     "duration": 0.145075,
     "end_time": "2022-05-29T09:02:46.100139",
     "exception": false,
     "start_time": "2022-05-29T09:02:45.955064",
     "status": "completed"
    },
    "tags": [],
    "ExecuteTime": {
     "end_time": "2024-06-11T17:36:49.985029Z",
     "start_time": "2024-06-11T17:36:49.895533Z"
    }
   },
   "source": "sns.countplot(sms[\"v1\"])",
   "outputs": [
    {
     "data": {
      "text/plain": [
       "<Axes: xlabel='count', ylabel='v1'>"
      ]
     },
     "execution_count": 29,
     "metadata": {},
     "output_type": "execute_result"
    },
    {
     "data": {
      "text/plain": [
       "<Figure size 640x480 with 1 Axes>"
      ],
      "image/png": "[encoded data removed]"
     },
     "metadata": {},
     "output_type": "display_data"
    }
   ],
   "execution_count": 29
  },
  {
   "cell_type": "code",
   "id": "isolated-violin",
   "metadata": {
    "execution": {
     "iopub.execute_input": "2022-05-29T09:02:46.186434Z",
     "iopub.status.busy": "2022-05-29T09:02:46.185574Z",
     "iopub.status.idle": "2022-05-29T09:02:46.191271Z",
     "shell.execute_reply": "2022-05-29T09:02:46.191750Z",
     "shell.execute_reply.started": "2021-06-05T17:34:39.015641Z"
    },
    "papermill": {
     "duration": 0.050158,
     "end_time": "2022-05-29T09:02:46.191909",
     "exception": false,
     "start_time": "2022-05-29T09:02:46.141751",
     "status": "completed"
    },
    "tags": [],
    "ExecuteTime": {
     "end_time": "2024-06-11T17:37:01.266846Z",
     "start_time": "2024-06-11T17:37:01.263887Z"
    }
   },
   "source": [
    "# convert label to a numerical variable\n",
    "sms['v1'] = sms.v1.map({'ham':0, 'spam':1})"
   ],
   "outputs": [],
   "execution_count": 30
  },
  {
   "cell_type": "code",
   "id": "pleasant-margin",
   "metadata": {
    "execution": {
     "iopub.execute_input": "2022-05-29T09:02:46.283625Z",
     "iopub.status.busy": "2022-05-29T09:02:46.282815Z",
     "iopub.status.idle": "2022-05-29T09:02:46.286264Z",
     "shell.execute_reply": "2022-05-29T09:02:46.286718Z",
     "shell.execute_reply.started": "2021-06-05T17:34:39.023194Z"
    },
    "papermill": {
     "duration": 0.053156,
     "end_time": "2022-05-29T09:02:46.286867",
     "exception": false,
     "start_time": "2022-05-29T09:02:46.233711",
     "status": "completed"
    },
    "tags": [],
    "ExecuteTime": {
     "end_time": "2024-06-11T17:37:07.386278Z",
     "start_time": "2024-06-11T17:37:07.376406Z"
    }
   },
   "source": [
    "sms.head()"
   ],
   "outputs": [
    {
     "data": {
      "text/plain": [
       "   v1                                                 v2\n",
       "0   0  Go until jurong point, crazy.. Available only ...\n",
       "1   0                      Ok lar... Joking wif u oni...\n",
       "2   1  Free entry in 2 a wkly comp to win FA Cup fina...\n",
       "3   0  U dun say so early hor... U c already then say...\n",
       "4   0  Nah I don't think he goes to usf, he lives aro..."
      ],
      "text/html": [
       "<div>\n",
       "<style scoped>\n",
       "    .dataframe tbody tr th:only-of-type {\n",
       "        vertical-align: middle;\n",
       "    }\n",
       "\n",
       "    .dataframe tbody tr th {\n",
       "        vertical-align: top;\n",
       "    }\n",
       "\n",
       "    .dataframe thead th {\n",
       "        text-align: right;\n",
       "    }\n",
       "</style>\n",
       "<table border=\"1\" class=\"dataframe\">\n",
       "  <thead>\n",
       "    <tr style=\"text-align: right;\">\n",
       "      <th></th>\n",
       "      <th>v1</th>\n",
       "      <th>v2</th>\n",
       "    </tr>\n",
       "  </thead>\n",
       "  <tbody>\n",
       "    <tr>\n",
       "      <th>0</th>\n",
       "      <td>0</td>\n",
       "      <td>Go until jurong point, crazy.. Available only ...</td>\n",
       "    </tr>\n",
       "    <tr>\n",
       "      <th>1</th>\n",
       "      <td>0</td>\n",
       "      <td>Ok lar... Joking wif u oni...</td>\n",
       "    </tr>\n",
       "    <tr>\n",
       "      <th>2</th>\n",
       "      <td>1</td>\n",
       "      <td>Free entry in 2 a wkly comp to win FA Cup fina...</td>\n",
       "    </tr>\n",
       "    <tr>\n",
       "      <th>3</th>\n",
       "      <td>0</td>\n",
       "      <td>U dun say so early hor... U c already then say...</td>\n",
       "    </tr>\n",
       "    <tr>\n",
       "      <th>4</th>\n",
       "      <td>0</td>\n",
       "      <td>Nah I don't think he goes to usf, he lives aro...</td>\n",
       "    </tr>\n",
       "  </tbody>\n",
       "</table>\n",
       "</div>"
      ]
     },
     "execution_count": 31,
     "metadata": {},
     "output_type": "execute_result"
    }
   ],
   "execution_count": 31
  },
  {
   "cell_type": "markdown",
   "id": "accepted-hamilton",
   "metadata": {
    "papermill": {
     "duration": 0.042433,
     "end_time": "2022-05-29T09:02:46.370922",
     "exception": false,
     "start_time": "2022-05-29T09:02:46.328489",
     "status": "completed"
    },
    "tags": []
   },
   "source": [
    "**Balance Data**"
   ]
  },
  {
   "cell_type": "code",
   "id": "biological-hearts",
   "metadata": {
    "execution": {
     "iopub.execute_input": "2022-05-29T09:02:46.459562Z",
     "iopub.status.busy": "2022-05-29T09:02:46.458688Z",
     "iopub.status.idle": "2022-05-29T09:02:46.476822Z",
     "shell.execute_reply": "2022-05-29T09:02:46.477295Z",
     "shell.execute_reply.started": "2021-06-05T17:34:39.042573Z"
    },
    "papermill": {
     "duration": 0.063388,
     "end_time": "2022-05-29T09:02:46.477496",
     "exception": false,
     "start_time": "2022-05-29T09:02:46.414108",
     "status": "completed"
    },
    "tags": [],
    "ExecuteTime": {
     "end_time": "2024-06-11T17:39:12.615864Z",
     "start_time": "2024-06-11T17:39:12.612212Z"
    }
   },
   "source": [
    "ham=sms[sms[\"v1\"]==0]\n",
    "spam=sms[sms[\"v1\"]==1]"
   ],
   "outputs": [],
   "execution_count": 38
  },
  {
   "cell_type": "code",
   "id": "incoming-labor",
   "metadata": {
    "execution": {
     "iopub.execute_input": "2022-05-29T09:02:46.564520Z",
     "iopub.status.busy": "2022-05-29T09:02:46.563651Z",
     "iopub.status.idle": "2022-05-29T09:02:46.568776Z",
     "shell.execute_reply": "2022-05-29T09:02:46.569285Z",
     "shell.execute_reply.started": "2021-06-05T17:34:39.054358Z"
    },
    "papermill": {
     "duration": 0.050075,
     "end_time": "2022-05-29T09:02:46.569458",
     "exception": false,
     "start_time": "2022-05-29T09:02:46.519383",
     "status": "completed"
    },
    "tags": [],
    "ExecuteTime": {
     "end_time": "2024-06-11T17:39:13.322665Z",
     "start_time": "2024-06-11T17:39:13.319849Z"
    }
   },
   "source": [
    "ham.shape,spam.shape"
   ],
   "outputs": [
    {
     "data": {
      "text/plain": [
       "((4825, 2), (747, 2))"
      ]
     },
     "execution_count": 39,
     "metadata": {},
     "output_type": "execute_result"
    }
   ],
   "execution_count": 39
  },
  {
   "cell_type": "code",
   "id": "continent-latest",
   "metadata": {
    "execution": {
     "iopub.execute_input": "2022-05-29T09:02:46.657247Z",
     "iopub.status.busy": "2022-05-29T09:02:46.656414Z",
     "iopub.status.idle": "2022-05-29T09:02:46.662645Z",
     "shell.execute_reply": "2022-05-29T09:02:46.663108Z",
     "shell.execute_reply.started": "2021-06-05T17:34:39.067615Z"
    },
    "papermill": {
     "duration": 0.051583,
     "end_time": "2022-05-29T09:02:46.663256",
     "exception": false,
     "start_time": "2022-05-29T09:02:46.611673",
     "status": "completed"
    },
    "tags": [],
    "ExecuteTime": {
     "end_time": "2024-06-11T17:39:15.618316Z",
     "start_time": "2024-06-11T17:39:15.613945Z"
    }
   },
   "source": [
    "ham=ham.sample(spam.shape[0])\n",
    "ham.shape"
   ],
   "outputs": [
    {
     "data": {
      "text/plain": [
       "(747, 2)"
      ]
     },
     "execution_count": 40,
     "metadata": {},
     "output_type": "execute_result"
    }
   ],
   "execution_count": 40
  },
  {
   "cell_type": "code",
   "id": "humanitarian-enlargement",
   "metadata": {
    "execution": {
     "iopub.execute_input": "2022-05-29T09:02:46.751699Z",
     "iopub.status.busy": "2022-05-29T09:02:46.750794Z",
     "iopub.status.idle": "2022-05-29T09:02:46.762417Z",
     "shell.execute_reply": "2022-05-29T09:02:46.762910Z",
     "shell.execute_reply.started": "2021-06-05T17:34:39.083754Z"
    },
    "papermill": {
     "duration": 0.057627,
     "end_time": "2022-05-29T09:02:46.763065",
     "exception": false,
     "start_time": "2022-05-29T09:02:46.705438",
     "status": "completed"
    },
    "tags": [],
    "ExecuteTime": {
     "end_time": "2024-06-11T18:04:39.288515Z",
     "start_time": "2024-06-11T18:04:39.275857Z"
    }
   },
   "source": [
    "data = pd.concat([ham, spam], ignore_index=True)\n",
    "print(\"Shape :\", data.shape)\n",
    "data.head()"
   ],
   "outputs": [
    {
     "name": "stdout",
     "output_type": "stream",
     "text": [
      "Shape : (1494, 2)\n"
     ]
    },
    {
     "data": {
      "text/plain": [
       "   v1                                                 v2\n",
       "0   0  I can't speak, bcaz mobile have problem. I can...\n",
       "1   0     7 lor... Change 2 suntec... Wat time u coming?\n",
       "2   0  Well, I was about to give up cos they all said...\n",
       "3   0   G says you never answer your texts, confirm/deny\n",
       "4   0           Da is good good player.why he is unsold."
      ],
      "text/html": [
       "<div>\n",
       "<style scoped>\n",
       "    .dataframe tbody tr th:only-of-type {\n",
       "        vertical-align: middle;\n",
       "    }\n",
       "\n",
       "    .dataframe tbody tr th {\n",
       "        vertical-align: top;\n",
       "    }\n",
       "\n",
       "    .dataframe thead th {\n",
       "        text-align: right;\n",
       "    }\n",
       "</style>\n",
       "<table border=\"1\" class=\"dataframe\">\n",
       "  <thead>\n",
       "    <tr style=\"text-align: right;\">\n",
       "      <th></th>\n",
       "      <th>v1</th>\n",
       "      <th>v2</th>\n",
       "    </tr>\n",
       "  </thead>\n",
       "  <tbody>\n",
       "    <tr>\n",
       "      <th>0</th>\n",
       "      <td>0</td>\n",
       "      <td>I can't speak, bcaz mobile have problem. I can...</td>\n",
       "    </tr>\n",
       "    <tr>\n",
       "      <th>1</th>\n",
       "      <td>0</td>\n",
       "      <td>7 lor... Change 2 suntec... Wat time u coming?</td>\n",
       "    </tr>\n",
       "    <tr>\n",
       "      <th>2</th>\n",
       "      <td>0</td>\n",
       "      <td>Well, I was about to give up cos they all said...</td>\n",
       "    </tr>\n",
       "    <tr>\n",
       "      <th>3</th>\n",
       "      <td>0</td>\n",
       "      <td>G says you never answer your texts, confirm/deny</td>\n",
       "    </tr>\n",
       "    <tr>\n",
       "      <th>4</th>\n",
       "      <td>0</td>\n",
       "      <td>Da is good good player.why he is unsold.</td>\n",
       "    </tr>\n",
       "  </tbody>\n",
       "</table>\n",
       "</div>"
      ]
     },
     "execution_count": 59,
     "metadata": {},
     "output_type": "execute_result"
    }
   ],
   "execution_count": 59
  },
  {
   "cell_type": "code",
   "id": "quantitative-norfolk",
   "metadata": {
    "execution": {
     "iopub.execute_input": "2022-05-29T09:02:46.851871Z",
     "iopub.status.busy": "2022-05-29T09:02:46.851242Z",
     "iopub.status.idle": "2022-05-29T09:02:46.952565Z",
     "shell.execute_reply": "2022-05-29T09:02:46.952003Z",
     "shell.execute_reply.started": "2021-06-05T17:34:39.101682Z"
    },
    "papermill": {
     "duration": 0.146757,
     "end_time": "2022-05-29T09:02:46.952696",
     "exception": false,
     "start_time": "2022-05-29T09:02:46.805939",
     "status": "completed"
    },
    "tags": [],
    "ExecuteTime": {
     "end_time": "2024-06-11T18:05:08.227852Z",
     "start_time": "2024-06-11T18:05:08.163597Z"
    }
   },
   "source": "sns.countplot(x=\"v1\", data=data)",
   "outputs": [
    {
     "data": {
      "text/plain": [
       "<Axes: xlabel='v1', ylabel='count'>"
      ]
     },
     "execution_count": 61,
     "metadata": {},
     "output_type": "execute_result"
    },
    {
     "data": {
      "text/plain": [
       "<Figure size 640x480 with 1 Axes>"
      ],
      "image/png": "[encoded data removed]"
     },
     "metadata": {},
     "output_type": "display_data"
    }
   ],
   "execution_count": 61
  },
  {
   "cell_type": "markdown",
   "id": "monthly-alabama",
   "metadata": {
    "execution": {
     "iopub.execute_input": "2021-06-05T17:30:37.217983Z",
     "iopub.status.busy": "2021-06-05T17:30:37.217676Z",
     "iopub.status.idle": "2021-06-05T17:30:37.234598Z",
     "shell.execute_reply": "2021-06-05T17:30:37.232509Z",
     "shell.execute_reply.started": "2021-06-05T17:30:37.217955Z"
    },
    "papermill": {
     "duration": 0.044349,
     "end_time": "2022-05-29T09:02:47.041508",
     "exception": false,
     "start_time": "2022-05-29T09:02:46.997159",
     "status": "completed"
    },
    "tags": []
   },
   "source": [
    "* Now we can see data is balanced"
   ]
  },
  {
   "cell_type": "markdown",
   "id": "numerical-cookie",
   "metadata": {
    "papermill": {
     "duration": 0.043884,
     "end_time": "2022-05-29T09:02:47.129381",
     "exception": false,
     "start_time": "2022-05-29T09:02:47.085497",
     "status": "completed"
    },
    "tags": []
   },
   "source": [
    "**dividing data in X & Y**"
   ]
  },
  {
   "cell_type": "code",
   "id": "novel-albany",
   "metadata": {
    "execution": {
     "iopub.execute_input": "2022-05-29T09:02:47.222119Z",
     "iopub.status.busy": "2022-05-29T09:02:47.221577Z",
     "iopub.status.idle": "2022-05-29T09:02:47.223586Z",
     "shell.execute_reply": "2022-05-29T09:02:47.223994Z",
     "shell.execute_reply.started": "2021-06-05T17:34:39.219911Z"
    },
    "papermill": {
     "duration": 0.051022,
     "end_time": "2022-05-29T09:02:47.224146",
     "exception": false,
     "start_time": "2022-05-29T09:02:47.173124",
     "status": "completed"
    },
    "tags": [],
    "ExecuteTime": {
     "end_time": "2024-06-11T18:05:22.370219Z",
     "start_time": "2024-06-11T18:05:22.367897Z"
    }
   },
   "source": [
    "X = data.v2\n",
    "y = data.v1"
   ],
   "outputs": [],
   "execution_count": 62
  },
  {
   "cell_type": "markdown",
   "id": "severe-canberra",
   "metadata": {
    "papermill": {
     "duration": 0.044507,
     "end_time": "2022-05-29T09:02:47.312335",
     "exception": false,
     "start_time": "2022-05-29T09:02:47.267828",
     "status": "completed"
    },
    "tags": []
   },
   "source": [
    "# Model building"
   ]
  },
  {
   "cell_type": "code",
   "id": "foster-consultation",
   "metadata": {
    "execution": {
     "iopub.execute_input": "2022-05-29T09:02:47.402305Z",
     "iopub.status.busy": "2022-05-29T09:02:47.401676Z",
     "iopub.status.idle": "2022-05-29T09:02:47.463098Z",
     "shell.execute_reply": "2022-05-29T09:02:47.463724Z",
     "shell.execute_reply.started": "2021-06-05T17:34:39.229809Z"
    },
    "papermill": {
     "duration": 0.108207,
     "end_time": "2022-05-29T09:02:47.463941",
     "exception": false,
     "start_time": "2022-05-29T09:02:47.355734",
     "status": "completed"
    },
    "tags": [],
    "ExecuteTime": {
     "end_time": "2024-06-11T18:05:46.176582Z",
     "start_time": "2024-06-11T18:05:43.445981Z"
    }
   },
   "source": [
    "# split X and y into training and testing sets\n",
    "# by default, it splits 75% training and 25% test\n",
    "# random_state=1 for reproducibility\n",
    "\n",
    "from sklearn.model_selection import train_test_split\n",
    "X_train, X_test, y_train, y_test = train_test_split(X, y, random_state=5)\n",
    "print(X_train.shape)\n",
    "print(X_test.shape)\n",
    "print(y_train.shape)\n",
    "print(y_test.shape)"
   ],
   "outputs": [
    {
     "name": "stdout",
     "output_type": "stream",
     "text": [
      "(1120,)\n",
      "(374,)\n",
      "(1120,)\n",
      "(374,)\n"
     ]
    }
   ],
   "execution_count": 63
  },
  {
   "cell_type": "markdown",
   "id": "geographic-credits",
   "metadata": {
    "papermill": {
     "duration": 0.044147,
     "end_time": "2022-05-29T09:02:47.553674",
     "exception": false,
     "start_time": "2022-05-29T09:02:47.509527",
     "status": "completed"
    },
    "tags": []
   },
   "source": [
    "**calling CountVectorizer**"
   ]
  },
  {
   "cell_type": "code",
   "id": "stupid-organ",
   "metadata": {
    "execution": {
     "iopub.execute_input": "2022-05-29T09:02:47.645658Z",
     "iopub.status.busy": "2022-05-29T09:02:47.645090Z",
     "iopub.status.idle": "2022-05-29T09:02:47.648286Z",
     "shell.execute_reply": "2022-05-29T09:02:47.648797Z",
     "shell.execute_reply.started": "2021-06-05T17:34:39.242484Z"
    },
    "papermill": {
     "duration": 0.049993,
     "end_time": "2022-05-29T09:02:47.648943",
     "exception": false,
     "start_time": "2022-05-29T09:02:47.598950",
     "status": "completed"
    },
    "tags": [],
    "ExecuteTime": {
     "end_time": "2024-06-11T18:05:50.872318Z",
     "start_time": "2024-06-11T18:05:50.869804Z"
    }
   },
   "source": [
    "vect = CountVectorizer()"
   ],
   "outputs": [],
   "execution_count": 64
  },
  {
   "cell_type": "code",
   "id": "equal-calculator",
   "metadata": {
    "execution": {
     "iopub.execute_input": "2022-05-29T09:02:47.739173Z",
     "iopub.status.busy": "2022-05-29T09:02:47.738669Z",
     "iopub.status.idle": "2022-05-29T09:02:47.768448Z",
     "shell.execute_reply": "2022-05-29T09:02:47.768875Z",
     "shell.execute_reply.started": "2021-06-05T17:34:39.251357Z"
    },
    "papermill": {
     "duration": 0.076357,
     "end_time": "2022-05-29T09:02:47.769040",
     "exception": false,
     "start_time": "2022-05-29T09:02:47.692683",
     "status": "completed"
    },
    "tags": [],
    "ExecuteTime": {
     "end_time": "2024-06-11T18:05:52.798518Z",
     "start_time": "2024-06-11T18:05:52.776164Z"
    }
   },
   "source": [
    "X_train_dtm = vect.fit_transform(X_train)"
   ],
   "outputs": [],
   "execution_count": 65
  },
  {
   "cell_type": "code",
   "id": "suitable-nutrition",
   "metadata": {
    "execution": {
     "iopub.execute_input": "2022-05-29T09:02:47.861786Z",
     "iopub.status.busy": "2022-05-29T09:02:47.861095Z",
     "iopub.status.idle": "2022-05-29T09:02:47.864235Z",
     "shell.execute_reply": "2022-05-29T09:02:47.864725Z",
     "shell.execute_reply.started": "2021-06-05T17:34:39.434084Z"
    },
    "papermill": {
     "duration": 0.051892,
     "end_time": "2022-05-29T09:02:47.864872",
     "exception": false,
     "start_time": "2022-05-29T09:02:47.812980",
     "status": "completed"
    },
    "tags": [],
    "ExecuteTime": {
     "end_time": "2024-06-11T18:05:54.696874Z",
     "start_time": "2024-06-11T18:05:54.693433Z"
    }
   },
   "source": [
    "X_train_dtm"
   ],
   "outputs": [
    {
     "data": {
      "text/plain": [
       "<1120x3993 sparse matrix of type '<class 'numpy.int64'>'\n",
       "\twith 19009 stored elements in Compressed Sparse Row format>"
      ]
     },
     "execution_count": 66,
     "metadata": {},
     "output_type": "execute_result"
    }
   ],
   "execution_count": 66
  },
  {
   "cell_type": "code",
   "id": "corrected-electron",
   "metadata": {
    "execution": {
     "iopub.execute_input": "2022-05-29T09:02:47.956187Z",
     "iopub.status.busy": "2022-05-29T09:02:47.955634Z",
     "iopub.status.idle": "2022-05-29T09:02:47.967181Z",
     "shell.execute_reply": "2022-05-29T09:02:47.967682Z",
     "shell.execute_reply.started": "2021-06-05T17:34:39.440798Z"
    },
    "papermill": {
     "duration": 0.058657,
     "end_time": "2022-05-29T09:02:47.967843",
     "exception": false,
     "start_time": "2022-05-29T09:02:47.909186",
     "status": "completed"
    },
    "tags": [],
    "ExecuteTime": {
     "end_time": "2024-06-11T18:05:59.893785Z",
     "start_time": "2024-06-11T18:05:59.886679Z"
    }
   },
   "source": [
    "# 4. transform testing data (using fitted vocabulary) into a document-term matrix\n",
    "X_test_dtm = vect.transform(X_test)\n",
    "X_test_dtm\n",
    "\n",
    "# you can see that the number of columns, 7456, is the same as what we have learned above in X_train_dtm"
   ],
   "outputs": [
    {
     "data": {
      "text/plain": [
       "<374x3993 sparse matrix of type '<class 'numpy.int64'>'\n",
       "\twith 5662 stored elements in Compressed Sparse Row format>"
      ]
     },
     "execution_count": 67,
     "metadata": {},
     "output_type": "execute_result"
    }
   ],
   "execution_count": 67
  },
  {
   "cell_type": "markdown",
   "id": "beautiful-effect",
   "metadata": {
    "papermill": {
     "duration": 0.04429,
     "end_time": "2022-05-29T09:02:48.057199",
     "exception": false,
     "start_time": "2022-05-29T09:02:48.012909",
     "status": "completed"
    },
    "tags": []
   },
   "source": [
    "# MultinomialNB\n",
    "**MultinomialNB is the one of the best algo for Text data**"
   ]
  },
  {
   "cell_type": "code",
   "id": "minimal-training",
   "metadata": {
    "execution": {
     "iopub.execute_input": "2022-05-29T09:02:48.151978Z",
     "iopub.status.busy": "2022-05-29T09:02:48.151094Z",
     "iopub.status.idle": "2022-05-29T09:02:48.155690Z",
     "shell.execute_reply": "2022-05-29T09:02:48.156080Z",
     "shell.execute_reply.started": "2021-06-05T17:34:39.466325Z"
    },
    "papermill": {
     "duration": 0.053461,
     "end_time": "2022-05-29T09:02:48.156235",
     "exception": false,
     "start_time": "2022-05-29T09:02:48.102774",
     "status": "completed"
    },
    "tags": [],
    "ExecuteTime": {
     "end_time": "2024-06-11T18:06:04.278723Z",
     "start_time": "2024-06-11T18:06:04.272124Z"
    }
   },
   "source": [
    "# 1. import\n",
    "from sklearn.naive_bayes import MultinomialNB\n",
    "\n",
    "# 2. instantiate a Multinomial Naive Bayes model\n",
    "nb = MultinomialNB()"
   ],
   "outputs": [],
   "execution_count": 68
  },
  {
   "cell_type": "code",
   "id": "indonesian-incidence",
   "metadata": {
    "execution": {
     "iopub.execute_input": "2022-05-29T09:02:48.248308Z",
     "iopub.status.busy": "2022-05-29T09:02:48.247721Z",
     "iopub.status.idle": "2022-05-29T09:02:48.255041Z",
     "shell.execute_reply": "2022-05-29T09:02:48.255512Z",
     "shell.execute_reply.started": "2021-06-05T17:34:39.48033Z"
    },
    "papermill": {
     "duration": 0.054959,
     "end_time": "2022-05-29T09:02:48.255669",
     "exception": false,
     "start_time": "2022-05-29T09:02:48.200710",
     "status": "completed"
    },
    "tags": [],
    "ExecuteTime": {
     "end_time": "2024-06-11T18:06:16.551362Z",
     "start_time": "2024-06-11T18:06:16.544891Z"
    }
   },
   "source": [
    "# 3. train the model \n",
    "\n",
    "nb.fit(X_train_dtm, y_train)"
   ],
   "outputs": [
    {
     "data": {
      "text/plain": [
       "MultinomialNB()"
      ],
      "text/html": [
       "<style>#sk-container-id-5 {\n",
       "  /* Definition of color scheme common for light and dark mode */\n",
       "  --sklearn-color-text: black;\n",
       "  --sklearn-color-line: gray;\n",
       "  /* Definition of color scheme for unfitted estimators */\n",
       "  --sklearn-color-unfitted-level-0: #fff5e6;\n",
       "  --sklearn-color-unfitted-level-1: #f6e4d2;\n",
       "  --sklearn-color-unfitted-level-2: #ffe0b3;\n",
       "  --sklearn-color-unfitted-level-3: chocolate;\n",
       "  /* Definition of color scheme for fitted estimators */\n",
       "  --sklearn-color-fitted-level-0: #f0f8ff;\n",
       "  --sklearn-color-fitted-level-1: #d4ebff;\n",
       "  --sklearn-color-fitted-level-2: #b3dbfd;\n",
       "  --sklearn-color-fitted-level-3: cornflowerblue;\n",
       "\n",
       "  /* Specific color for light theme */\n",
       "  --sklearn-color-text-on-default-background: var(--sg-text-color, var(--theme-code-foreground, var(--jp-content-font-color1, black)));\n",
       "  --sklearn-color-background: var(--sg-background-color, var(--theme-background, var(--jp-layout-color0, white)));\n",
       "  --sklearn-color-border-box: var(--sg-text-color, var(--theme-code-foreground, var(--jp-content-font-color1, black)));\n",
       "  --sklearn-color-icon: #696969;\n",
       "\n",
       "  @media (prefers-color-scheme: dark) {\n",
       "    /* Redefinition of color scheme for dark theme */\n",
       "    --sklearn-color-text-on-default-background: var(--sg-text-color, var(--theme-code-foreground, var(--jp-content-font-color1, white)));\n",
       "    --sklearn-color-background: var(--sg-background-color, var(--theme-background, var(--jp-layout-color0, #111)));\n",
       "    --sklearn-color-border-box: var(--sg-text-color, var(--theme-code-foreground, var(--jp-content-font-color1, white)));\n",
       "    --sklearn-color-icon: #878787;\n",
       "  }\n",
       "}\n",
       "\n",
       "#sk-container-id-5 {\n",
       "  color: var(--sklearn-color-text);\n",
       "}\n",
       "\n",
       "#sk-container-id-5 pre {\n",
       "  padding: 0;\n",
       "}\n",
       "\n",
       "#sk-container-id-5 input.sk-hidden--visually {\n",
       "  border: 0;\n",
       "  clip: rect(1px 1px 1px 1px);\n",
       "  clip: rect(1px, 1px, 1px, 1px);\n",
       "  height: 1px;\n",
       "  margin: -1px;\n",
       "  overflow: hidden;\n",
       "  padding: 0;\n",
       "  position: absolute;\n",
       "  width: 1px;\n",
       "}\n",
       "\n",
       "#sk-container-id-5 div.sk-dashed-wrapped {\n",
       "  border: 1px dashed var(--sklearn-color-line);\n",
       "  margin: 0 0.4em 0.5em 0.4em;\n",
       "  box-sizing: border-box;\n",
       "  padding-bottom: 0.4em;\n",
       "  background-color: var(--sklearn-color-background);\n",
       "}\n",
       "\n",
       "#sk-container-id-5 div.sk-container {\n",
       "  /* jupyter's `normalize.less` sets `[hidden] { display: none; }`\n",
       "     but bootstrap.min.css set `[hidden] { display: none !important; }`\n",
       "     so we also need the `!important` here to be able to override the\n",
       "     default hidden behavior on the sphinx rendered scikit-learn.org.\n",
       "     See: https://github.com/scikit-learn/scikit-learn/issues/21755 */\n",
       "  display: inline-block !important;\n",
       "  position: relative;\n",
       "}\n",
       "\n",
       "#sk-container-id-5 div.sk-text-repr-fallback {\n",
       "  display: none;\n",
       "}\n",
       "\n",
       "div.sk-parallel-item,\n",
       "div.sk-serial,\n",
       "div.sk-item {\n",
       "  /* draw centered vertical line to link estimators */\n",
       "  background-image: linear-gradient(var(--sklearn-color-text-on-default-background), var(--sklearn-color-text-on-default-background));\n",
       "  background-size: 2px 100%;\n",
       "  background-repeat: no-repeat;\n",
       "  background-position: center center;\n",
       "}\n",
       "\n",
       "/* Parallel-specific style estimator block */\n",
       "\n",
       "#sk-container-id-5 div.sk-parallel-item::after {\n",
       "  content: \"\";\n",
       "  width: 100%;\n",
       "  border-bottom: 2px solid var(--sklearn-color-text-on-default-background);\n",
       "  flex-grow: 1;\n",
       "}\n",
       "\n",
       "#sk-container-id-5 div.sk-parallel {\n",
       "  display: flex;\n",
       "  align-items: stretch;\n",
       "  justify-content: center;\n",
       "  background-color: var(--sklearn-color-background);\n",
       "  position: relative;\n",
       "}\n",
       "\n",
       "#sk-container-id-5 div.sk-parallel-item {\n",
       "  display: flex;\n",
       "  flex-direction: column;\n",
       "}\n",
       "\n",
       "#sk-container-id-5 div.sk-parallel-item:first-child::after {\n",
       "  align-self: flex-end;\n",
       "  width: 50%;\n",
       "}\n",
       "\n",
       "#sk-container-id-5 div.sk-parallel-item:last-child::after {\n",
       "  align-self: flex-start;\n",
       "  width: 50%;\n",
       "}\n",
       "\n",
       "#sk-container-id-5 div.sk-parallel-item:only-child::after {\n",
       "  width: 0;\n",
       "}\n",
       "\n",
       "/* Serial-specific style estimator block */\n",
       "\n",
       "#sk-container-id-5 div.sk-serial {\n",
       "  display: flex;\n",
       "  flex-direction: column;\n",
       "  align-items: center;\n",
       "  background-color: var(--sklearn-color-background);\n",
       "  padding-right: 1em;\n",
       "  padding-left: 1em;\n",
       "}\n",
       "\n",
       "\n",
       "/* Toggleable style: style used for estimator/Pipeline/ColumnTransformer box that is\n",
       "clickable and can be expanded/collapsed.\n",
       "- Pipeline and ColumnTransformer use this feature and define the default style\n",
       "- Estimators will overwrite some part of the style using the `sk-estimator` class\n",
       "*/\n",
       "\n",
       "/* Pipeline and ColumnTransformer style (default) */\n",
       "\n",
       "#sk-container-id-5 div.sk-toggleable {\n",
       "  /* Default theme specific background. It is overwritten whether we have a\n",
       "  specific estimator or a Pipeline/ColumnTransformer */\n",
       "  background-color: var(--sklearn-color-background);\n",
       "}\n",
       "\n",
       "/* Toggleable label */\n",
       "#sk-container-id-5 label.sk-toggleable__label {\n",
       "  cursor: pointer;\n",
       "  display: block;\n",
       "  width: 100%;\n",
       "  margin-bottom: 0;\n",
       "  padding: 0.5em;\n",
       "  box-sizing: border-box;\n",
       "  text-align: center;\n",
       "}\n",
       "\n",
       "#sk-container-id-5 label.sk-toggleable__label-arrow:before {\n",
       "  /* Arrow on the left of the label */\n",
       "  content: \"▸\";\n",
       "  float: left;\n",
       "  margin-right: 0.25em;\n",
       "  color: var(--sklearn-color-icon);\n",
       "}\n",
       "\n",
       "#sk-container-id-5 label.sk-toggleable__label-arrow:hover:before {\n",
       "  color: var(--sklearn-color-text);\n",
       "}\n",
       "\n",
       "/* Toggleable content - dropdown */\n",
       "\n",
       "#sk-container-id-5 div.sk-toggleable__content {\n",
       "  max-height: 0;\n",
       "  max-width: 0;\n",
       "  overflow: hidden;\n",
       "  text-align: left;\n",
       "  /* unfitted */\n",
       "  background-color: var(--sklearn-color-unfitted-level-0);\n",
       "}\n",
       "\n",
       "#sk-container-id-5 div.sk-toggleable__content.fitted {\n",
       "  /* fitted */\n",
       "  background-color: var(--sklearn-color-fitted-level-0);\n",
       "}\n",
       "\n",
       "#sk-container-id-5 div.sk-toggleable__content pre {\n",
       "  margin: 0.2em;\n",
       "  border-radius: 0.25em;\n",
       "  color: var(--sklearn-color-text);\n",
       "  /* unfitted */\n",
       "  background-color: var(--sklearn-color-unfitted-level-0);\n",
       "}\n",
       "\n",
       "#sk-container-id-5 div.sk-toggleable__content.fitted pre {\n",
       "  /* unfitted */\n",
       "  background-color: var(--sklearn-color-fitted-level-0);\n",
       "}\n",
       "\n",
       "#sk-container-id-5 input.sk-toggleable__control:checked~div.sk-toggleable__content {\n",
       "  /* Expand drop-down */\n",
       "  max-height: 200px;\n",
       "  max-width: 100%;\n",
       "  overflow: auto;\n",
       "}\n",
       "\n",
       "#sk-container-id-5 input.sk-toggleable__control:checked~label.sk-toggleable__label-arrow:before {\n",
       "  content: \"▾\";\n",
       "}\n",
       "\n",
       "/* Pipeline/ColumnTransformer-specific style */\n",
       "\n",
       "#sk-container-id-5 div.sk-label input.sk-toggleable__control:checked~label.sk-toggleable__label {\n",
       "  color: var(--sklearn-color-text);\n",
       "  background-color: var(--sklearn-color-unfitted-level-2);\n",
       "}\n",
       "\n",
       "#sk-container-id-5 div.sk-label.fitted input.sk-toggleable__control:checked~label.sk-toggleable__label {\n",
       "  background-color: var(--sklearn-color-fitted-level-2);\n",
       "}\n",
       "\n",
       "/* Estimator-specific style */\n",
       "\n",
       "/* Colorize estimator box */\n",
       "#sk-container-id-5 div.sk-estimator input.sk-toggleable__control:checked~label.sk-toggleable__label {\n",
       "  /* unfitted */\n",
       "  background-color: var(--sklearn-color-unfitted-level-2);\n",
       "}\n",
       "\n",
       "#sk-container-id-5 div.sk-estimator.fitted input.sk-toggleable__control:checked~label.sk-toggleable__label {\n",
       "  /* fitted */\n",
       "  background-color: var(--sklearn-color-fitted-level-2);\n",
       "}\n",
       "\n",
       "#sk-container-id-5 div.sk-label label.sk-toggleable__label,\n",
       "#sk-container-id-5 div.sk-label label {\n",
       "  /* The background is the default theme color */\n",
       "  color: var(--sklearn-color-text-on-default-background);\n",
       "}\n",
       "\n",
       "/* On hover, darken the color of the background */\n",
       "#sk-container-id-5 div.sk-label:hover label.sk-toggleable__label {\n",
       "  color: var(--sklearn-color-text);\n",
       "  background-color: var(--sklearn-color-unfitted-level-2);\n",
       "}\n",
       "\n",
       "/* Label box, darken color on hover, fitted */\n",
       "#sk-container-id-5 div.sk-label.fitted:hover label.sk-toggleable__label.fitted {\n",
       "  color: var(--sklearn-color-text);\n",
       "  background-color: var(--sklearn-color-fitted-level-2);\n",
       "}\n",
       "\n",
       "/* Estimator label */\n",
       "\n",
       "#sk-container-id-5 div.sk-label label {\n",
       "  font-family: monospace;\n",
       "  font-weight: bold;\n",
       "  display: inline-block;\n",
       "  line-height: 1.2em;\n",
       "}\n",
       "\n",
       "#sk-container-id-5 div.sk-label-container {\n",
       "  text-align: center;\n",
       "}\n",
       "\n",
       "/* Estimator-specific */\n",
       "#sk-container-id-5 div.sk-estimator {\n",
       "  font-family: monospace;\n",
       "  border: 1px dotted var(--sklearn-color-border-box);\n",
       "  border-radius: 0.25em;\n",
       "  box-sizing: border-box;\n",
       "  margin-bottom: 0.5em;\n",
       "  /* unfitted */\n",
       "  background-color: var(--sklearn-color-unfitted-level-0);\n",
       "}\n",
       "\n",
       "#sk-container-id-5 div.sk-estimator.fitted {\n",
       "  /* fitted */\n",
       "  background-color: var(--sklearn-color-fitted-level-0);\n",
       "}\n",
       "\n",
       "/* on hover */\n",
       "#sk-container-id-5 div.sk-estimator:hover {\n",
       "  /* unfitted */\n",
       "  background-color: var(--sklearn-color-unfitted-level-2);\n",
       "}\n",
       "\n",
       "#sk-container-id-5 div.sk-estimator.fitted:hover {\n",
       "  /* fitted */\n",
       "  background-color: var(--sklearn-color-fitted-level-2);\n",
       "}\n",
       "\n",
       "/* Specification for estimator info (e.g. \"i\" and \"?\") */\n",
       "\n",
       "/* Common style for \"i\" and \"?\" */\n",
       "\n",
       ".sk-estimator-doc-link,\n",
       "a:link.sk-estimator-doc-link,\n",
       "a:visited.sk-estimator-doc-link {\n",
       "  float: right;\n",
       "  font-size: smaller;\n",
       "  line-height: 1em;\n",
       "  font-family: monospace;\n",
       "  background-color: var(--sklearn-color-background);\n",
       "  border-radius: 1em;\n",
       "  height: 1em;\n",
       "  width: 1em;\n",
       "  text-decoration: none !important;\n",
       "  margin-left: 1ex;\n",
       "  /* unfitted */\n",
       "  border: var(--sklearn-color-unfitted-level-1) 1pt solid;\n",
       "  color: var(--sklearn-color-unfitted-level-1);\n",
       "}\n",
       "\n",
       ".sk-estimator-doc-link.fitted,\n",
       "a:link.sk-estimator-doc-link.fitted,\n",
       "a:visited.sk-estimator-doc-link.fitted {\n",
       "  /* fitted */\n",
       "  border: var(--sklearn-color-fitted-level-1) 1pt solid;\n",
       "  color: var(--sklearn-color-fitted-level-1);\n",
       "}\n",
       "\n",
       "/* On hover */\n",
       "div.sk-estimator:hover .sk-estimator-doc-link:hover,\n",
       ".sk-estimator-doc-link:hover,\n",
       "div.sk-label-container:hover .sk-estimator-doc-link:hover,\n",
       ".sk-estimator-doc-link:hover {\n",
       "  /* unfitted */\n",
       "  background-color: var(--sklearn-color-unfitted-level-3);\n",
       "  color: var(--sklearn-color-background);\n",
       "  text-decoration: none;\n",
       "}\n",
       "\n",
       "div.sk-estimator.fitted:hover .sk-estimator-doc-link.fitted:hover,\n",
       ".sk-estimator-doc-link.fitted:hover,\n",
       "div.sk-label-container:hover .sk-estimator-doc-link.fitted:hover,\n",
       ".sk-estimator-doc-link.fitted:hover {\n",
       "  /* fitted */\n",
       "  background-color: var(--sklearn-color-fitted-level-3);\n",
       "  color: var(--sklearn-color-background);\n",
       "  text-decoration: none;\n",
       "}\n",
       "\n",
       "/* Span, style for the box shown on hovering the info icon */\n",
       ".sk-estimator-doc-link span {\n",
       "  display: none;\n",
       "  z-index: 9999;\n",
       "  position: relative;\n",
       "  font-weight: normal;\n",
       "  right: .2ex;\n",
       "  padding: .5ex;\n",
       "  margin: .5ex;\n",
       "  width: min-content;\n",
       "  min-width: 20ex;\n",
       "  max-width: 50ex;\n",
       "  color: var(--sklearn-color-text);\n",
       "  box-shadow: 2pt 2pt 4pt #999;\n",
       "  /* unfitted */\n",
       "  background: var(--sklearn-color-unfitted-level-0);\n",
       "  border: .5pt solid var(--sklearn-color-unfitted-level-3);\n",
       "}\n",
       "\n",
       ".sk-estimator-doc-link.fitted span {\n",
       "  /* fitted */\n",
       "  background: var(--sklearn-color-fitted-level-0);\n",
       "  border: var(--sklearn-color-fitted-level-3);\n",
       "}\n",
       "\n",
       ".sk-estimator-doc-link:hover span {\n",
       "  display: block;\n",
       "}\n",
       "\n",
       "/* \"?\"-specific style due to the `<a>` HTML tag */\n",
       "\n",
       "#sk-container-id-5 a.estimator_doc_link {\n",
       "  float: right;\n",
       "  font-size: 1rem;\n",
       "  line-height: 1em;\n",
       "  font-family: monospace;\n",
       "  background-color: var(--sklearn-color-background);\n",
       "  border-radius: 1rem;\n",
       "  height: 1rem;\n",
       "  width: 1rem;\n",
       "  text-decoration: none;\n",
       "  /* unfitted */\n",
       "  color: var(--sklearn-color-unfitted-level-1);\n",
       "  border: var(--sklearn-color-unfitted-level-1) 1pt solid;\n",
       "}\n",
       "\n",
       "#sk-container-id-5 a.estimator_doc_link.fitted {\n",
       "  /* fitted */\n",
       "  border: var(--sklearn-color-fitted-level-1) 1pt solid;\n",
       "  color: var(--sklearn-color-fitted-level-1);\n",
       "}\n",
       "\n",
       "/* On hover */\n",
       "#sk-container-id-5 a.estimator_doc_link:hover {\n",
       "  /* unfitted */\n",
       "  background-color: var(--sklearn-color-unfitted-level-3);\n",
       "  color: var(--sklearn-color-background);\n",
       "  text-decoration: none;\n",
       "}\n",
       "\n",
       "#sk-container-id-5 a.estimator_doc_link.fitted:hover {\n",
       "  /* fitted */\n",
       "  background-color: var(--sklearn-color-fitted-level-3);\n",
       "}\n",
       "</style><div id=\"sk-container-id-5\" class=\"sk-top-container\"><div class=\"sk-text-repr-fallback\"><pre>MultinomialNB()</pre><b>In a Jupyter environment, please rerun this cell to show the HTML representation or trust the notebook. <br />On GitHub, the HTML representation is unable to render, please try loading this page with nbviewer.org.</b></div><div class=\"sk-container\" hidden><div class=\"sk-item\"><div class=\"sk-estimator fitted sk-toggleable\"><input class=\"sk-toggleable__control sk-hidden--visually\" id=\"sk-estimator-id-5\" type=\"checkbox\" checked><label for=\"sk-estimator-id-5\" class=\"sk-toggleable__label fitted sk-toggleable__label-arrow fitted\">&nbsp;&nbsp;MultinomialNB<a class=\"sk-estimator-doc-link fitted\" rel=\"noreferrer\" target=\"_blank\" href=\"https://scikit-learn.org/1.5/modules/generated/sklearn.naive_bayes.MultinomialNB.html\">?<span>Documentation for MultinomialNB</span></a><span class=\"sk-estimator-doc-link fitted\">i<span>Fitted</span></span></label><div class=\"sk-toggleable__content fitted\"><pre>MultinomialNB()</pre></div> </div></div></div></div>"
      ]
     },
     "execution_count": 70,
     "metadata": {},
     "output_type": "execute_result"
    }
   ],
   "execution_count": 70
  },
  {
   "cell_type": "code",
   "id": "theoretical-picnic",
   "metadata": {
    "execution": {
     "iopub.execute_input": "2022-05-29T09:02:48.347458Z",
     "iopub.status.busy": "2022-05-29T09:02:48.346909Z",
     "iopub.status.idle": "2022-05-29T09:02:48.350328Z",
     "shell.execute_reply": "2022-05-29T09:02:48.350750Z",
     "shell.execute_reply.started": "2021-06-05T17:34:39.496176Z"
    },
    "papermill": {
     "duration": 0.050598,
     "end_time": "2022-05-29T09:02:48.350896",
     "exception": false,
     "start_time": "2022-05-29T09:02:48.300298",
     "status": "completed"
    },
    "tags": [],
    "ExecuteTime": {
     "end_time": "2024-06-11T18:06:26.972605Z",
     "start_time": "2024-06-11T18:06:26.968923Z"
    }
   },
   "source": [
    "# 4. make class predictions for X_test_dtm\n",
    "y_pred_class = nb.predict(X_test_dtm)"
   ],
   "outputs": [],
   "execution_count": 71
  },
  {
   "cell_type": "code",
   "id": "latest-trader",
   "metadata": {
    "execution": {
     "iopub.execute_input": "2022-05-29T09:02:48.442947Z",
     "iopub.status.busy": "2022-05-29T09:02:48.442430Z",
     "iopub.status.idle": "2022-05-29T09:02:48.447348Z",
     "shell.execute_reply": "2022-05-29T09:02:48.447795Z",
     "shell.execute_reply.started": "2021-06-05T17:34:39.506463Z"
    },
    "papermill": {
     "duration": 0.052676,
     "end_time": "2022-05-29T09:02:48.447939",
     "exception": false,
     "start_time": "2022-05-29T09:02:48.395263",
     "status": "completed"
    },
    "tags": [],
    "ExecuteTime": {
     "end_time": "2024-06-11T18:06:31.183817Z",
     "start_time": "2024-06-11T18:06:31.179099Z"
    }
   },
   "source": [
    "# calculate accuracy of class predictions\n",
    "from sklearn import metrics\n",
    "metrics.accuracy_score(y_test, y_pred_class)"
   ],
   "outputs": [
    {
     "data": {
      "text/plain": [
       "0.9652406417112299"
      ]
     },
     "execution_count": 72,
     "metadata": {},
     "output_type": "execute_result"
    }
   ],
   "execution_count": 72
  },
  {
   "cell_type": "markdown",
   "id": "settled-brook",
   "metadata": {
    "papermill": {
     "duration": 0.044812,
     "end_time": "2022-05-29T09:02:48.538290",
     "exception": false,
     "start_time": "2022-05-29T09:02:48.493478",
     "status": "completed"
    },
    "tags": []
   },
   "source": [
    "**Here we got .96 score**"
   ]
  },
  {
   "cell_type": "markdown",
   "id": "closing-publisher",
   "metadata": {
    "papermill": {
     "duration": 0.044985,
     "end_time": "2022-05-29T09:02:48.628160",
     "exception": false,
     "start_time": "2022-05-29T09:02:48.583175",
     "status": "completed"
    },
    "tags": []
   },
   "source": [
    "**printing the confusion matrix**\n",
    "to compare actual and prediction"
   ]
  },
  {
   "cell_type": "code",
   "id": "twenty-hampshire",
   "metadata": {
    "execution": {
     "iopub.execute_input": "2022-05-29T09:02:48.722480Z",
     "iopub.status.busy": "2022-05-29T09:02:48.721889Z",
     "iopub.status.idle": "2022-05-29T09:02:48.726422Z",
     "shell.execute_reply": "2022-05-29T09:02:48.726839Z",
     "shell.execute_reply.started": "2021-06-05T17:34:39.522013Z"
    },
    "papermill": {
     "duration": 0.053859,
     "end_time": "2022-05-29T09:02:48.726984",
     "exception": false,
     "start_time": "2022-05-29T09:02:48.673125",
     "status": "completed"
    },
    "tags": [],
    "ExecuteTime": {
     "end_time": "2024-06-11T18:06:37.579650Z",
     "start_time": "2024-06-11T18:06:37.572458Z"
    }
   },
   "source": [
    "\n",
    "cf_matrix=metrics.confusion_matrix(y_test, y_pred_class)\n",
    "cf_matrix"
   ],
   "outputs": [
    {
     "data": {
      "text/plain": [
       "array([[171,   6],\n",
       "       [  7, 190]])"
      ]
     },
     "execution_count": 73,
     "metadata": {},
     "output_type": "execute_result"
    }
   ],
   "execution_count": 73
  },
  {
   "cell_type": "code",
   "id": "liable-jerusalem",
   "metadata": {
    "execution": {
     "iopub.execute_input": "2022-05-29T09:02:48.820211Z",
     "iopub.status.busy": "2022-05-29T09:02:48.819663Z",
     "iopub.status.idle": "2022-05-29T09:02:49.026920Z",
     "shell.execute_reply": "2022-05-29T09:02:49.027350Z",
     "shell.execute_reply.started": "2021-06-05T17:34:39.536675Z"
    },
    "papermill": {
     "duration": 0.255374,
     "end_time": "2022-05-29T09:02:49.027611",
     "exception": false,
     "start_time": "2022-05-29T09:02:48.772237",
     "status": "completed"
    },
    "tags": [],
    "ExecuteTime": {
     "end_time": "2024-06-11T18:06:41.307479Z",
     "start_time": "2024-06-11T18:06:41.213758Z"
    }
   },
   "source": [
    "import matplotlib.pyplot as plt\n",
    "#Ploting confusion matrix\n",
    "plt.figure(figsize=(8,5))\n",
    "sns.heatmap(cf_matrix, annot=True, fmt='d')"
   ],
   "outputs": [
    {
     "data": {
      "text/plain": [
       "<Axes: >"
      ]
     },
     "execution_count": 74,
     "metadata": {},
     "output_type": "execute_result"
    },
    {
     "data": {
      "text/plain": [
       "<Figure size 800x500 with 2 Axes>"
      ],
      "image/png": "[encoded data removed]"
     },
     "metadata": {},
     "output_type": "display_data"
    }
   ],
   "execution_count": 74
  },
  {
   "cell_type": "code",
   "id": "prompt-administrator",
   "metadata": {
    "execution": {
     "iopub.execute_input": "2022-05-29T09:02:49.126846Z",
     "iopub.status.busy": "2022-05-29T09:02:49.126299Z",
     "iopub.status.idle": "2022-05-29T09:02:49.132247Z",
     "shell.execute_reply": "2022-05-29T09:02:49.132732Z",
     "shell.execute_reply.started": "2021-06-05T17:34:39.766811Z"
    },
    "papermill": {
     "duration": 0.0558,
     "end_time": "2022-05-29T09:02:49.132893",
     "exception": false,
     "start_time": "2022-05-29T09:02:49.077093",
     "status": "completed"
    },
    "tags": [],
    "ExecuteTime": {
     "end_time": "2024-06-11T18:06:49.584742Z",
     "start_time": "2024-06-11T18:06:49.580021Z"
    }
   },
   "source": [
    "# print message text for the false positives (ham incorrectly classified as spam)\n",
    "\n",
    "X_test[(y_pred_class==1) & (y_test==0)]"
   ],
   "outputs": [
    {
     "data": {
      "text/plain": [
       "649             Surely result will offer:)\n",
       "742                         No b4 Thursday\n",
       "202                 Whens your radio show?\n",
       "425               St andre, virgil's cream\n",
       "650       I want to lick your pussy now...\n",
       "431    U WILL SWITCH YOUR FONE ON DAMMIT!!\n",
       "Name: v2, dtype: object"
      ]
     },
     "execution_count": 75,
     "metadata": {},
     "output_type": "execute_result"
    }
   ],
   "execution_count": 75
  },
  {
   "cell_type": "code",
   "id": "innovative-johns",
   "metadata": {
    "execution": {
     "iopub.execute_input": "2022-05-29T09:02:49.229353Z",
     "iopub.status.busy": "2022-05-29T09:02:49.228790Z",
     "iopub.status.idle": "2022-05-29T09:02:49.234807Z",
     "shell.execute_reply": "2022-05-29T09:02:49.235228Z",
     "shell.execute_reply.started": "2021-06-05T17:34:39.774791Z"
    },
    "papermill": {
     "duration": 0.055716,
     "end_time": "2022-05-29T09:02:49.235381",
     "exception": false,
     "start_time": "2022-05-29T09:02:49.179665",
     "status": "completed"
    },
    "tags": [],
    "ExecuteTime": {
     "end_time": "2024-06-11T18:07:04.146426Z",
     "start_time": "2024-06-11T18:07:04.141299Z"
    }
   },
   "source": [
    "# print message text for the false negatives (spam incorrectly classified as ham)\n",
    "X_test[(y_pred_class==0) & (y_test==1)]"
   ],
   "outputs": [
    {
     "data": {
      "text/plain": [
       "1193                                                                          Sorry I missed your call let's talk when you have the time. I'm on 07090201529\n",
       "1242                                                                                                                                           2/2 146tf150p\n",
       "1200                LIFE has never been this much fun and great until you came in. You made it truly special for me. I won't forget you! enjoy @ one gbp/sms\n",
       "748     FreeMsg Hey there darling it's been 3 week's now and no word back! I'd like some fun you up for it still? Tb ok! XxX std chgs to send, å£1.50 to rcv\n",
       "1151                 Do you ever notice that when you're driving, anyone going slower than you is an idiot and everyone driving faster than you is a maniac?\n",
       "855                                                   Do you realize that in about 40 years, we'll have thousands of old ladies running around with tattoos?\n",
       "952                                                                                  For sale - arsenal dartboard. Good condition but no doubles or trebles!\n",
       "Name: v2, dtype: object"
      ]
     },
     "execution_count": 76,
     "metadata": {},
     "output_type": "execute_result"
    }
   ],
   "execution_count": 76
  },
  {
   "cell_type": "code",
   "id": "stretch-tribute",
   "metadata": {
    "execution": {
     "iopub.execute_input": "2022-05-29T09:02:49.331914Z",
     "iopub.status.busy": "2022-05-29T09:02:49.331373Z",
     "iopub.status.idle": "2022-05-29T09:02:49.338040Z",
     "shell.execute_reply": "2022-05-29T09:02:49.338536Z",
     "shell.execute_reply.started": "2021-06-05T17:34:39.791517Z"
    },
    "papermill": {
     "duration": 0.056213,
     "end_time": "2022-05-29T09:02:49.338682",
     "exception": false,
     "start_time": "2022-05-29T09:02:49.282469",
     "status": "completed"
    },
    "tags": [],
    "ExecuteTime": {
     "end_time": "2024-06-11T18:07:06.792152Z",
     "start_time": "2024-06-11T18:07:06.784889Z"
    }
   },
   "source": [
    "# calculate AUC\n",
    "y_pred_prob = nb.predict_proba(X_test_dtm)[:, 1]\n",
    "metrics.roc_auc_score(y_test, y_pred_prob)"
   ],
   "outputs": [
    {
     "data": {
      "text/plain": [
       "0.9871375720554074"
      ]
     },
     "execution_count": 77,
     "metadata": {},
     "output_type": "execute_result"
    }
   ],
   "execution_count": 77
  },
  {
   "cell_type": "markdown",
   "id": "sunset-warrior",
   "metadata": {
    "papermill": {
     "duration": 0.048318,
     "end_time": "2022-05-29T09:02:49.434099",
     "exception": false,
     "start_time": "2022-05-29T09:02:49.385781",
     "status": "completed"
    },
    "tags": []
   },
   "source": [
    "# LogisticRegression"
   ]
  },
  {
   "cell_type": "code",
   "id": "elder-switch",
   "metadata": {
    "execution": {
     "iopub.execute_input": "2022-05-29T09:02:49.530821Z",
     "iopub.status.busy": "2022-05-29T09:02:49.530274Z",
     "iopub.status.idle": "2022-05-29T09:02:49.715803Z",
     "shell.execute_reply": "2022-05-29T09:02:49.715258Z",
     "shell.execute_reply.started": "2021-06-05T17:34:39.804997Z"
    },
    "papermill": {
     "duration": 0.234835,
     "end_time": "2022-05-29T09:02:49.715951",
     "exception": false,
     "start_time": "2022-05-29T09:02:49.481116",
     "status": "completed"
    },
    "tags": [],
    "ExecuteTime": {
     "end_time": "2024-06-11T18:07:12.195483Z",
     "start_time": "2024-06-11T18:07:10.336694Z"
    }
   },
   "source": [
    "# 1. import\n",
    "from sklearn.linear_model import LogisticRegression\n",
    "\n",
    "# 2. instantiate a logistic regression model\n",
    "logreg = LogisticRegression()"
   ],
   "outputs": [],
   "execution_count": 78
  },
  {
   "cell_type": "code",
   "id": "democratic-belgium",
   "metadata": {
    "execution": {
     "iopub.execute_input": "2022-05-29T09:02:49.814114Z",
     "iopub.status.busy": "2022-05-29T09:02:49.813224Z",
     "iopub.status.idle": "2022-05-29T09:02:49.857874Z",
     "shell.execute_reply": "2022-05-29T09:02:49.857308Z",
     "shell.execute_reply.started": "2021-06-05T17:34:39.911433Z"
    },
    "papermill": {
     "duration": 0.095237,
     "end_time": "2022-05-29T09:02:49.858001",
     "exception": false,
     "start_time": "2022-05-29T09:02:49.762764",
     "status": "completed"
    },
    "tags": [],
    "ExecuteTime": {
     "end_time": "2024-06-11T18:07:14.944762Z",
     "start_time": "2024-06-11T18:07:14.901520Z"
    }
   },
   "source": [
    "# 3. train the model using X_train_dtm\n",
    "logreg.fit(X_train_dtm, y_train)"
   ],
   "outputs": [
    {
     "data": {
      "text/plain": [
       "LogisticRegression()"
      ],
      "text/html": [
       "<style>#sk-container-id-6 {\n",
       "  /* Definition of color scheme common for light and dark mode */\n",
       "  --sklearn-color-text: black;\n",
       "  --sklearn-color-line: gray;\n",
       "  /* Definition of color scheme for unfitted estimators */\n",
       "  --sklearn-color-unfitted-level-0: #fff5e6;\n",
       "  --sklearn-color-unfitted-level-1: #f6e4d2;\n",
       "  --sklearn-color-unfitted-level-2: #ffe0b3;\n",
       "  --sklearn-color-unfitted-level-3: chocolate;\n",
       "  /* Definition of color scheme for fitted estimators */\n",
       "  --sklearn-color-fitted-level-0: #f0f8ff;\n",
       "  --sklearn-color-fitted-level-1: #d4ebff;\n",
       "  --sklearn-color-fitted-level-2: #b3dbfd;\n",
       "  --sklearn-color-fitted-level-3: cornflowerblue;\n",
       "\n",
       "  /* Specific color for light theme */\n",
       "  --sklearn-color-text-on-default-background: var(--sg-text-color, var(--theme-code-foreground, var(--jp-content-font-color1, black)));\n",
       "  --sklearn-color-background: var(--sg-background-color, var(--theme-background, var(--jp-layout-color0, white)));\n",
       "  --sklearn-color-border-box: var(--sg-text-color, var(--theme-code-foreground, var(--jp-content-font-color1, black)));\n",
       "  --sklearn-color-icon: #696969;\n",
       "\n",
       "  @media (prefers-color-scheme: dark) {\n",
       "    /* Redefinition of color scheme for dark theme */\n",
       "    --sklearn-color-text-on-default-background: var(--sg-text-color, var(--theme-code-foreground, var(--jp-content-font-color1, white)));\n",
       "    --sklearn-color-background: var(--sg-background-color, var(--theme-background, var(--jp-layout-color0, #111)));\n",
       "    --sklearn-color-border-box: var(--sg-text-color, var(--theme-code-foreground, var(--jp-content-font-color1, white)));\n",
       "    --sklearn-color-icon: #878787;\n",
       "  }\n",
       "}\n",
       "\n",
       "#sk-container-id-6 {\n",
       "  color: var(--sklearn-color-text);\n",
       "}\n",
       "\n",
       "#sk-container-id-6 pre {\n",
       "  padding: 0;\n",
       "}\n",
       "\n",
       "#sk-container-id-6 input.sk-hidden--visually {\n",
       "  border: 0;\n",
       "  clip: rect(1px 1px 1px 1px);\n",
       "  clip: rect(1px, 1px, 1px, 1px);\n",
       "  height: 1px;\n",
       "  margin: -1px;\n",
       "  overflow: hidden;\n",
       "  padding: 0;\n",
       "  position: absolute;\n",
       "  width: 1px;\n",
       "}\n",
       "\n",
       "#sk-container-id-6 div.sk-dashed-wrapped {\n",
       "  border: 1px dashed var(--sklearn-color-line);\n",
       "  margin: 0 0.4em 0.5em 0.4em;\n",
       "  box-sizing: border-box;\n",
       "  padding-bottom: 0.4em;\n",
       "  background-color: var(--sklearn-color-background);\n",
       "}\n",
       "\n",
       "#sk-container-id-6 div.sk-container {\n",
       "  /* jupyter's `normalize.less` sets `[hidden] { display: none; }`\n",
       "     but bootstrap.min.css set `[hidden] { display: none !important; }`\n",
       "     so we also need the `!important` here to be able to override the\n",
       "     default hidden behavior on the sphinx rendered scikit-learn.org.\n",
       "     See: https://github.com/scikit-learn/scikit-learn/issues/21755 */\n",
       "  display: inline-block !important;\n",
       "  position: relative;\n",
       "}\n",
       "\n",
       "#sk-container-id-6 div.sk-text-repr-fallback {\n",
       "  display: none;\n",
       "}\n",
       "\n",
       "div.sk-parallel-item,\n",
       "div.sk-serial,\n",
       "div.sk-item {\n",
       "  /* draw centered vertical line to link estimators */\n",
       "  background-image: linear-gradient(var(--sklearn-color-text-on-default-background), var(--sklearn-color-text-on-default-background));\n",
       "  background-size: 2px 100%;\n",
       "  background-repeat: no-repeat;\n",
       "  background-position: center center;\n",
       "}\n",
       "\n",
       "/* Parallel-specific style estimator block */\n",
       "\n",
       "#sk-container-id-6 div.sk-parallel-item::after {\n",
       "  content: \"\";\n",
       "  width: 100%;\n",
       "  border-bottom: 2px solid var(--sklearn-color-text-on-default-background);\n",
       "  flex-grow: 1;\n",
       "}\n",
       "\n",
       "#sk-container-id-6 div.sk-parallel {\n",
       "  display: flex;\n",
       "  align-items: stretch;\n",
       "  justify-content: center;\n",
       "  background-color: var(--sklearn-color-background);\n",
       "  position: relative;\n",
       "}\n",
       "\n",
       "#sk-container-id-6 div.sk-parallel-item {\n",
       "  display: flex;\n",
       "  flex-direction: column;\n",
       "}\n",
       "\n",
       "#sk-container-id-6 div.sk-parallel-item:first-child::after {\n",
       "  align-self: flex-end;\n",
       "  width: 50%;\n",
       "}\n",
       "\n",
       "#sk-container-id-6 div.sk-parallel-item:last-child::after {\n",
       "  align-self: flex-start;\n",
       "  width: 50%;\n",
       "}\n",
       "\n",
       "#sk-container-id-6 div.sk-parallel-item:only-child::after {\n",
       "  width: 0;\n",
       "}\n",
       "\n",
       "/* Serial-specific style estimator block */\n",
       "\n",
       "#sk-container-id-6 div.sk-serial {\n",
       "  display: flex;\n",
       "  flex-direction: column;\n",
       "  align-items: center;\n",
       "  background-color: var(--sklearn-color-background);\n",
       "  padding-right: 1em;\n",
       "  padding-left: 1em;\n",
       "}\n",
       "\n",
       "\n",
       "/* Toggleable style: style used for estimator/Pipeline/ColumnTransformer box that is\n",
       "clickable and can be expanded/collapsed.\n",
       "- Pipeline and ColumnTransformer use this feature and define the default style\n",
       "- Estimators will overwrite some part of the style using the `sk-estimator` class\n",
       "*/\n",
       "\n",
       "/* Pipeline and ColumnTransformer style (default) */\n",
       "\n",
       "#sk-container-id-6 div.sk-toggleable {\n",
       "  /* Default theme specific background. It is overwritten whether we have a\n",
       "  specific estimator or a Pipeline/ColumnTransformer */\n",
       "  background-color: var(--sklearn-color-background);\n",
       "}\n",
       "\n",
       "/* Toggleable label */\n",
       "#sk-container-id-6 label.sk-toggleable__label {\n",
       "  cursor: pointer;\n",
       "  display: block;\n",
       "  width: 100%;\n",
       "  margin-bottom: 0;\n",
       "  padding: 0.5em;\n",
       "  box-sizing: border-box;\n",
       "  text-align: center;\n",
       "}\n",
       "\n",
       "#sk-container-id-6 label.sk-toggleable__label-arrow:before {\n",
       "  /* Arrow on the left of the label */\n",
       "  content: \"▸\";\n",
       "  float: left;\n",
       "  margin-right: 0.25em;\n",
       "  color: var(--sklearn-color-icon);\n",
       "}\n",
       "\n",
       "#sk-container-id-6 label.sk-toggleable__label-arrow:hover:before {\n",
       "  color: var(--sklearn-color-text);\n",
       "}\n",
       "\n",
       "/* Toggleable content - dropdown */\n",
       "\n",
       "#sk-container-id-6 div.sk-toggleable__content {\n",
       "  max-height: 0;\n",
       "  max-width: 0;\n",
       "  overflow: hidden;\n",
       "  text-align: left;\n",
       "  /* unfitted */\n",
       "  background-color: var(--sklearn-color-unfitted-level-0);\n",
       "}\n",
       "\n",
       "#sk-container-id-6 div.sk-toggleable__content.fitted {\n",
       "  /* fitted */\n",
       "  background-color: var(--sklearn-color-fitted-level-0);\n",
       "}\n",
       "\n",
       "#sk-container-id-6 div.sk-toggleable__content pre {\n",
       "  margin: 0.2em;\n",
       "  border-radius: 0.25em;\n",
       "  color: var(--sklearn-color-text);\n",
       "  /* unfitted */\n",
       "  background-color: var(--sklearn-color-unfitted-level-0);\n",
       "}\n",
       "\n",
       "#sk-container-id-6 div.sk-toggleable__content.fitted pre {\n",
       "  /* unfitted */\n",
       "  background-color: var(--sklearn-color-fitted-level-0);\n",
       "}\n",
       "\n",
       "#sk-container-id-6 input.sk-toggleable__control:checked~div.sk-toggleable__content {\n",
       "  /* Expand drop-down */\n",
       "  max-height: 200px;\n",
       "  max-width: 100%;\n",
       "  overflow: auto;\n",
       "}\n",
       "\n",
       "#sk-container-id-6 input.sk-toggleable__control:checked~label.sk-toggleable__label-arrow:before {\n",
       "  content: \"▾\";\n",
       "}\n",
       "\n",
       "/* Pipeline/ColumnTransformer-specific style */\n",
       "\n",
       "#sk-container-id-6 div.sk-label input.sk-toggleable__control:checked~label.sk-toggleable__label {\n",
       "  color: var(--sklearn-color-text);\n",
       "  background-color: var(--sklearn-color-unfitted-level-2);\n",
       "}\n",
       "\n",
       "#sk-container-id-6 div.sk-label.fitted input.sk-toggleable__control:checked~label.sk-toggleable__label {\n",
       "  background-color: var(--sklearn-color-fitted-level-2);\n",
       "}\n",
       "\n",
       "/* Estimator-specific style */\n",
       "\n",
       "/* Colorize estimator box */\n",
       "#sk-container-id-6 div.sk-estimator input.sk-toggleable__control:checked~label.sk-toggleable__label {\n",
       "  /* unfitted */\n",
       "  background-color: var(--sklearn-color-unfitted-level-2);\n",
       "}\n",
       "\n",
       "#sk-container-id-6 div.sk-estimator.fitted input.sk-toggleable__control:checked~label.sk-toggleable__label {\n",
       "  /* fitted */\n",
       "  background-color: var(--sklearn-color-fitted-level-2);\n",
       "}\n",
       "\n",
       "#sk-container-id-6 div.sk-label label.sk-toggleable__label,\n",
       "#sk-container-id-6 div.sk-label label {\n",
       "  /* The background is the default theme color */\n",
       "  color: var(--sklearn-color-text-on-default-background);\n",
       "}\n",
       "\n",
       "/* On hover, darken the color of the background */\n",
       "#sk-container-id-6 div.sk-label:hover label.sk-toggleable__label {\n",
       "  color: var(--sklearn-color-text);\n",
       "  background-color: var(--sklearn-color-unfitted-level-2);\n",
       "}\n",
       "\n",
       "/* Label box, darken color on hover, fitted */\n",
       "#sk-container-id-6 div.sk-label.fitted:hover label.sk-toggleable__label.fitted {\n",
       "  color: var(--sklearn-color-text);\n",
       "  background-color: var(--sklearn-color-fitted-level-2);\n",
       "}\n",
       "\n",
       "/* Estimator label */\n",
       "\n",
       "#sk-container-id-6 div.sk-label label {\n",
       "  font-family: monospace;\n",
       "  font-weight: bold;\n",
       "  display: inline-block;\n",
       "  line-height: 1.2em;\n",
       "}\n",
       "\n",
       "#sk-container-id-6 div.sk-label-container {\n",
       "  text-align: center;\n",
       "}\n",
       "\n",
       "/* Estimator-specific */\n",
       "#sk-container-id-6 div.sk-estimator {\n",
       "  font-family: monospace;\n",
       "  border: 1px dotted var(--sklearn-color-border-box);\n",
       "  border-radius: 0.25em;\n",
       "  box-sizing: border-box;\n",
       "  margin-bottom: 0.5em;\n",
       "  /* unfitted */\n",
       "  background-color: var(--sklearn-color-unfitted-level-0);\n",
       "}\n",
       "\n",
       "#sk-container-id-6 div.sk-estimator.fitted {\n",
       "  /* fitted */\n",
       "  background-color: var(--sklearn-color-fitted-level-0);\n",
       "}\n",
       "\n",
       "/* on hover */\n",
       "#sk-container-id-6 div.sk-estimator:hover {\n",
       "  /* unfitted */\n",
       "  background-color: var(--sklearn-color-unfitted-level-2);\n",
       "}\n",
       "\n",
       "#sk-container-id-6 div.sk-estimator.fitted:hover {\n",
       "  /* fitted */\n",
       "  background-color: var(--sklearn-color-fitted-level-2);\n",
       "}\n",
       "\n",
       "/* Specification for estimator info (e.g. \"i\" and \"?\") */\n",
       "\n",
       "/* Common style for \"i\" and \"?\" */\n",
       "\n",
       ".sk-estimator-doc-link,\n",
       "a:link.sk-estimator-doc-link,\n",
       "a:visited.sk-estimator-doc-link {\n",
       "  float: right;\n",
       "  font-size: smaller;\n",
       "  line-height: 1em;\n",
       "  font-family: monospace;\n",
       "  background-color: var(--sklearn-color-background);\n",
       "  border-radius: 1em;\n",
       "  height: 1em;\n",
       "  width: 1em;\n",
       "  text-decoration: none !important;\n",
       "  margin-left: 1ex;\n",
       "  /* unfitted */\n",
       "  border: var(--sklearn-color-unfitted-level-1) 1pt solid;\n",
       "  color: var(--sklearn-color-unfitted-level-1);\n",
       "}\n",
       "\n",
       ".sk-estimator-doc-link.fitted,\n",
       "a:link.sk-estimator-doc-link.fitted,\n",
       "a:visited.sk-estimator-doc-link.fitted {\n",
       "  /* fitted */\n",
       "  border: var(--sklearn-color-fitted-level-1) 1pt solid;\n",
       "  color: var(--sklearn-color-fitted-level-1);\n",
       "}\n",
       "\n",
       "/* On hover */\n",
       "div.sk-estimator:hover .sk-estimator-doc-link:hover,\n",
       ".sk-estimator-doc-link:hover,\n",
       "div.sk-label-container:hover .sk-estimator-doc-link:hover,\n",
       ".sk-estimator-doc-link:hover {\n",
       "  /* unfitted */\n",
       "  background-color: var(--sklearn-color-unfitted-level-3);\n",
       "  color: var(--sklearn-color-background);\n",
       "  text-decoration: none;\n",
       "}\n",
       "\n",
       "div.sk-estimator.fitted:hover .sk-estimator-doc-link.fitted:hover,\n",
       ".sk-estimator-doc-link.fitted:hover,\n",
       "div.sk-label-container:hover .sk-estimator-doc-link.fitted:hover,\n",
       ".sk-estimator-doc-link.fitted:hover {\n",
       "  /* fitted */\n",
       "  background-color: var(--sklearn-color-fitted-level-3);\n",
       "  color: var(--sklearn-color-background);\n",
       "  text-decoration: none;\n",
       "}\n",
       "\n",
       "/* Span, style for the box shown on hovering the info icon */\n",
       ".sk-estimator-doc-link span {\n",
       "  display: none;\n",
       "  z-index: 9999;\n",
       "  position: relative;\n",
       "  font-weight: normal;\n",
       "  right: .2ex;\n",
       "  padding: .5ex;\n",
       "  margin: .5ex;\n",
       "  width: min-content;\n",
       "  min-width: 20ex;\n",
       "  max-width: 50ex;\n",
       "  color: var(--sklearn-color-text);\n",
       "  box-shadow: 2pt 2pt 4pt #999;\n",
       "  /* unfitted */\n",
       "  background: var(--sklearn-color-unfitted-level-0);\n",
       "  border: .5pt solid var(--sklearn-color-unfitted-level-3);\n",
       "}\n",
       "\n",
       ".sk-estimator-doc-link.fitted span {\n",
       "  /* fitted */\n",
       "  background: var(--sklearn-color-fitted-level-0);\n",
       "  border: var(--sklearn-color-fitted-level-3);\n",
       "}\n",
       "\n",
       ".sk-estimator-doc-link:hover span {\n",
       "  display: block;\n",
       "}\n",
       "\n",
       "/* \"?\"-specific style due to the `<a>` HTML tag */\n",
       "\n",
       "#sk-container-id-6 a.estimator_doc_link {\n",
       "  float: right;\n",
       "  font-size: 1rem;\n",
       "  line-height: 1em;\n",
       "  font-family: monospace;\n",
       "  background-color: var(--sklearn-color-background);\n",
       "  border-radius: 1rem;\n",
       "  height: 1rem;\n",
       "  width: 1rem;\n",
       "  text-decoration: none;\n",
       "  /* unfitted */\n",
       "  color: var(--sklearn-color-unfitted-level-1);\n",
       "  border: var(--sklearn-color-unfitted-level-1) 1pt solid;\n",
       "}\n",
       "\n",
       "#sk-container-id-6 a.estimator_doc_link.fitted {\n",
       "  /* fitted */\n",
       "  border: var(--sklearn-color-fitted-level-1) 1pt solid;\n",
       "  color: var(--sklearn-color-fitted-level-1);\n",
       "}\n",
       "\n",
       "/* On hover */\n",
       "#sk-container-id-6 a.estimator_doc_link:hover {\n",
       "  /* unfitted */\n",
       "  background-color: var(--sklearn-color-unfitted-level-3);\n",
       "  color: var(--sklearn-color-background);\n",
       "  text-decoration: none;\n",
       "}\n",
       "\n",
       "#sk-container-id-6 a.estimator_doc_link.fitted:hover {\n",
       "  /* fitted */\n",
       "  background-color: var(--sklearn-color-fitted-level-3);\n",
       "}\n",
       "</style><div id=\"sk-container-id-6\" class=\"sk-top-container\"><div class=\"sk-text-repr-fallback\"><pre>LogisticRegression()</pre><b>In a Jupyter environment, please rerun this cell to show the HTML representation or trust the notebook. <br />On GitHub, the HTML representation is unable to render, please try loading this page with nbviewer.org.</b></div><div class=\"sk-container\" hidden><div class=\"sk-item\"><div class=\"sk-estimator fitted sk-toggleable\"><input class=\"sk-toggleable__control sk-hidden--visually\" id=\"sk-estimator-id-6\" type=\"checkbox\" checked><label for=\"sk-estimator-id-6\" class=\"sk-toggleable__label fitted sk-toggleable__label-arrow fitted\">&nbsp;&nbsp;LogisticRegression<a class=\"sk-estimator-doc-link fitted\" rel=\"noreferrer\" target=\"_blank\" href=\"https://scikit-learn.org/1.5/modules/generated/sklearn.linear_model.LogisticRegression.html\">?<span>Documentation for LogisticRegression</span></a><span class=\"sk-estimator-doc-link fitted\">i<span>Fitted</span></span></label><div class=\"sk-toggleable__content fitted\"><pre>LogisticRegression()</pre></div> </div></div></div></div>"
      ]
     },
     "execution_count": 79,
     "metadata": {},
     "output_type": "execute_result"
    }
   ],
   "execution_count": 79
  },
  {
   "cell_type": "code",
   "id": "golden-blend",
   "metadata": {
    "execution": {
     "iopub.execute_input": "2022-05-29T09:02:49.955205Z",
     "iopub.status.busy": "2022-05-29T09:02:49.954660Z",
     "iopub.status.idle": "2022-05-29T09:02:49.958051Z",
     "shell.execute_reply": "2022-05-29T09:02:49.958494Z",
     "shell.execute_reply.started": "2021-06-05T17:34:39.964122Z"
    },
    "papermill": {
     "duration": 0.053433,
     "end_time": "2022-05-29T09:02:49.958655",
     "exception": false,
     "start_time": "2022-05-29T09:02:49.905222",
     "status": "completed"
    },
    "tags": [],
    "ExecuteTime": {
     "end_time": "2024-06-11T18:07:17.212085Z",
     "start_time": "2024-06-11T18:07:17.209853Z"
    }
   },
   "source": [
    "# 4. make class predictions for X_test_dtm\n",
    "y_pred_class = logreg.predict(X_test_dtm)"
   ],
   "outputs": [],
   "execution_count": 80
  },
  {
   "cell_type": "code",
   "id": "architectural-output",
   "metadata": {
    "execution": {
     "iopub.execute_input": "2022-05-29T09:02:50.056349Z",
     "iopub.status.busy": "2022-05-29T09:02:50.055810Z",
     "iopub.status.idle": "2022-05-29T09:02:50.064516Z",
     "shell.execute_reply": "2022-05-29T09:02:50.064964Z",
     "shell.execute_reply.started": "2021-06-05T17:34:39.971139Z"
    },
    "papermill": {
     "duration": 0.0594,
     "end_time": "2022-05-29T09:02:50.065111",
     "exception": false,
     "start_time": "2022-05-29T09:02:50.005711",
     "status": "completed"
    },
    "tags": [],
    "ExecuteTime": {
     "end_time": "2024-06-11T18:07:22.857662Z",
     "start_time": "2024-06-11T18:07:22.851293Z"
    }
   },
   "source": [
    "# calculate predicted probabilities for X_test_dtm (well calibrated)\n",
    "y_pred_prob = logreg.predict_proba(X_test_dtm)[:, 1]\n",
    "y_pred_prob"
   ],
   "outputs": [
    {
     "data": {
      "text/plain": [
       "array([1.71498067e-02, 3.27731530e-02, 9.95787688e-01, 9.96714220e-01,\n",
       "       9.98346728e-01, 9.94801697e-01, 9.99139356e-01, 9.27852187e-01,\n",
       "       9.99993603e-01, 9.99890966e-01, 9.99029646e-01, 2.27971662e-02,\n",
       "       6.71347465e-02, 1.13813222e-02, 9.99894858e-01, 9.99874113e-01,\n",
       "       9.99750336e-01, 9.84296901e-01, 9.65489651e-01, 9.48346637e-01,\n",
       "       2.49487248e-01, 9.99895156e-01, 2.82327285e-02, 9.98442057e-01,\n",
       "       2.03104767e-02, 9.81915038e-01, 9.90753762e-01, 9.86992262e-01,\n",
       "       9.98050837e-01, 9.93226561e-01, 2.64013711e-02, 9.99826418e-01,\n",
       "       8.28532734e-01, 9.95896863e-01, 9.85837029e-01, 8.23998335e-02,\n",
       "       3.38150939e-01, 9.96108931e-01, 2.08929770e-02, 4.10024142e-02,\n",
       "       2.06080385e-02, 9.99967281e-01, 2.64053086e-01, 9.98208134e-01,\n",
       "       9.30637437e-01, 5.42038086e-01, 8.98038784e-01, 9.92380863e-01,\n",
       "       9.99369800e-01, 1.33044111e-02, 1.61799705e-02, 7.25619974e-03,\n",
       "       8.79223117e-01, 4.30804111e-02, 6.21938090e-01, 3.96666940e-03,\n",
       "       3.30682978e-02, 6.64160844e-01, 9.98208134e-01, 4.55149891e-02,\n",
       "       1.67369849e-02, 2.75026717e-02, 9.90289444e-01, 7.15233321e-02,\n",
       "       4.00117353e-03, 9.91648432e-01, 7.21727620e-01, 9.95590688e-01,\n",
       "       5.77886891e-02, 5.71779128e-01, 9.24794783e-01, 9.91383657e-01,\n",
       "       3.83979989e-02, 3.74718433e-02, 9.86838742e-01, 4.35712226e-01,\n",
       "       5.69893851e-01, 1.58082144e-02, 8.36400574e-01, 5.12156418e-01,\n",
       "       4.93046218e-01, 9.82843970e-01, 2.21228361e-02, 2.81347066e-02,\n",
       "       1.17834188e-01, 8.95847942e-01, 9.93896987e-01, 7.41507118e-01,\n",
       "       2.57942074e-02, 1.76540680e-02, 7.88316159e-02, 9.99484413e-01,\n",
       "       2.30884376e-02, 9.94600665e-01, 1.87163690e-02, 9.54500057e-02,\n",
       "       9.97749883e-01, 3.07201999e-03, 8.74586838e-01, 9.99441645e-01,\n",
       "       9.08017057e-01, 9.81998077e-01, 5.95579922e-02, 4.30628257e-02,\n",
       "       2.89241191e-02, 3.64747671e-02, 8.91283752e-01, 9.59125878e-02,\n",
       "       9.86303335e-01, 1.13637164e-03, 1.16845520e-01, 1.92319156e-02,\n",
       "       9.57553323e-02, 9.62745600e-01, 9.70566138e-01, 2.36399866e-01,\n",
       "       5.27377455e-02, 5.26301651e-01, 1.32220930e-03, 1.01304941e-01,\n",
       "       9.87711591e-01, 1.65193586e-02, 9.99997602e-01, 7.66145832e-03,\n",
       "       4.67046009e-02, 9.98585356e-01, 1.26531249e-01, 9.99943454e-01,\n",
       "       9.98612992e-01, 9.99788989e-01, 9.71900139e-01, 3.46353147e-02,\n",
       "       1.24262542e-01, 4.45504973e-02, 9.91955579e-01, 6.57340673e-04,\n",
       "       3.00081656e-02, 2.24294623e-02, 9.97462881e-01, 8.23511058e-03,\n",
       "       9.86996860e-01, 6.20201610e-01, 2.30395822e-02, 9.89815635e-01,\n",
       "       2.50372435e-02, 4.25737602e-02, 9.98084572e-01, 2.57526838e-02,\n",
       "       9.98752792e-01, 8.52860290e-03, 9.51757945e-01, 9.99641141e-01,\n",
       "       1.43122061e-02, 8.44922501e-01, 3.99507301e-02, 8.16128610e-02,\n",
       "       8.98884088e-02, 5.28752974e-03, 9.65462969e-01, 6.07422887e-01,\n",
       "       2.47638331e-03, 8.59496901e-01, 9.90003725e-01, 5.33571136e-02,\n",
       "       9.95279340e-01, 1.30517608e-02, 9.99310192e-01, 1.89330110e-02,\n",
       "       9.98218805e-01, 9.68859176e-01, 9.86329409e-01, 2.08521001e-01,\n",
       "       1.49253786e-03, 9.60726769e-01, 9.61035428e-01, 3.43069183e-02,\n",
       "       9.88976179e-01, 1.62770203e-03, 3.15103794e-02, 1.31674835e-02,\n",
       "       9.98050837e-01, 9.99837672e-01, 1.62321891e-02, 9.86839741e-01,\n",
       "       9.99804222e-01, 1.42398520e-01, 9.98894657e-01, 9.99046980e-01,\n",
       "       9.89427512e-01, 1.64801382e-02, 1.99479717e-01, 9.99035550e-03,\n",
       "       9.98588591e-01, 8.35034715e-02, 9.96749085e-01, 9.84655377e-01,\n",
       "       9.96994075e-01, 9.99764228e-01, 9.96363288e-01, 9.66948158e-01,\n",
       "       2.95688639e-02, 6.13244085e-02, 9.99029646e-01, 9.39182477e-01,\n",
       "       9.69578220e-03, 8.98038784e-01, 9.60216585e-01, 9.99750336e-01,\n",
       "       2.55991724e-02, 8.13578552e-01, 3.34428306e-03, 9.98844888e-01,\n",
       "       2.62714330e-02, 9.78719781e-01, 6.39914443e-02, 6.70930333e-02,\n",
       "       9.84183914e-01, 4.83249385e-02, 3.92757171e-02, 8.95134191e-03,\n",
       "       1.08022227e-02, 3.32553326e-02, 2.63405373e-02, 9.98044603e-01,\n",
       "       9.80819092e-01, 9.90572346e-01, 9.99916121e-01, 7.51972669e-03,\n",
       "       1.46305953e-02, 9.95787688e-01, 9.77396402e-01, 5.33100443e-02,\n",
       "       3.62868485e-03, 1.67607582e-01, 9.05974259e-01, 4.34897471e-02,\n",
       "       2.44479015e-01, 3.74365812e-01, 9.67677221e-01, 9.81386678e-01,\n",
       "       9.98441162e-01, 1.86619375e-02, 1.34623185e-02, 6.41882943e-02,\n",
       "       7.62811403e-02, 9.85969588e-01, 5.25275682e-02, 2.58290173e-01,\n",
       "       4.35768294e-02, 1.20547187e-01, 7.46078094e-02, 1.89867827e-02,\n",
       "       1.17341561e-02, 9.94743795e-01, 8.46451722e-03, 3.45472140e-02,\n",
       "       9.59630117e-01, 9.61122127e-01, 1.24390972e-01, 4.30628257e-02,\n",
       "       7.61687684e-01, 5.05195202e-02, 1.20102248e-02, 1.98180165e-02,\n",
       "       9.97968328e-01, 1.62009177e-02, 9.63794319e-01, 6.54438199e-02,\n",
       "       1.91518877e-01, 2.28118522e-03, 5.48415733e-02, 9.23089478e-01,\n",
       "       7.24283577e-01, 6.40393063e-03, 7.44843238e-02, 8.18236634e-02,\n",
       "       9.86180025e-01, 4.96043933e-01, 9.84206458e-01, 7.31362144e-03,\n",
       "       9.95893472e-01, 1.50373168e-02, 2.88825668e-01, 2.62913613e-02,\n",
       "       4.40786631e-03, 9.98438725e-01, 1.21342955e-02, 9.99915313e-01,\n",
       "       3.55799533e-02, 9.96487245e-01, 9.99136878e-01, 4.15841104e-02,\n",
       "       9.95987109e-01, 9.99467149e-01, 3.46495561e-01, 9.89383433e-01,\n",
       "       3.47981312e-03, 5.67943489e-02, 5.53135674e-03, 2.15720213e-02,\n",
       "       4.71107758e-02, 2.88374714e-02, 4.11351318e-02, 9.72951441e-01,\n",
       "       9.95590688e-01, 1.67460709e-02, 8.07911407e-01, 4.59955263e-02,\n",
       "       9.99915313e-01, 9.99839568e-01, 1.10873659e-01, 9.99154317e-01,\n",
       "       8.53843167e-01, 9.99795163e-01, 3.16069067e-02, 1.39641677e-02,\n",
       "       7.32222351e-03, 9.98218393e-01, 1.10586256e-01, 9.94875367e-01,\n",
       "       8.14806592e-02, 7.00100882e-01, 9.16537748e-01, 1.22494484e-02,\n",
       "       9.96302821e-01, 2.01951065e-01, 9.95279340e-01, 9.96507938e-01,\n",
       "       9.74564411e-01, 2.27971662e-02, 9.98068975e-01, 8.87774842e-01,\n",
       "       9.85057269e-01, 9.43481715e-01, 2.68381750e-02, 9.95647131e-01,\n",
       "       7.89072174e-01, 4.30804111e-02, 4.57034536e-02, 9.94733378e-01,\n",
       "       3.11301169e-02, 1.57401060e-02, 9.99422012e-01, 4.50827295e-02,\n",
       "       9.99674474e-01, 9.85969588e-01, 2.87732788e-02, 9.97125897e-01,\n",
       "       4.71613358e-02, 9.89440751e-01, 6.33122964e-03, 9.63897749e-01,\n",
       "       3.24011654e-02, 1.57915735e-01, 9.78736034e-01, 3.42961482e-02,\n",
       "       9.95836441e-01, 1.49329416e-03, 6.28158036e-02, 9.61756543e-01,\n",
       "       1.03675244e-01, 9.71565390e-01, 9.83693661e-01, 6.23263156e-01,\n",
       "       3.37702726e-02, 4.79998077e-03, 1.66544890e-01, 8.65797787e-01,\n",
       "       9.96714220e-01, 2.35632378e-02, 5.83227288e-02, 9.88361776e-01,\n",
       "       4.05430388e-02, 9.58463007e-01])"
      ]
     },
     "execution_count": 81,
     "metadata": {},
     "output_type": "execute_result"
    }
   ],
   "execution_count": 81
  },
  {
   "cell_type": "code",
   "id": "bright-anthony",
   "metadata": {
    "execution": {
     "iopub.execute_input": "2022-05-29T09:02:50.164957Z",
     "iopub.status.busy": "2022-05-29T09:02:50.164366Z",
     "iopub.status.idle": "2022-05-29T09:02:50.167552Z",
     "shell.execute_reply": "2022-05-29T09:02:50.167964Z",
     "shell.execute_reply.started": "2021-06-05T17:34:39.990528Z"
    },
    "papermill": {
     "duration": 0.05576,
     "end_time": "2022-05-29T09:02:50.168111",
     "exception": false,
     "start_time": "2022-05-29T09:02:50.112351",
     "status": "completed"
    },
    "tags": [],
    "ExecuteTime": {
     "end_time": "2024-06-11T18:07:25.181587Z",
     "start_time": "2024-06-11T18:07:25.177438Z"
    }
   },
   "source": [
    "# calculate accuracy\n",
    "metrics.accuracy_score(y_test, y_pred_class)"
   ],
   "outputs": [
    {
     "data": {
      "text/plain": [
       "0.9572192513368984"
      ]
     },
     "execution_count": 82,
     "metadata": {},
     "output_type": "execute_result"
    }
   ],
   "execution_count": 82
  },
  {
   "cell_type": "code",
   "id": "classified-syntax",
   "metadata": {
    "execution": {
     "iopub.execute_input": "2022-05-29T09:02:50.266007Z",
     "iopub.status.busy": "2022-05-29T09:02:50.265463Z",
     "iopub.status.idle": "2022-05-29T09:02:50.271238Z",
     "shell.execute_reply": "2022-05-29T09:02:50.271691Z",
     "shell.execute_reply.started": "2021-06-05T17:34:40.005008Z"
    },
    "papermill": {
     "duration": 0.056188,
     "end_time": "2022-05-29T09:02:50.271839",
     "exception": false,
     "start_time": "2022-05-29T09:02:50.215651",
     "status": "completed"
    },
    "tags": [],
    "ExecuteTime": {
     "end_time": "2024-06-11T18:07:27.382415Z",
     "start_time": "2024-06-11T18:07:27.376937Z"
    }
   },
   "source": [
    "# calculate AUC\n",
    "metrics.roc_auc_score(y_test, y_pred_prob)"
   ],
   "outputs": [
    {
     "data": {
      "text/plain": [
       "0.987223608362729"
      ]
     },
     "execution_count": 83,
     "metadata": {},
     "output_type": "execute_result"
    }
   ],
   "execution_count": 83
  },
  {
   "cell_type": "code",
   "id": "sustained-dylan",
   "metadata": {
    "execution": {
     "iopub.execute_input": "2022-05-29T09:02:50.375984Z",
     "iopub.status.busy": "2022-05-29T09:02:50.375426Z",
     "iopub.status.idle": "2022-05-29T09:02:50.400529Z",
     "shell.execute_reply": "2022-05-29T09:02:50.401050Z",
     "shell.execute_reply.started": "2021-06-05T17:34:40.019313Z"
    },
    "papermill": {
     "duration": 0.081387,
     "end_time": "2022-05-29T09:02:50.401203",
     "exception": false,
     "start_time": "2022-05-29T09:02:50.319816",
     "status": "completed"
    },
    "tags": [],
    "ExecuteTime": {
     "end_time": "2024-06-11T18:07:29.552707Z",
     "start_time": "2024-06-11T18:07:29.534305Z"
    }
   },
   "source": [
    "# remove English stop words\n",
    "vect1 = CountVectorizer(stop_words='english')\n",
    "\n",
    "X_train_1 = vect1.fit_transform(X_train)\n",
    "\n",
    "X_train_1\n"
   ],
   "outputs": [
    {
     "data": {
      "text/plain": [
       "<1120x3774 sparse matrix of type '<class 'numpy.int64'>'\n",
       "\twith 12250 stored elements in Compressed Sparse Row format>"
      ]
     },
     "execution_count": 84,
     "metadata": {},
     "output_type": "execute_result"
    }
   ],
   "execution_count": 84
  },
  {
   "cell_type": "code",
   "id": "fuzzy-integrity",
   "metadata": {
    "execution": {
     "iopub.execute_input": "2022-05-29T09:02:50.507748Z",
     "iopub.status.busy": "2022-05-29T09:02:50.506843Z",
     "iopub.status.idle": "2022-05-29T09:02:50.568079Z",
     "shell.execute_reply": "2022-05-29T09:02:50.567611Z",
     "shell.execute_reply.started": "2021-06-05T17:34:40.067701Z"
    },
    "papermill": {
     "duration": 0.117889,
     "end_time": "2022-05-29T09:02:50.568205",
     "exception": false,
     "start_time": "2022-05-29T09:02:50.450316",
     "status": "completed"
    },
    "tags": [],
    "ExecuteTime": {
     "end_time": "2024-06-11T18:07:37.491662Z",
     "start_time": "2024-06-11T18:07:37.454049Z"
    }
   },
   "source": [
    "# include 1-grams and 2-grams\n",
    "\n",
    "# how to differentiate between \"Happy\", \"Not Happy\", \"Very Happy\"\n",
    "vect2 = CountVectorizer(ngram_range=(1, 2))\n",
    "\n",
    "X_train_2 = vect2.fit_transform(X_train)\n",
    "\n",
    "X_train_2"
   ],
   "outputs": [
    {
     "data": {
      "text/plain": [
       "<1120x16202 sparse matrix of type '<class 'numpy.int64'>'\n",
       "\twith 38194 stored elements in Compressed Sparse Row format>"
      ]
     },
     "execution_count": 85,
     "metadata": {},
     "output_type": "execute_result"
    }
   ],
   "execution_count": 85
  },
  {
   "cell_type": "code",
   "id": "afraid-threshold",
   "metadata": {
    "execution": {
     "iopub.execute_input": "2022-05-29T09:02:50.689585Z",
     "iopub.status.busy": "2022-05-29T09:02:50.688689Z",
     "iopub.status.idle": "2022-05-29T09:02:50.699973Z",
     "shell.execute_reply": "2022-05-29T09:02:50.699494Z",
     "shell.execute_reply.started": "2021-06-05T17:34:40.163226Z"
    },
    "papermill": {
     "duration": 0.082974,
     "end_time": "2022-05-29T09:02:50.700098",
     "exception": false,
     "start_time": "2022-05-29T09:02:50.617124",
     "status": "completed"
    },
    "tags": [],
    "ExecuteTime": {
     "end_time": "2024-06-11T18:07:40.558220Z",
     "start_time": "2024-06-11T18:07:40.537298Z"
    }
   },
   "source": [
    "# ignore terms that appear in more than 50% of the documents\n",
    "vect3 = CountVectorizer(max_df=0.5)\n",
    "\n",
    "X_train_3 = vect3.fit_transform(X_train)\n",
    "\n",
    "X_train_3"
   ],
   "outputs": [
    {
     "data": {
      "text/plain": [
       "<1120x3993 sparse matrix of type '<class 'numpy.int64'>'\n",
       "\twith 19009 stored elements in Compressed Sparse Row format>"
      ]
     },
     "execution_count": 86,
     "metadata": {},
     "output_type": "execute_result"
    }
   ],
   "execution_count": 86
  },
  {
   "cell_type": "code",
   "id": "micro-bouquet",
   "metadata": {
    "execution": {
     "iopub.execute_input": "2022-05-29T09:02:50.822429Z",
     "iopub.status.busy": "2022-05-29T09:02:50.821465Z",
     "iopub.status.idle": "2022-05-29T09:02:50.830299Z",
     "shell.execute_reply": "2022-05-29T09:02:50.830745Z",
     "shell.execute_reply.started": "2021-06-05T17:34:40.207795Z"
    },
    "papermill": {
     "duration": 0.081684,
     "end_time": "2022-05-29T09:02:50.830911",
     "exception": false,
     "start_time": "2022-05-29T09:02:50.749227",
     "status": "completed"
    },
    "tags": [],
    "ExecuteTime": {
     "end_time": "2024-06-11T18:07:42.864005Z",
     "start_time": "2024-06-11T18:07:42.846819Z"
    }
   },
   "source": [
    "# only keep terms that appear in at least 2 documents\n",
    "vect4 = CountVectorizer(min_df=2)\n",
    "\n",
    "X_train_4 = vect4.fit_transform(X_train)\n",
    "\n",
    "X_train_4"
   ],
   "outputs": [
    {
     "data": {
      "text/plain": [
       "<1120x1725 sparse matrix of type '<class 'numpy.int64'>'\n",
       "\twith 16741 stored elements in Compressed Sparse Row format>"
      ]
     },
     "execution_count": 87,
     "metadata": {},
     "output_type": "execute_result"
    }
   ],
   "execution_count": 87
  },
  {
   "cell_type": "code",
   "id": "forbidden-textbook",
   "metadata": {
    "execution": {
     "iopub.execute_input": "2022-05-29T09:02:50.935632Z",
     "iopub.status.busy": "2022-05-29T09:02:50.934809Z",
     "iopub.status.idle": "2022-05-29T09:02:50.938096Z",
     "shell.execute_reply": "2022-05-29T09:02:50.937631Z",
     "shell.execute_reply.started": "2021-06-05T17:34:40.252995Z"
    },
    "papermill": {
     "duration": 0.05668,
     "end_time": "2022-05-29T09:02:50.938220",
     "exception": false,
     "start_time": "2022-05-29T09:02:50.881540",
     "status": "completed"
    },
    "tags": [],
    "ExecuteTime": {
     "end_time": "2024-06-11T18:07:44.237773Z",
     "start_time": "2024-06-11T18:07:44.234950Z"
    }
   },
   "source": [
    "vect_combined= CountVectorizer(stop_words='english',ngram_range=(1, 2),min_df=2,max_df=0.5)"
   ],
   "outputs": [],
   "execution_count": 88
  },
  {
   "cell_type": "code",
   "id": "specific-emperor",
   "metadata": {
    "execution": {
     "iopub.execute_input": "2022-05-29T09:02:51.046212Z",
     "iopub.status.busy": "2022-05-29T09:02:51.045659Z",
     "iopub.status.idle": "2022-05-29T09:02:51.095187Z",
     "shell.execute_reply": "2022-05-29T09:02:51.095594Z",
     "shell.execute_reply.started": "2021-06-05T17:34:40.258092Z"
    },
    "papermill": {
     "duration": 0.108363,
     "end_time": "2022-05-29T09:02:51.095752",
     "exception": false,
     "start_time": "2022-05-29T09:02:50.987389",
     "status": "completed"
    },
    "tags": [],
    "ExecuteTime": {
     "end_time": "2024-06-11T18:07:45.019574Z",
     "start_time": "2024-06-11T18:07:44.990408Z"
    }
   },
   "source": [
    "X_train_c = vect_combined.fit_transform(X_train)\n",
    "X_test_c = vect_combined.transform(X_test)\n",
    "\n",
    "X_train_c"
   ],
   "outputs": [
    {
     "data": {
      "text/plain": [
       "<1120x3113 sparse matrix of type '<class 'numpy.int64'>'\n",
       "\twith 15014 stored elements in Compressed Sparse Row format>"
      ]
     },
     "execution_count": 89,
     "metadata": {},
     "output_type": "execute_result"
    }
   ],
   "execution_count": 89
  },
  {
   "cell_type": "code",
   "id": "every-deficit",
   "metadata": {
    "execution": {
     "iopub.execute_input": "2022-05-29T09:02:51.197477Z",
     "iopub.status.busy": "2022-05-29T09:02:51.196910Z",
     "iopub.status.idle": "2022-05-29T09:02:51.203421Z",
     "shell.execute_reply": "2022-05-29T09:02:51.203865Z",
     "shell.execute_reply.started": "2021-06-05T17:34:40.344203Z"
    },
    "papermill": {
     "duration": 0.059006,
     "end_time": "2022-05-29T09:02:51.204015",
     "exception": false,
     "start_time": "2022-05-29T09:02:51.145009",
     "status": "completed"
    },
    "tags": [],
    "ExecuteTime": {
     "end_time": "2024-06-11T18:07:47.040878Z",
     "start_time": "2024-06-11T18:07:47.034573Z"
    }
   },
   "source": [
    "# 1. import\n",
    "from sklearn.naive_bayes import MultinomialNB\n",
    "\n",
    "# 2. instantiate a Multinomial Naive Bayes model\n",
    "nb = MultinomialNB()\n",
    "\n",
    "nb.fit(X_train_c, y_train)\n",
    "\n",
    "y_pred_class = nb.predict(X_test_c)\n",
    "\n",
    "nb_cf_matrix=metrics.confusion_matrix(y_test, y_pred_class)"
   ],
   "outputs": [],
   "execution_count": 90
  },
  {
   "cell_type": "code",
   "id": "behind-season",
   "metadata": {
    "execution": {
     "iopub.execute_input": "2022-05-29T09:02:51.315066Z",
     "iopub.status.busy": "2022-05-29T09:02:51.305662Z",
     "iopub.status.idle": "2022-05-29T09:02:51.520191Z",
     "shell.execute_reply": "2022-05-29T09:02:51.520643Z",
     "shell.execute_reply.started": "2021-06-05T17:34:40.355715Z"
    },
    "papermill": {
     "duration": 0.267456,
     "end_time": "2022-05-29T09:02:51.520810",
     "exception": false,
     "start_time": "2022-05-29T09:02:51.253354",
     "status": "completed"
    },
    "tags": [],
    "ExecuteTime": {
     "end_time": "2024-06-11T18:07:48.587752Z",
     "start_time": "2024-06-11T18:07:48.503354Z"
    }
   },
   "source": [
    "plt.figure(figsize=(8,5))\n",
    "sns.heatmap(nb_cf_matrix, annot=True, fmt='d')"
   ],
   "outputs": [
    {
     "data": {
      "text/plain": [
       "<Axes: >"
      ]
     },
     "execution_count": 91,
     "metadata": {},
     "output_type": "execute_result"
    },
    {
     "data": {
      "text/plain": [
       "<Figure size 800x500 with 2 Axes>"
      ],
      "image/png": "[encoded data removed]"
     },
     "metadata": {},
     "output_type": "display_data"
    }
   ],
   "execution_count": 91
  }
 ],
 "metadata": {
  "kernelspec": {
   "display_name": "Python 3",
   "language": "python",
   "name": "python3"
  },
  "language_info": {
   "codemirror_mode": {
    "name": "ipython",
    "version": 3
   },
   "file_extension": ".py",
   "mimetype": "text/x-python",
   "name": "python",
   "nbconvert_exporter": "python",
   "pygments_lexer": "ipython3",
   "version": "3.7.10"
  },
  "papermill": {
   "default_parameters": {},
   "duration": 17.834047,
   "end_time": "2022-05-29T09:02:53.431382",
   "environment_variables": {},
   "exception": null,
   "input_path": "__notebook__.ipynb",
   "output_path": "__notebook__.ipynb",
   "parameters": {},
   "start_time": "2022-05-29T09:02:35.597335",
   "version": "2.3.3"
  }
 },
 "nbformat": 4,
 "nbformat_minor": 5
}
